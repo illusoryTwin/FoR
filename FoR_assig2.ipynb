{
  "nbformat": 4,
  "nbformat_minor": 0,
  "metadata": {
    "colab": {
      "provenance": [],
      "authorship_tag": "ABX9TyMxNEpqAYkUUIpzymqPjAV8",
      "include_colab_link": true
    },
    "kernelspec": {
      "name": "python3",
      "display_name": "Python 3"
    },
    "language_info": {
      "name": "python"
    }
  },
  "cells": [
    {
      "cell_type": "markdown",
      "metadata": {
        "id": "view-in-github",
        "colab_type": "text"
      },
      "source": [
        "<a href=\"https://colab.research.google.com/github/illusoryTwin/FoR/blob/main/FoR_assig2.ipynb\" target=\"_parent\"><img src=\"https://colab.research.google.com/assets/colab-badge.svg\" alt=\"Open In Colab\"/></a>"
      ]
    },
    {
      "cell_type": "markdown",
      "source": [
        "# Forward kinematics\n",
        "### Let's introduce forward kinematics functions - they will help us while solving inverse kinematics problem"
      ],
      "metadata": {
        "id": "gGFeHDF8eRVg"
      }
    },
    {
      "cell_type": "markdown",
      "source": [
        "### Forward kinematics (symbolic)"
      ],
      "metadata": {
        "id": "YLFbpAZtE-U4"
      }
    },
    {
      "cell_type": "code",
      "source": [
        "import numpy as np\n",
        "import sympy as sp\n",
        "\n",
        "def rotate_x_sym(theta):\n",
        "    cos_theta = sp.cos(theta)\n",
        "    sin_theta = sp.sin(theta)\n",
        "    rot_matrix_x = sp.Matrix([[1, 0, 0, 0],\n",
        "                              [0, cos_theta, -sin_theta, 0],\n",
        "                              [0, sin_theta, cos_theta, 0],\n",
        "                              [0, 0, 0, 1]])\n",
        "    return rot_matrix_x\n",
        "\n",
        "def rotate_y_sym(theta):\n",
        "    cos_theta = sp.cos(theta)\n",
        "    sin_theta = sp.sin(theta)\n",
        "    rot_matrix_y = sp.Matrix([[cos_theta, 0, sin_theta, 0],\n",
        "                              [0, 1, 0, 0],\n",
        "                              [-sin_theta, 0, cos_theta, 0],\n",
        "                              [0, 0, 0, 1]])\n",
        "    return rot_matrix_y\n",
        "\n",
        "def rotate_z_sym(theta):\n",
        "    cos_theta = sp.cos(theta)\n",
        "    sin_theta = sp.sin(theta)\n",
        "    rot_matrix_z = sp.Matrix([[cos_theta, -sin_theta, 0, 0],\n",
        "                              [sin_theta, cos_theta, 0, 0],\n",
        "                              [0, 0, 1, 0],\n",
        "                              [0, 0, 0, 1]])\n",
        "    return rot_matrix_z\n",
        "\n",
        "def translate_x_sym(dx):\n",
        "    translation_matrix_x = sp.Matrix([[1, 0, 0, dx],\n",
        "                                      [0, 1, 0, 0],\n",
        "                                      [0, 0, 1, 0],\n",
        "                                      [0, 0, 0, 1]])\n",
        "    return translation_matrix_x\n",
        "\n",
        "def translate_y_sym(dy):\n",
        "    translation_matrix_y = sp.Matrix([[1, 0, 0, 0],\n",
        "                                      [0, 1, 0, dy],\n",
        "                                      [0, 0, 1, 0],\n",
        "                                      [0, 0, 0, 1]])\n",
        "    return translation_matrix_y\n",
        "\n",
        "def translate_z_sym(dz):\n",
        "    translation_matrix_z = sp.Matrix([[1, 0, 0, 0],\n",
        "                                      [0, 1, 0, 0],\n",
        "                                      [0, 0, 1, dz],\n",
        "                                      [0, 0, 0, 1]])\n",
        "    return translation_matrix_z\n"
      ],
      "metadata": {
        "id": "B7i_lu0RaHKg"
      },
      "execution_count": 1,
      "outputs": []
    },
    {
      "cell_type": "markdown",
      "source": [
        "# Let's derive the theoretical solution for the inverse kinematics problem\n",
        "\n",
        "### The vector above is a column vector of translation from the matrix of transformation for the wrist center. It defines the position of the end-effector.\n",
        "\n",
        "Dividing the second element of the vector by the first, we can retrieve $q_1$.\n",
        "\n",
        "\n",
        "$$\\tan(q_1) = -\\dfrac{x}{y}$$\n"
      ],
      "metadata": {
        "id": "U6NbdjRaPsiZ"
      }
    },
    {
      "cell_type": "code",
      "source": [
        "theta1, theta2, theta3, l1, l2, l3, l4 = sp.symbols('theta1 theta2 theta3 l1 l2 l3 l4')\n",
        "\n",
        "def forward_kinematics_for_wrist_center_sym():\n",
        "    T_0 = np.identity(4)\n",
        "    T_01 = rotate_z_sym(theta1) @ translate_z_sym(l1) @ rotate_z_sym(sp.pi/2) @ rotate_x_sym(sp.pi/2)\n",
        "    T_12 = rotate_z_sym(theta2) @ translate_x_sym(l2)\n",
        "    T_23 = rotate_z_sym(theta3) @ translate_x_sym(l3+l4) @ rotate_y_sym(sp.pi/2) @ rotate_z_sym(sp.pi/2)\n",
        "    T_ee_center = T_0 @ T_01 @ T_12 @ T_23\n",
        "    return T_ee_center\n",
        "\n",
        "wrist_center_config_matrix_symb = forward_kinematics_for_wrist_center_sym()\n",
        "\n",
        "# Substitute numerical values into symbolic expression\n",
        "numerical_subs = {l1: 0.3, l2: 1, l3: 0.3, l4: 0.5}\n",
        "wrist_center_config_matrix_symb = wrist_center_config_matrix_symb.subs(numerical_subs)\n",
        "\n",
        "# Convert pi symbol to numpy pi value\n",
        "wrist_center_config_symb = wrist_center_config_matrix_symb.subs(sp.pi, np.pi)[:3, 3]\n",
        "wrist_center_config_symb"
      ],
      "metadata": {
        "colab": {
          "base_uri": "https://localhost:8080/",
          "height": 78
        },
        "id": "9TdA86hXNSdc",
        "outputId": "72df1aef-eeac-478f-cbe3-55ac56517f8b"
      },
      "execution_count": 2,
      "outputs": [
        {
          "output_type": "execute_result",
          "data": {
            "text/plain": [
              "Matrix([\n",
              "[ 0.8*sin(theta1)*sin(theta2)*sin(theta3) - 0.8*sin(theta1)*cos(theta2)*cos(theta3) - 1.0*sin(theta1)*cos(theta2)],\n",
              "[-0.8*sin(theta2)*sin(theta3)*cos(theta1) + 0.8*cos(theta1)*cos(theta2)*cos(theta3) + 1.0*cos(theta1)*cos(theta2)],\n",
              "[                               0.8*sin(theta2)*cos(theta3) + 1.0*sin(theta2) + 0.8*sin(theta3)*cos(theta2) + 0.3]])"
            ],
            "text/latex": "$\\displaystyle \\left[\\begin{matrix}0.8 \\sin{\\left(\\theta_{1} \\right)} \\sin{\\left(\\theta_{2} \\right)} \\sin{\\left(\\theta_{3} \\right)} - 0.8 \\sin{\\left(\\theta_{1} \\right)} \\cos{\\left(\\theta_{2} \\right)} \\cos{\\left(\\theta_{3} \\right)} - 1.0 \\sin{\\left(\\theta_{1} \\right)} \\cos{\\left(\\theta_{2} \\right)}\\\\- 0.8 \\sin{\\left(\\theta_{2} \\right)} \\sin{\\left(\\theta_{3} \\right)} \\cos{\\left(\\theta_{1} \\right)} + 0.8 \\cos{\\left(\\theta_{1} \\right)} \\cos{\\left(\\theta_{2} \\right)} \\cos{\\left(\\theta_{3} \\right)} + 1.0 \\cos{\\left(\\theta_{1} \\right)} \\cos{\\left(\\theta_{2} \\right)}\\\\0.8 \\sin{\\left(\\theta_{2} \\right)} \\cos{\\left(\\theta_{3} \\right)} + 1.0 \\sin{\\left(\\theta_{2} \\right)} + 0.8 \\sin{\\left(\\theta_{3} \\right)} \\cos{\\left(\\theta_{2} \\right)} + 0.3\\end{matrix}\\right]$"
          },
          "metadata": {},
          "execution_count": 2
        }
      ]
    },
    {
      "cell_type": "markdown",
      "source": [
        "# Calculate $R_{36}$ to find $q_4$, $q_5$, $q_6$"
      ],
      "metadata": {
        "id": "Yk0K5xWK-znM"
      }
    },
    {
      "cell_type": "code",
      "source": [
        "import sympy as sp\n",
        "import numpy as np\n",
        "\n",
        "# Define symbolic variables\n",
        "theta1, theta2, theta3, theta4, theta5, theta6, l1, l2, l3, l4, l5, l6 = sp.symbols('theta1 theta2 theta3 theta4 theta5 theta6 l1 l2 l3 l4 l5 l6')\n",
        "\n",
        "# Define symbolic rotation and translation matrices\n",
        "def rotate_z(theta):\n",
        "    return sp.Matrix([[sp.cos(theta), -sp.sin(theta), 0, 0],\n",
        "                      [sp.sin(theta), sp.cos(theta), 0, 0],\n",
        "                      [0, 0, 1, 0],\n",
        "                      [0, 0, 0, 1]])\n",
        "\n",
        "def translate_z(d):\n",
        "    return sp.Matrix([[1, 0, 0, 0],\n",
        "                      [0, 1, 0, 0],\n",
        "                      [0, 0, 1, d],\n",
        "                      [0, 0, 0, 1]])\n",
        "\n",
        "def rotate_x(theta):\n",
        "    return sp.Matrix([[1, 0, 0, 0],\n",
        "                      [0, sp.cos(theta), -sp.sin(theta), 0],\n",
        "                      [0, sp.sin(theta), sp.cos(theta), 0],\n",
        "                      [0, 0, 0, 1]])\n",
        "\n",
        "def translate_y(d):\n",
        "    return sp.Matrix([[1, 0, 0, 0],\n",
        "                      [0, 1, 0, d],\n",
        "                      [0, 0, 1, 0],\n",
        "                      [0, 0, 0, 1]])\n",
        "\n",
        "# Define the wrist configuration function\n",
        "def wrist_config(theta1, theta2, theta3, theta4, theta5, theta6):\n",
        "    T_0 = sp.eye(4)\n",
        "    T_34 = rotate_z(theta4) * translate_z(l4) * rotate_x(-sp.pi/2) * rotate_z(-sp.pi)\n",
        "    T_45 = rotate_z(theta5) * translate_y(l5) * rotate_x(-sp.pi/2)\n",
        "    T_56 = rotate_z(theta6) * translate_z(l6)\n",
        "\n",
        "    T = T_0 * T_34 * T_45 * T_56\n",
        "\n",
        "    R = T[0:3, 0:3]  # Extract the 3x3 rotational matrix from the top-left corner\n",
        "    return R\n",
        "\n",
        "# Symbolically solve the wrist configuration\n",
        "wrist_config_symb = wrist_config(theta1, theta2, theta3, theta4, theta5, theta6)\n",
        "\n",
        "# Substitute numerical values for l1, l2, ..., l6\n",
        "numerical_subs = {l1: 0.3, l2: 1, l3: 0.3, l4: 0.5, l5: 0.3, l6: 0.4}\n",
        "wrist_config_numerical = wrist_config_symb.subs(numerical_subs)\n",
        "\n",
        "# Evaluate the numerical result\n",
        "wr_center = wrist_config_numerical.evalf()\n",
        "wr_center"
      ],
      "metadata": {
        "colab": {
          "base_uri": "https://localhost:8080/",
          "height": 78
        },
        "id": "w_EucTm5-mYD",
        "outputId": "dff33463-a4bd-4d51-b10a-5ad1f2ae84bd"
      },
      "execution_count": 3,
      "outputs": [
        {
          "output_type": "execute_result",
          "data": {
            "text/plain": [
              "Matrix([\n",
              "[ sin(theta4)*sin(theta6) - cos(theta4)*cos(theta5)*cos(theta6), sin(theta4)*cos(theta6) + sin(theta6)*cos(theta4)*cos(theta5), sin(theta5)*cos(theta4)],\n",
              "[-sin(theta4)*cos(theta5)*cos(theta6) - sin(theta6)*cos(theta4), sin(theta4)*sin(theta6)*cos(theta5) - cos(theta4)*cos(theta6), sin(theta4)*sin(theta5)],\n",
              "[                                       sin(theta5)*cos(theta6),                                      -sin(theta5)*sin(theta6),             cos(theta5)]])"
            ],
            "text/latex": "$\\displaystyle \\left[\\begin{matrix}\\sin{\\left(\\theta_{4} \\right)} \\sin{\\left(\\theta_{6} \\right)} - \\cos{\\left(\\theta_{4} \\right)} \\cos{\\left(\\theta_{5} \\right)} \\cos{\\left(\\theta_{6} \\right)} & \\sin{\\left(\\theta_{4} \\right)} \\cos{\\left(\\theta_{6} \\right)} + \\sin{\\left(\\theta_{6} \\right)} \\cos{\\left(\\theta_{4} \\right)} \\cos{\\left(\\theta_{5} \\right)} & \\sin{\\left(\\theta_{5} \\right)} \\cos{\\left(\\theta_{4} \\right)}\\\\- \\sin{\\left(\\theta_{4} \\right)} \\cos{\\left(\\theta_{5} \\right)} \\cos{\\left(\\theta_{6} \\right)} - \\sin{\\left(\\theta_{6} \\right)} \\cos{\\left(\\theta_{4} \\right)} & \\sin{\\left(\\theta_{4} \\right)} \\sin{\\left(\\theta_{6} \\right)} \\cos{\\left(\\theta_{5} \\right)} - \\cos{\\left(\\theta_{4} \\right)} \\cos{\\left(\\theta_{6} \\right)} & \\sin{\\left(\\theta_{4} \\right)} \\sin{\\left(\\theta_{5} \\right)}\\\\\\sin{\\left(\\theta_{5} \\right)} \\cos{\\left(\\theta_{6} \\right)} & - \\sin{\\left(\\theta_{5} \\right)} \\sin{\\left(\\theta_{6} \\right)} & \\cos{\\left(\\theta_{5} \\right)}\\end{matrix}\\right]$"
          },
          "metadata": {},
          "execution_count": 3
        }
      ]
    },
    {
      "cell_type": "markdown",
      "source": [
        "# **SOLUTION for the inverse kinematics problem**\n",
        "# Let's define forward kinematics functions\n",
        "\n"
      ],
      "metadata": {
        "id": "R5SeT06LP0lv"
      }
    },
    {
      "cell_type": "code",
      "source": [
        "import numpy as np\n",
        "\n",
        "# Define the robot's geometry\n",
        "l1 = 0.3\n",
        "l2 = 1\n",
        "l3 = 0.3\n",
        "l4 = 0.5\n",
        "l5 = 0.3\n",
        "l6 = 0.4\n",
        "\n",
        "# l1 = 1\n",
        "# l2 = 1\n",
        "# l3 = 1\n",
        "# l4 = 1\n",
        "# l5 = 1\n",
        "# l6 = 1\n",
        "\n",
        "# Define rotation and translation functions\n",
        "def rotate_z(theta):\n",
        "    return np.array([[np.cos(theta), -np.sin(theta), 0, 0],\n",
        "                     [np.sin(theta), np.cos(theta), 0, 0],\n",
        "                     [0, 0, 1, 0],\n",
        "                     [0, 0, 0, 1]])\n",
        "\n",
        "def rotate_x(theta):\n",
        "    return np.array([[1, 0, 0, 0],\n",
        "                     [0, np.cos(theta), -np.sin(theta), 0],\n",
        "                     [0, np.sin(theta), np.cos(theta), 0],\n",
        "                     [0, 0, 0, 1]])\n",
        "\n",
        "def rotate_y(theta):\n",
        "    return np.array([[np.cos(theta), 0, np.sin(theta), 0],\n",
        "                     [0, 1, 0, 0],\n",
        "                     [-np.sin(theta), 0, np.cos(theta), 0],\n",
        "                     [0, 0, 0, 1]])\n",
        "\n",
        "def translate_x(d):\n",
        "    return np.array([[1, 0, 0, d],\n",
        "                     [0, 1, 0, 0],\n",
        "                     [0, 0, 1, 0],\n",
        "                     [0, 0, 0, 1]])\n",
        "\n",
        "def translate_y(d):\n",
        "    return np.array([[1, 0, 0, 0],\n",
        "                     [0, 1, 0, d],\n",
        "                     [0, 0, 1, 0],\n",
        "                     [0, 0, 0, 1]])\n",
        "\n",
        "def translate_z(d):\n",
        "    return np.array([[1, 0, 0, 0],\n",
        "                     [0, 1, 0, 0],\n",
        "                     [0, 0, 1, d],\n",
        "                     [0, 0, 0, 1]])\n",
        "\n",
        "def validate_matrix(matrix):\n",
        "\n",
        "    tolerance = 1e-12\n",
        "    # Define a function to check if a value is close to zero within the tolerance\n",
        "    def is_close_to_zero(value):\n",
        "        return abs(value) < tolerance\n",
        "\n",
        "    # Iterate through each element in the matrix\n",
        "    for i in range(matrix.shape[0]):\n",
        "        for j in range(matrix.shape[1]):\n",
        "            # If the element is close to zero, set it to zero\n",
        "            if is_close_to_zero(matrix[i][j]):\n",
        "                matrix[i][j] = 0\n",
        "\n",
        "\n",
        "def retrieve_rot_matrix(matrix):\n",
        "    return matrix[:3, :3]\n",
        "\n",
        "# Define the forward kinematics function for the manipulator\n",
        "def forward_kinematics(q):\n",
        "    theta1, theta2, theta3, theta4, theta5, theta6 = q\n",
        "    T_0 = np.identity(4)\n",
        "    T_01 = rotate_z(theta1) @ translate_z(l1) @ rotate_z(np.pi/2) @ rotate_x(np.pi/2)\n",
        "    T_12 = rotate_z(theta2) @ translate_x(l2)\n",
        "    T_23 = rotate_z(theta3) @ translate_x(l3) @ rotate_y(np.pi/2) @ rotate_z(np.pi/2)\n",
        "    T_34 = rotate_z(theta4) @ translate_z(l4) @ rotate_x(-np.pi/2) @ rotate_z(-np.pi)\n",
        "    T_45 = rotate_z(theta5) @ translate_y(l5) @ rotate_x(-np.pi/2)\n",
        "    T_56 = rotate_z(theta6) @ translate_z(l6)\n",
        "\n",
        "    T = T_0 @ T_01 @ T_12 @ T_23 @ T_34 @ T_45 @ T_56\n",
        "\n",
        "    # Validate the matrix\n",
        "    validate_matrix(T)\n",
        "\n",
        "    return T\n",
        "\n",
        "# Define the forward kinematics function for the center\n",
        "def forward_kinematics_for_wr_center(q):\n",
        "    theta1, theta2, theta3, theta4, theta5, theta6 = q\n",
        "    T_0 = np.identity(4)\n",
        "    T_01 = rotate_z(theta1) @ translate_z(l1) @ rotate_z(np.pi/2) @ rotate_x(np.pi/2)\n",
        "    T_12 = rotate_z(theta2) @ translate_x(l2)\n",
        "    T_23_ = rotate_z(theta3) @ translate_x(l3+l4) @ rotate_y(np.pi/2) @ rotate_z(np.pi/2)\n",
        "\n",
        "    T = T_0 @ T_01 @ T_12 @ T_23_\n",
        "\n",
        "    # Validate the matrix\n",
        "    validate_matrix(T)\n",
        "\n",
        "    return T\n",
        "\n",
        "def forward_kinematics_for_elbow(theta1, theta2, theta3):\n",
        "    T_0 = np.identity(4)\n",
        "    T_01 = rotate_z(theta1) @ translate_z(l1) @ rotate_z(np.pi/2) @ rotate_x(np.pi/2)\n",
        "    T_12 = rotate_z(theta2) @ translate_x(l2)\n",
        "    T_23 = rotate_z(theta3) @ translate_x(l3) @ rotate_y(np.pi/2) @ rotate_z(np.pi/2)\n",
        "\n",
        "    T = T_0 @ T_01 @ T_12 @ T_23\n",
        "\n",
        "    # Validate the matrix\n",
        "    validate_matrix(T)\n",
        "\n",
        "    return T\n",
        "\n",
        "\n",
        "# Calculate the forward kinematics\n",
        "q = [0, 0, 0, 0, 0, np.pi/6]\n",
        "solution1 = forward_kinematics_for_wr_center(q)\n",
        "solution1_ee = forward_kinematics(q)\n",
        "print(solution1_ee)\n"
      ],
      "metadata": {
        "colab": {
          "base_uri": "https://localhost:8080/"
        },
        "id": "jnaHuL4KJbXt",
        "outputId": "797bb1ef-afc3-4ceb-e556-00b6edc7d649"
      },
      "execution_count": 6,
      "outputs": [
        {
          "output_type": "stream",
          "name": "stdout",
          "text": [
            "[[-0.5       -0.8660254  0.         0.       ]\n",
            " [ 0.         0.         1.         2.5      ]\n",
            " [-0.8660254  0.5        0.         0.3      ]\n",
            " [ 0.         0.         0.         1.       ]]\n"
          ]
        }
      ]
    },
    {
      "cell_type": "markdown",
      "source": [
        "# Inverse kinematics for a single configuration"
      ],
      "metadata": {
        "id": "krTNS5iKJ6lI"
      }
    },
    {
      "cell_type": "code",
      "source": [
        "# This function gets a single robot configuration and returns the angles\n",
        "\n",
        "def inverse_kinematics(q):\n",
        "\n",
        "    wrist_center = forward_kinematics_for_wr_center(q)\n",
        "\n",
        "    x = wrist_center[0][3]\n",
        "    y = wrist_center[1][3]\n",
        "    z = wrist_center[2][3]\n",
        "\n",
        "    # q1\n",
        "    try:\n",
        "        q1 = np.arctan2(-x, y)\n",
        "    except ZeroDivisionError:\n",
        "        q1 = 0\n",
        "\n",
        "    # q3\n",
        "    q3_ = np.arccos(((z-l1)**2 + (x**2+y**2)- l2**2 - (l3+l4)**2)/(2*l2*(l3+l4)))\n",
        "\n",
        "    if q3_ == 0 or q3_ == np.pi:\n",
        "      q3 = np.pi/2\n",
        "      print(\"Singularity detected! Adjusted q3 to pi/2\")\n",
        "\n",
        "    else:\n",
        "      q3 = q3_\n",
        "\n",
        "    # try:\n",
        "    #   q3 = np.arccos(((z-l1)**2 + (x**2+y**2)- l2**2 - (l3+l4)**2)/(2*l2*(l3+l4)))\n",
        "    # except ValueError:\n",
        "    #   if q3 == 0 or q3 == np.pi:\n",
        "    #   # if np.isclose(q3, 0) or np.isclose(q3, np.pi):\n",
        "    #     q3 = np.pi/2  # Adjust q3 if singularities occur\n",
        "    #     print(\"Singularity detected! Adjusted q3 to pi/2\")\n",
        "\n",
        "    # q3 = np.arccos(((z-l1)**2 + (x**2+y**2)- l2**2 - (l3+l4)**2)/(2*l2*(l3+l4)))\n",
        "\n",
        "\n",
        "    r = np.sqrt(x**2+y**2)\n",
        "    s = z - l1\n",
        "\n",
        "    q2 = np.arcsin(((l2+(l3+l4)*np.cos(q3))*s - (l3+l4)*np.sin(q3)*r)/(r**2+s**2))\n",
        "\n",
        "\n",
        "\n",
        "    ee_config = forward_kinematics(q)\n",
        "\n",
        "\n",
        "    R06 = retrieve_rot_matrix(ee_config)\n",
        "    R03 = retrieve_rot_matrix(forward_kinematics_for_elbow(q1, q2, q3))\n",
        "    R03_T = R03.transpose()\n",
        "    R36 = R03_T @ retrieve_rot_matrix(ee_config)\n",
        "    validate_matrix(R36)\n",
        "    R36 = retrieve_rot_matrix(R36)\n",
        "\n",
        "    q4 = 0\n",
        "\n",
        "    if R36[0][2] == 0:\n",
        "      q4 = np.pi/2\n",
        "    else:\n",
        "      q4 = np.arctan(R36[1][2]/R36[0][2])\n",
        "\n",
        "\n",
        "    sin5 = 0\n",
        "    q5_ = 0\n",
        "    if np.sin(q4) == 0:\n",
        "      q5_ = np.arccos(R36[2][2])\n",
        "    elif np.sign(R36[1][2])/np.sign(np.sin(q4)) > 0:\n",
        "      sin5 = np.sqrt(R36[0][2]**2 + R36[1][2]**2)\n",
        "      q5_ = np.arctan2(sin5, R36[2][2])\n",
        "\n",
        "    elif np.sign(R36[1][2])/np.sin(q4) < 0:\n",
        "      sin5 = -np.sqrt(R36[0][2]**2 + R36[1][2]**2)\n",
        "      q5_ = np.arctan2(sin5, R36[2][2])\n",
        "\n",
        "    if q5_ == 0 or q5_ == np.pi:\n",
        "      q5 = np.pi/2\n",
        "      print(\"Singularity detected! Adjusted q5 to pi/2\")\n",
        "    else:\n",
        "      q5 = q5_\n",
        "\n",
        "\n",
        "    if R36[2][1] == R36[2][0] == 0:\n",
        "      q6 = 0\n",
        "    elif R36[2][0] == 0:\n",
        "      q6 = np.pi/2\n",
        "    else:\n",
        "      q6 = np.arctan(-R36[2][1]/R36[2][0])\n",
        "\n",
        "    q = (q1, q2, q3, q4, q5, q6)\n",
        "\n",
        "    return q\n",
        "\n",
        "def show_formatted_solution(q):\n",
        "    formatted_q = [\"{:.6f}π\".format(angle / np.pi) for angle in q]\n",
        "    print(formatted_q)"
      ],
      "metadata": {
        "id": "H2JRHoq9W16i"
      },
      "execution_count": 74,
      "outputs": []
    },
    {
      "cell_type": "markdown",
      "source": [
        "## Let's solve inverse kinematics for different positions"
      ],
      "metadata": {
        "id": "zCPCoMoNOh6v"
      }
    },
    {
      "cell_type": "code",
      "source": [
        "q1 = [np.pi/2, -np.pi/4, np.pi/6, np.pi/3, -np.pi/6, np.pi/4]\n",
        "solution1 = inverse_kinematics(q1)\n",
        "show_formatted_solution(solution1)"
      ],
      "metadata": {
        "colab": {
          "base_uri": "https://localhost:8080/"
        },
        "id": "lq0tYxRoObhF",
        "outputId": "06ec232a-54f1-4d40-92f8-dfd44906a9ed"
      },
      "execution_count": 8,
      "outputs": [
        {
          "output_type": "stream",
          "name": "stdout",
          "text": [
            "['0.500000π', '-0.250000π', '0.166667π', '0.333333π', '-0.166667π', '0.250000π']\n"
          ]
        }
      ]
    },
    {
      "cell_type": "code",
      "source": [
        "q2 = [0, -np.pi/4, np.pi/3, np.pi/3, -np.pi/6, -np.pi/3]\n",
        "solution2 = inverse_kinematics(q2)\n",
        "show_formatted_solution(solution2)"
      ],
      "metadata": {
        "colab": {
          "base_uri": "https://localhost:8080/"
        },
        "id": "tkMBWy5iOd__",
        "outputId": "687dc3f5-05b8-45bd-bd92-fd2795bff7fc"
      },
      "execution_count": 54,
      "outputs": [
        {
          "output_type": "stream",
          "name": "stdout",
          "text": [
            "['-0.000000π', '-0.250000π', '0.333333π', '0.333333π', '-0.166667π', '-0.333333π']\n"
          ]
        }
      ]
    },
    {
      "cell_type": "code",
      "source": [
        "q3 = [0, -np.pi/4, np.pi/3, np.pi/3, 0, -np.pi/3]\n",
        "solution3 = inverse_kinematics(q3)\n",
        "show_formatted_solution(solution3)"
      ],
      "metadata": {
        "colab": {
          "base_uri": "https://localhost:8080/"
        },
        "id": "4ioItyTxO4Vo",
        "outputId": "cf290cfe-9306-4822-8afb-a5244c0f894a"
      },
      "execution_count": 75,
      "outputs": [
        {
          "output_type": "stream",
          "name": "stdout",
          "text": [
            "Singularity detected! Adjusted q5 to pi/2\n",
            "['-0.000000π', '-0.250000π', '0.333333π', '0.500000π', '0.500000π', '0.000000π']\n"
          ]
        }
      ]
    },
    {
      "cell_type": "code",
      "source": [
        "# Problem\n",
        "q3 = [np.pi/12, -np.pi/4, -np.pi/2, -np.pi/12, -np.pi/3, np.pi/3]\n"
      ],
      "metadata": {
        "id": "S9y4LZRqtU88"
      },
      "execution_count": null,
      "outputs": []
    },
    {
      "cell_type": "code",
      "source": [
        "# Check singularities\n",
        "\n",
        "q4 = [np.pi/12, -np.pi/4, -np.pi/2, -np.pi/3, 0, np.pi/3]\n",
        "solution4 = inverse_kinematics(q4)\n",
        "show_formatted_solution(solution4)"
      ],
      "metadata": {
        "colab": {
          "base_uri": "https://localhost:8080/"
        },
        "id": "mrjZazBzmvSG",
        "outputId": "f8a6a411-2011-4c29-aa59-22e12a873ea5"
      },
      "execution_count": 27,
      "outputs": [
        {
          "output_type": "stream",
          "name": "stdout",
          "text": [
            "['0.083333π', '-0.320447π', '0.500000π', '-0.000000π', '1.000000π', '0.000000π']\n"
          ]
        },
        {
          "output_type": "stream",
          "name": "stderr",
          "text": [
            "<ipython-input-25-3750e296685d>:51: RuntimeWarning: invalid value encountered in scalar divide\n",
            "  if np.sign(R36[1][2])/np.sign(np.sin(q4)) > 0:\n",
            "<ipython-input-25-3750e296685d>:53: RuntimeWarning: invalid value encountered in scalar divide\n",
            "  elif np.sign(R36[1][2])/np.sin(q4) < 0:\n"
          ]
        }
      ]
    },
    {
      "cell_type": "markdown",
      "source": [
        "#  Inverse kinematics for a chain of configurations"
      ],
      "metadata": {
        "id": "1lMOuTW90Sqv"
      }
    },
    {
      "cell_type": "code",
      "source": [
        "def inverse_kinematics_for_config_chain(q_list):\n",
        "    for\n",
        "    (q1, q2, ) = q_list\n",
        "    wrist_center = forward_kinematics_for_wr_center(q)\n",
        "\n",
        "    x = wrist_center[0][3]\n",
        "    y = wrist_center[1][3]\n",
        "    z = wrist_center[2][3]\n",
        "\n",
        "    # q1\n",
        "    try:\n",
        "        q1 = np.arctan2(-x, y)\n",
        "    except ZeroDivisionError:\n",
        "        q1 = 0\n",
        "\n",
        "    # q3\n",
        "    q3_ = np.arccos(((z-l1)**2 + (x**2+y**2)- l2**2 - (l3+l4)**2)/(2*l2*(l3+l4)))\n",
        "\n",
        "    if q3_ == 0 or q3_ == np.pi:\n",
        "      q3 = np.pi/2\n",
        "      print(\"Singularity detected! Adjusted q3 to pi/2\")\n",
        "\n",
        "    else:\n",
        "      q3 = q3_\n",
        "\n",
        "    # try:\n",
        "    #   q3 = np.arccos(((z-l1)**2 + (x**2+y**2)- l2**2 - (l3+l4)**2)/(2*l2*(l3+l4)))\n",
        "    # except ValueError:\n",
        "    #   if q3 == 0 or q3 == np.pi:\n",
        "    #   # if np.isclose(q3, 0) or np.isclose(q3, np.pi):\n",
        "    #     q3 = np.pi/2  # Adjust q3 if singularities occur\n",
        "    #     print(\"Singularity detected! Adjusted q3 to pi/2\")\n",
        "\n",
        "    # q3 = np.arccos(((z-l1)**2 + (x**2+y**2)- l2**2 - (l3+l4)**2)/(2*l2*(l3+l4)))\n",
        "\n",
        "\n",
        "    r = np.sqrt(x**2+y**2)\n",
        "    s = z - l1\n",
        "\n",
        "    q2 = np.arcsin(((l2+(l3+l4)*np.cos(q3))*s - (l3+l4)*np.sin(q3)*r)/(r**2+s**2))\n",
        "\n",
        "\n",
        "\n",
        "    ee_config = forward_kinematics(q)\n",
        "\n",
        "\n",
        "    R06 = retrieve_rot_matrix(ee_config)\n",
        "    R03 = retrieve_rot_matrix(forward_kinematics_for_elbow(q1, q2, q3))\n",
        "    R03_T = R03.transpose()\n",
        "    R36 = R03_T @ retrieve_rot_matrix(ee_config)\n",
        "    validate_matrix(R36)\n",
        "    R36 = retrieve_rot_matrix(R36)\n",
        "\n",
        "    q4 = 0\n",
        "\n",
        "    if R36[0][2] == 0:\n",
        "      q4 = np.pi/2\n",
        "    else:\n",
        "      q4 = np.arctan(R36[1][2]/R36[0][2])\n",
        "\n",
        "\n",
        "    sin5 = 0\n",
        "    q5_ = 0\n",
        "    if np.sin(q4) == 0:\n",
        "      q5_ = np.arccos(R36[2][2])\n",
        "    elif np.sign(R36[1][2])/np.sign(np.sin(q4)) > 0:\n",
        "      sin5 = np.sqrt(R36[0][2]**2 + R36[1][2]**2)\n",
        "      q5_ = np.arctan2(sin5, R36[2][2])\n",
        "\n",
        "    elif np.sign(R36[1][2])/np.sin(q4) < 0:\n",
        "      sin5 = -np.sqrt(R36[0][2]**2 + R36[1][2]**2)\n",
        "      q5_ = np.arctan2(sin5, R36[2][2])\n",
        "\n",
        "    if q5_ == 0 or q5_ == np.pi:\n",
        "      q5 = np.pi/2\n",
        "      print(\"Singularity detected! Adjusted q5 to pi/2\")\n",
        "    else:\n",
        "      q5 = q5_\n",
        "\n",
        "\n",
        "    if R36[2][1] == R36[2][0] == 0:\n",
        "      q6 = 0\n",
        "    elif R36[2][0] == 0:\n",
        "      q6 = np.pi/2\n",
        "    else:\n",
        "      q6 = np.arctan(-R36[2][1]/R36[2][0])\n",
        "\n",
        "    q = (q1, q2, q3, q4, q5, q6)\n",
        "\n",
        "    return q\n",
        "\n",
        "def show_formatted_solution(q):\n",
        "    formatted_q = [\"{:.6f}π\".format(angle / np.pi) for angle in q]\n",
        "    print(formatted_q)"
      ],
      "metadata": {
        "id": "fX5fT0Ki0a4E"
      },
      "execution_count": null,
      "outputs": []
    },
    {
      "cell_type": "markdown",
      "source": [
        "# **Jacobian matrix**"
      ],
      "metadata": {
        "id": "rp5NPMoHYCL-"
      }
    },
    {
      "cell_type": "code",
      "source": [
        "def validate_matrix(matrix):\n",
        "\n",
        "    tolerance = 1e-12\n",
        "    # Define a function to check if a value is close to zero within the tolerance\n",
        "    def is_close_to_zero(value):\n",
        "        return abs(value) < tolerance\n",
        "\n",
        "    # Iterate through each element in the matrix\n",
        "    for i in range(matrix.shape[0]):\n",
        "        for j in range(matrix.shape[1]):\n",
        "            # If the element is close to zero, set it to zero\n",
        "            if is_close_to_zero(matrix[i][j]):\n",
        "                matrix[i][j] = 0\n",
        "\n",
        "def get_frames(q):\n",
        "\n",
        "  trans_matrices = []\n",
        "  (theta1, theta2, theta3, theta4, theta5, theta6) = q\n",
        "\n",
        "  T_0 = np.identity(4)\n",
        "  trans_matrices.append(T_0)\n",
        "  T_01 = rotate_z(theta1) @ translate_z(l1) @ rotate_z(np.pi/2) @ rotate_x(np.pi/2)\n",
        "  trans_matrices.append(T_01)\n",
        "\n",
        "  T_12 = rotate_z(theta2) @ translate_x(l2)\n",
        "  trans_matrices.append(T_12)\n",
        "\n",
        "  T_23 = rotate_z(theta3) @ translate_x(l3) @ rotate_y(np.pi/2) @ rotate_z(np.pi/2)\n",
        "  trans_matrices.append(T_23)\n",
        "\n",
        "  T_34 = rotate_z(theta4) @ translate_z(l4) @ rotate_x(-np.pi/2) @ rotate_z(-np.pi)\n",
        "  trans_matrices.append(T_34)\n",
        "\n",
        "  T_45 = rotate_z(theta5) @ translate_y(l5) @ rotate_x(-np.pi/2)\n",
        "  trans_matrices.append(T_45)\n",
        "\n",
        "  T_56 = rotate_z(theta6) @ translate_z(l6)\n",
        "  trans_matrices.append(T_56)\n",
        "\n",
        "  transformation = np.identity(4)\n",
        "\n",
        "  frames = []\n",
        "  for i in range(len(trans_matrices)):\n",
        "      transformation = transformation @ trans_matrices[i]\n",
        "      validate_matrix(transformation)\n",
        "      frames.append(transformation)\n",
        "\n",
        "  return frames"
      ],
      "metadata": {
        "id": "ZxNzsP80Px-s"
      },
      "execution_count": null,
      "outputs": []
    },
    {
      "cell_type": "code",
      "source": [
        "def Jacobian(frames, q, flag=\"ee\"):\n",
        "\n",
        "    # Create empty matrix for the Jacobian\n",
        "    J = np.zeros((6, len(q)))\n",
        "    for i in range(len(q)):\n",
        "        rot_col = frames[i][:3, 2] # 3rd column of tranlation matrix\n",
        "        transl_col = frames[i][:3, 3]\n",
        "        p = (frames[-1] - frames[i])[:3, 3] # last column of translation matrix\n",
        "        top_el = np.cross(rot_col.transpose(), p.transpose()).transpose() # cross product\n",
        "        J[0, i] = top_el[0]\n",
        "        J[1, i] = top_el[1]\n",
        "        J[2, i] = top_el[2]\n",
        "        J[3, i] = rot_col[0]\n",
        "        J[4, i] = rot_col[1]\n",
        "        J[5, i] = rot_col[2]\n",
        "\n",
        "    return  J\n",
        "\n",
        "q = [np.pi / 3, np.pi / 3, np.pi / 2, np.pi / 2, np.pi / 6, np.pi / 6]\n",
        "# get_frames(q)\n",
        "jacobian = Jacobian(get_frames(q), q)\n",
        "validate_matrix(jacobian)\n",
        "print(jacobian)"
      ],
      "metadata": {
        "colab": {
          "base_uri": "https://localhost:8080/"
        },
        "id": "iIpDJXDpP2cp",
        "outputId": "ff25c668-7e7e-4fc9-96ff-3e9cce357957"
      },
      "execution_count": null,
      "outputs": [
        {
          "output_type": "stream",
          "name": "stdout",
          "text": [
            "[[ 0.5         2.3660254   1.6160254  -0.4330127   0.1160254   0.        ]\n",
            " [ 2.8660254  -1.3660254  -0.9330127   0.25        1.9330127   0.        ]\n",
            " [ 0.         -2.73205081 -3.23205081  0.8660254  -0.5         0.        ]\n",
            " [ 0.          0.5         0.5         0.75       -0.4330127   0.89951905]\n",
            " [ 0.          0.8660254   0.8660254  -0.4330127   0.25        0.0580127 ]\n",
            " [ 1.          0.          0.          0.5         0.8660254   0.4330127 ]]\n"
          ]
        }
      ]
    },
    {
      "cell_type": "code",
      "source": [
        "def check_singularity(J):\n",
        "    return np.linalg.det(J) == 0\n",
        "\n",
        "check_singularity(jacobian)"
      ],
      "metadata": {
        "colab": {
          "base_uri": "https://localhost:8080/"
        },
        "id": "SnjLyjnFSY4B",
        "outputId": "bb0401b0-2663-436f-edde-cfccd582d674"
      },
      "execution_count": null,
      "outputs": [
        {
          "output_type": "execute_result",
          "data": {
            "text/plain": [
              "False"
            ]
          },
          "metadata": {},
          "execution_count": 170
        }
      ]
    },
    {
      "cell_type": "markdown",
      "source": [
        "# **Trajectory planning**"
      ],
      "metadata": {
        "id": "F3JBiYF2Hg0h"
      }
    },
    {
      "cell_type": "code",
      "source": [
        "def trajectory_time(q_params, t0 = 0):\n",
        "  q0, qf, dq_max, ddq_max = q_params\n",
        "  delta_q = qf - q0\n",
        "\n",
        "  if np.sqrt(delta_q*ddq_max) <= dq_max:\n",
        "    # Triangular profile\n",
        "    print(\"Triangular\")\n",
        "    tau = delta_q / dq_max\n",
        "    T = tau\n",
        "    tf = 2*tau\n",
        "\n",
        "  else:\n",
        "    # Trapezoidal profile\n",
        "    print(\"Trapezoidal\")\n",
        "    T = delta_q / dq_max\n",
        "    tau = dq_max / ddq_max\n",
        "    tf = T + tau\n",
        "\n",
        "  time_params = t0, tau, T, tf\n",
        "  return time_params\n",
        "\n",
        "_,t1,T,tf = trajectory_time([10,45,8,4])\n",
        "print( 'rise time: {}, dwel time: {}, drop time: {}, total time: {}'.format(t1, T-t1, tf-T, tf))\n",
        "\n"
      ],
      "metadata": {
        "colab": {
          "base_uri": "https://localhost:8080/"
        },
        "id": "XMAgnnaTIo7Q",
        "outputId": "00e8e155-cfda-4de6-a066-fbeb0362a1f6"
      },
      "execution_count": null,
      "outputs": [
        {
          "output_type": "stream",
          "name": "stdout",
          "text": [
            "Trapezoidal\n",
            "rise time: 2.0, dwel time: 2.375, drop time: 2.0, total time: 6.375\n"
          ]
        }
      ]
    },
    {
      "cell_type": "code",
      "source": [
        "import numpy as np\n",
        "from matplotlib.pyplot import *\n",
        "\n",
        "def plan_trapezoid_trajectory(t_params, q_params):\n",
        "    q0, qf, dq_max, ddq_max = q_params\n",
        "    t0, tau, T, tf = t_params\n",
        "    t = np.linspace(t0, tf, int(3e3))\n",
        "\n",
        "    dq_max = min(dq_max, (qf - q0)/T)\n",
        "    print(\"dq_max\", dq_max)\n",
        "    q = []\n",
        "    dq = []\n",
        "    ddq = []\n",
        "\n",
        "    dq_i = 0\n",
        "    ddq_i = 0\n",
        "    for i in t:\n",
        "        t_i = i\n",
        "        q_i = q0\n",
        "\n",
        "        if 0 < t_i <= tau:\n",
        "            q_i = q0 + 1/2*ddq_max*(t_i-t0)**2\n",
        "            q02 = q_i\n",
        "\n",
        "            # if ddq_max * t_i < dq_max:\n",
        "            #   dq_i = ddq_max * t_i\n",
        "            # else:\n",
        "            #   dq_i = dq_max\n",
        "            dq_i = min(ddq_max * t_i, dq_max)\n",
        "\n",
        "            dq02 = dq_i\n",
        "            ddq_i = ddq_max\n",
        "\n",
        "        elif tau < t_i and t_i <= T:\n",
        "\n",
        "            q_i = q02 + dq02*(t_i-tau)\n",
        "            q_03 = q_i\n",
        "            dq_i = dq_max\n",
        "            dq03 = dq_i\n",
        "            ddq_i = 0\n",
        "\n",
        "\n",
        "        elif t_i > T:\n",
        "            q_i = q_03 + dq03*(t_i-T) - 1/2*ddq_max*(t_i-T)**2\n",
        "\n",
        "            dq_i = min(ddq_max*(tf-t_i), dq_max)\n",
        "\n",
        "            # if  (ddq_max*(tf-t_i)) < dq_max:\n",
        "            #   dq_i = ddq_max*(tf-t_i)\n",
        "            # else:\n",
        "            #   dq_i = dq_max\n",
        "\n",
        "            ddq_i = -ddq_max\n",
        "\n",
        "        q.append(q_i)\n",
        "        dq.append(dq_i)\n",
        "        ddq.append(ddq_i)\n",
        "\n",
        "    return t, q, dq, ddq\n",
        "\n",
        "# _, t1, T, tf = trajectory_time([10, 45, 8, 4])\n",
        "# _, t1, T, tf = trajectory_time([0,90,8,4])\n",
        "\n",
        "t_params = [0, 2.0, 15.0, 17.0]\n",
        "q_params = [0,90,8,4]\n",
        "t, q, dq, ddq = plan_trapezoid_trajectory(t_params, q_params)\n",
        "\n",
        "figure(figsize=(6,8))\n",
        "subplot(311)\n",
        "plot(t, q)\n",
        "\n",
        "subplot(312)\n",
        "plot(t, dq)\n",
        "\n",
        "subplot(313)\n",
        "plot(t, ddq)\n",
        "\n",
        "show()"
      ],
      "metadata": {
        "colab": {
          "base_uri": "https://localhost:8080/",
          "height": 693
        },
        "id": "VLOyzPJxHjgk",
        "outputId": "a419e8bf-8988-442c-c09f-0950dfe2046f"
      },
      "execution_count": null,
      "outputs": [
        {
          "output_type": "stream",
          "name": "stdout",
          "text": [
            "dq_max 6.0\n"
          ]
        },
        {
          "output_type": "display_data",
          "data": {
            "text/plain": [
              "<Figure size 600x800 with 3 Axes>"
            ],
            "image/png": "[encoded data removed]"
          },
          "metadata": {}
        }
      ]
    },
    {
      "cell_type": "code",
      "source": [
        "def sync_time(t_params_list):\n",
        "\n",
        "  t0_sync, t_total = 0, 0\n",
        "  t_dwel = 0\n",
        "\n",
        "  for t_params in t_params_list:\n",
        "    t0, tau, T, tf = t_params\n",
        "\n",
        "    t0_sync = max(t0_sync, t0)\n",
        "    t_total = max(t_total, tf-t0)\n",
        "    t_dwel = max(t_dwel, T-tau)\n",
        "\n",
        "  t0_sync = t0_sync\n",
        "  tf_sync = t0_sync + t_total\n",
        "  tau_sync = t0 + (t_total - t_dwel) / 2\n",
        "  T_sync = tau_sync + t_dwel\n",
        "\n",
        "  time_params_sync = (t0_sync, tau_sync, T_sync, tf_sync)\n",
        "\n",
        "  return time_params_sync\n",
        "\n",
        "# params [q0,qf,dq_m, ddq_m]\n",
        "j1 = [0,90,8,4]\n",
        "j2 = [0,60,4,2]\n",
        "\n",
        "t0=0\n",
        "\n",
        "#calculate trajectory time for each\n",
        "j1_t = trajectory_time(j1)\n",
        "j2_t = trajectory_time(j2)\n",
        "\n",
        "time_params = (j1_t, j2_t)\n",
        "print(j1_t, j2_t)\n",
        "t_params_sync = sync_time(time_params)\n",
        "t_params_sync"
      ],
      "metadata": {
        "colab": {
          "base_uri": "https://localhost:8080/"
        },
        "id": "ilQ0migNHkf9",
        "outputId": "63a5bb3a-7d96-40d2-d9e8-34be3e677014"
      },
      "execution_count": null,
      "outputs": [
        {
          "output_type": "stream",
          "name": "stdout",
          "text": [
            "Trapezoidal\n",
            "Trapezoidal\n",
            "(0, 2.0, 11.25, 13.25) (0, 2.0, 15.0, 17.0)\n"
          ]
        },
        {
          "output_type": "execute_result",
          "data": {
            "text/plain": [
              "(0, 2.0, 15.0, 17.0)"
            ]
          },
          "metadata": {},
          "execution_count": 10
        }
      ]
    },
    {
      "cell_type": "code",
      "source": [
        "j1 = [0,90,8,4]\n",
        "t, q, dq, ddq = plan_trapezoid_trajectory(t_params_sync, j1)\n",
        "plot(t, q)"
      ],
      "metadata": {
        "colab": {
          "base_uri": "https://localhost:8080/",
          "height": 465
        },
        "id": "-9P9XyMfIjPi",
        "outputId": "d247710c-3bf8-4c20-a95f-1e7d85de96e1"
      },
      "execution_count": null,
      "outputs": [
        {
          "output_type": "stream",
          "name": "stdout",
          "text": [
            "dq_max 6.0\n"
          ]
        },
        {
          "output_type": "execute_result",
          "data": {
            "text/plain": [
              "[<matplotlib.lines.Line2D at 0x7b7fd9a238e0>]"
            ]
          },
          "metadata": {},
          "execution_count": 11
        },
        {
          "output_type": "display_data",
          "data": {
            "text/plain": [
              "<Figure size 640x480 with 1 Axes>"
            ],
            "image/png": "[encoded data removed]"
          },
          "metadata": {}
        }
      ]
    },
    {
      "cell_type": "code",
      "source": [
        "def plan_sync_trajectory(t_params_sync, q_params_list):\n",
        "\n",
        "  sync_traj_joints = []\n",
        "\n",
        "  for q_params in q_params_list:\n",
        "    sync_traj = plan_trapezoid_trajectory(t_params_sync, q_params)\n",
        "    sync_traj_joints.append(sync_traj)\n",
        "\n",
        "  return sync_traj_joints\n",
        "\n",
        "q_params_list = (j1, j2)\n",
        "solution = plan_sync_trajectory(t_params_sync, q_params_list)\n",
        "\n",
        "for i in range(len(solution)):\n",
        "  t, q, dq, ddq = solution[i]\n",
        "\n",
        "\n",
        "  figure(figsize=(6,8))\n",
        "  subplot(311)\n",
        "  plot(t, q)\n",
        "\n",
        "  subplot(312)\n",
        "  plot(t, dq)\n",
        "\n",
        "  subplot(313)\n",
        "  plot(t, ddq)\n",
        "\n",
        "show()"
      ],
      "metadata": {
        "colab": {
          "base_uri": "https://localhost:8080/",
          "height": 1000
        },
        "id": "wGR4CtxCIlI0",
        "outputId": "d252ed2d-7263-41fd-892e-ad44f16d0586"
      },
      "execution_count": null,
      "outputs": [
        {
          "output_type": "stream",
          "name": "stdout",
          "text": [
            "dq_max 6.0\n",
            "dq_max 4\n"
          ]
        },
        {
          "output_type": "display_data",
          "data": {
            "text/plain": [
              "<Figure size 600x800 with 3 Axes>"
            ],
            "image/png": "[encoded data removed]"
          },
          "metadata": {}
        },
        {
          "output_type": "display_data",
          "data": {
            "text/plain": [
              "<Figure size 600x800 with 3 Axes>"
            ],
            "image/png": "[encoded data removed]"
          },
          "metadata": {}
        }
      ]
    },
    {
      "cell_type": "code",
      "source": [],
      "metadata": {
        "id": "Y0krrjZ_I0UX"
      },
      "execution_count": null,
      "outputs": []
    }
  ]
}