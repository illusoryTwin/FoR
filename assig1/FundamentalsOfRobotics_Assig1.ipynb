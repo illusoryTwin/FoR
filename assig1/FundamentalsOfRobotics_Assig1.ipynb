{
  "cells": [
    {
      "cell_type": "markdown",
      "metadata": {
        "id": "view-in-github",
        "colab_type": "text"
      },
      "source": [
        "<a href=\"https://colab.research.google.com/github/illusoryTwin/FoR/blob/main/assig1/FundamentalsOfRobotics_Assig1.ipynb\" target=\"_parent\"><img src=\"https://colab.research.google.com/assets/colab-badge.svg\" alt=\"Open In Colab\"/></a>"
      ]
    },
    {
      "cell_type": "markdown",
      "metadata": {
        "id": "8bt9GVrJkOqW"
      },
      "source": [
        "# Assignment 1. Forward Kinematics\n",
        "##  Antropomorphic elbow with a spherical wrist"
      ]
    },
    {
      "cell_type": "markdown",
      "metadata": {
        "id": "27k2E_wMHpeg"
      },
      "source": [
        "## Elbow\n",
        "![Image](https://drive.google.com/uc?export=view&id=17zG41RTwz8amP0VphfeS9KIdjZVnPH_0)\n",
        "\n",
        "\n",
        "## Spherical wrist\n",
        "![Image](https://drive.google.com/uc?export=view&id=1NzAcCwKtdXwueeBZS20bo7Jra0075qQn)\n",
        "\n",
        "\n",
        "## Manipulator\n",
        "![Image](https://drive.google.com/uc?export=view&id=1YTnHb9JNJHb5IChMIZxDhtwBxIIelD-w)\n"
      ]
    },
    {
      "cell_type": "markdown",
      "metadata": {
        "id": "EO6ZF2F2JQgF"
      },
      "source": [
        "# Transformation matrices\n",
        "\n",
        "The  rotation matrices are defined as follows:\n",
        "\n",
        "$$R_x(\\theta)=\n",
        "\\begin{bmatrix}\n",
        "    1 & 0 & 0 & 0 \\\\\n",
        "    0 & \\cos(\\theta) & -\\sin(\\theta) & 0 \\\\\n",
        "    0 & \\sin(\\theta) & \\cos(\\theta) & 0 \\\\\n",
        "    0 & 0 & 0 & 1 \\\\\n",
        "\\end{bmatrix}$$\n",
        "\n",
        "$$R_y(\\theta)=\n",
        "\\begin{bmatrix}\n",
        "    1 & 0 & 0 & 0 \\\\\n",
        "    0 & \\cos(\\theta) & -\\sin(\\theta) & 0 \\\\\n",
        "    0 & \\sin(\\theta) & \\cos(\\theta) & 0 \\\\\n",
        "    0 & 0 & 0 & 1 \\\\\n",
        "\\end{bmatrix}$$\n",
        "\n",
        "$$R_z(\\theta)=\n",
        "\\begin{bmatrix}\n",
        "    1 & 0 & 0 & 0 \\\\\n",
        "    0 & \\cos(\\theta) & -\\sin(\\theta) & 0 \\\\\n",
        "    0 & \\sin(\\theta) & \\cos(\\theta) & 0 \\\\\n",
        "    0 & 0 & 0 & 1 \\\\\n",
        "\\end{bmatrix}$$\n",
        "\n",
        "The translation matrices are defined as follows:\n",
        "\n",
        "$$T_x(dx)=\n",
        "\\begin{bmatrix}\n",
        "    1 & 0 & 0 & dx \\\\\n",
        "    0 & 1 & 0 & 0 \\\\\n",
        "    0 & 0 & 1 & 0 \\\\\n",
        "    0 & 0 & 0 & 1 \\\\\n",
        "\\end{bmatrix}$$\n",
        "\n",
        "$$T_y(dy)=\n",
        "\\begin{bmatrix}\n",
        "    1 & 0 & 0 & 0 \\\\\n",
        "    0 & 1 & 0 & dy \\\\\n",
        "    0 & 0 & 1 & 0 \\\\\n",
        "    0 & 0 & 0 & 1 \\\\\n",
        "\\end{bmatrix}$$\n",
        "\n",
        "$$T_z(dz)=\n",
        "\\begin{bmatrix}\n",
        "    1 & 0 & 0 & 0 \\\\\n",
        "    0 & 1 & 0 & 0 \\\\\n",
        "    0 & 0 & 1 & dz \\\\\n",
        "    0 & 0 & 0 & 1 \\\\\n",
        "\\end{bmatrix}$$"
      ]
    },
    {
      "cell_type": "code",
      "execution_count": 1,
      "metadata": {
        "id": "yHh2Th7jaEna"
      },
      "outputs": [],
      "source": [
        "import numpy as np\n",
        "import sympy as sp\n",
        "\n",
        "def rotate_x(theta):\n",
        "    cos_theta = sp.cos(theta)\n",
        "    sin_theta = sp.sin(theta)\n",
        "    rot_matrix_x = sp.Matrix([[1, 0, 0, 0],\n",
        "                              [0, cos_theta, -sin_theta, 0],\n",
        "                              [0, sin_theta, cos_theta, 0],\n",
        "                              [0, 0, 0, 1]])\n",
        "    return rot_matrix_x\n",
        "\n",
        "def rotate_y(theta):\n",
        "    cos_theta = sp.cos(theta)\n",
        "    sin_theta = sp.sin(theta)\n",
        "    rot_matrix_y = sp.Matrix([[cos_theta, 0, sin_theta, 0],\n",
        "                              [0, 1, 0, 0],\n",
        "                              [-sin_theta, 0, cos_theta, 0],\n",
        "                              [0, 0, 0, 1]])\n",
        "    return rot_matrix_y\n",
        "\n",
        "def rotate_z(theta):\n",
        "    cos_theta = sp.cos(theta)\n",
        "    sin_theta = sp.sin(theta)\n",
        "    rot_matrix_z = sp.Matrix([[cos_theta, -sin_theta, 0, 0],\n",
        "                              [sin_theta, cos_theta, 0, 0],\n",
        "                              [0, 0, 1, 0],\n",
        "                              [0, 0, 0, 1]])\n",
        "    return rot_matrix_z\n",
        "\n",
        "def translate_x(dx):\n",
        "    translation_matrix_x = sp.Matrix([[1, 0, 0, dx],\n",
        "                                      [0, 1, 0, 0],\n",
        "                                      [0, 0, 1, 0],\n",
        "                                      [0, 0, 0, 1]])\n",
        "    return translation_matrix_x\n",
        "\n",
        "def translate_y(dy):\n",
        "    translation_matrix_y = sp.Matrix([[1, 0, 0, 0],\n",
        "                                      [0, 1, 0, dy],\n",
        "                                      [0, 0, 1, 0],\n",
        "                                      [0, 0, 0, 1]])\n",
        "    return translation_matrix_y\n",
        "\n",
        "def translate_z(dz):\n",
        "    translation_matrix_z = sp.Matrix([[1, 0, 0, 0],\n",
        "                                      [0, 1, 0, 0],\n",
        "                                      [0, 0, 1, dz],\n",
        "                                      [0, 0, 0, 1]])\n",
        "    return translation_matrix_z\n"
      ]
    },
    {
      "cell_type": "markdown",
      "metadata": {
        "id": "jE0AQ51vMBRr"
      },
      "source": [
        "# Forward Kinematics\n",
        "\n",
        "There are two approaches for solving forward kinematics problem:\n",
        "\n",
        "## (1)\n",
        "For this manipulator, consisting of an anthropomorphic arm with a spherical wrist,\n",
        "the direct kinematics problem cannot be obtained by pure multiplication of transformation matrices ${}^0T_3$ and ${}^3T_6$ since\n",
        "the elbow needs to coincide with the spherical wrist.\n",
        "We need to transform from the final reference frame of the elbow to the base reference frame of the wrist.\n",
        "So, one more transformation matrix has to be introduced, this matrix will describe transition between those two reference frames.\n",
        "\n",
        "## (2)\n",
        "We multiply all the transformation matrices - transitions between the reference frames.\n"
      ]
    },
    {
      "cell_type": "markdown",
      "metadata": {
        "id": "orCMAn26eARU"
      },
      "source": [
        "## Let's solve the problem via Method 2"
      ]
    },
    {
      "cell_type": "code",
      "execution_count": null,
      "metadata": {
        "colab": {
          "base_uri": "https://localhost:8080/",
          "height": 118
        },
        "id": "we7XrVXNkqtK",
        "outputId": "ca9899ee-5be2-4bd7-a65f-353cb3e80b42"
      },
      "outputs": [
        {
          "data": {
            "text/latex": "$\\displaystyle \\left[\\begin{matrix}\\left(\\left(- \\left(\\sin{\\left(\\theta_{1} \\right)} \\sin{\\left(\\theta_{2} \\right)} \\cos{\\left(\\theta_{3} \\right)} + \\sin{\\left(\\theta_{1} \\right)} \\sin{\\left(\\theta_{3} \\right)} \\cos{\\left(\\theta_{2} \\right)}\\right) \\cos{\\left(\\theta_{4} \\right)} - \\sin{\\left(\\theta_{4} \\right)} \\cos{\\left(\\theta_{1} \\right)}\\right) \\cos{\\left(\\theta_{5} \\right)} + \\left(\\sin{\\left(\\theta_{1} \\right)} \\sin{\\left(\\theta_{2} \\right)} \\sin{\\left(\\theta_{3} \\right)} - \\sin{\\left(\\theta_{1} \\right)} \\cos{\\left(\\theta_{2} \\right)} \\cos{\\left(\\theta_{3} \\right)}\\right) \\sin{\\left(\\theta_{5} \\right)}\\right) \\cos{\\left(\\theta_{6} \\right)} + \\left(\\left(\\sin{\\left(\\theta_{1} \\right)} \\sin{\\left(\\theta_{2} \\right)} \\cos{\\left(\\theta_{3} \\right)} + \\sin{\\left(\\theta_{1} \\right)} \\sin{\\left(\\theta_{3} \\right)} \\cos{\\left(\\theta_{2} \\right)}\\right) \\sin{\\left(\\theta_{4} \\right)} - \\cos{\\left(\\theta_{1} \\right)} \\cos{\\left(\\theta_{4} \\right)}\\right) \\sin{\\left(\\theta_{6} \\right)} & - \\left(\\left(- \\left(\\sin{\\left(\\theta_{1} \\right)} \\sin{\\left(\\theta_{2} \\right)} \\cos{\\left(\\theta_{3} \\right)} + \\sin{\\left(\\theta_{1} \\right)} \\sin{\\left(\\theta_{3} \\right)} \\cos{\\left(\\theta_{2} \\right)}\\right) \\cos{\\left(\\theta_{4} \\right)} - \\sin{\\left(\\theta_{4} \\right)} \\cos{\\left(\\theta_{1} \\right)}\\right) \\cos{\\left(\\theta_{5} \\right)} + \\left(\\sin{\\left(\\theta_{1} \\right)} \\sin{\\left(\\theta_{2} \\right)} \\sin{\\left(\\theta_{3} \\right)} - \\sin{\\left(\\theta_{1} \\right)} \\cos{\\left(\\theta_{2} \\right)} \\cos{\\left(\\theta_{3} \\right)}\\right) \\sin{\\left(\\theta_{5} \\right)}\\right) \\sin{\\left(\\theta_{6} \\right)} + \\left(\\left(\\sin{\\left(\\theta_{1} \\right)} \\sin{\\left(\\theta_{2} \\right)} \\cos{\\left(\\theta_{3} \\right)} + \\sin{\\left(\\theta_{1} \\right)} \\sin{\\left(\\theta_{3} \\right)} \\cos{\\left(\\theta_{2} \\right)}\\right) \\sin{\\left(\\theta_{4} \\right)} - \\cos{\\left(\\theta_{1} \\right)} \\cos{\\left(\\theta_{4} \\right)}\\right) \\cos{\\left(\\theta_{6} \\right)} & - \\left(- \\left(\\sin{\\left(\\theta_{1} \\right)} \\sin{\\left(\\theta_{2} \\right)} \\cos{\\left(\\theta_{3} \\right)} + \\sin{\\left(\\theta_{1} \\right)} \\sin{\\left(\\theta_{3} \\right)} \\cos{\\left(\\theta_{2} \\right)}\\right) \\cos{\\left(\\theta_{4} \\right)} - \\sin{\\left(\\theta_{4} \\right)} \\cos{\\left(\\theta_{1} \\right)}\\right) \\sin{\\left(\\theta_{5} \\right)} + \\left(\\sin{\\left(\\theta_{1} \\right)} \\sin{\\left(\\theta_{2} \\right)} \\sin{\\left(\\theta_{3} \\right)} - \\sin{\\left(\\theta_{1} \\right)} \\cos{\\left(\\theta_{2} \\right)} \\cos{\\left(\\theta_{3} \\right)}\\right) \\cos{\\left(\\theta_{5} \\right)} & - l_{2} \\sin{\\left(\\theta_{1} \\right)} \\cos{\\left(\\theta_{2} \\right)} + l_{3} \\sin{\\left(\\theta_{1} \\right)} \\sin{\\left(\\theta_{2} \\right)} \\sin{\\left(\\theta_{3} \\right)} - l_{3} \\sin{\\left(\\theta_{1} \\right)} \\cos{\\left(\\theta_{2} \\right)} \\cos{\\left(\\theta_{3} \\right)} + l_{4} \\left(\\sin{\\left(\\theta_{1} \\right)} \\sin{\\left(\\theta_{2} \\right)} \\sin{\\left(\\theta_{3} \\right)} - \\sin{\\left(\\theta_{1} \\right)} \\cos{\\left(\\theta_{2} \\right)} \\cos{\\left(\\theta_{3} \\right)}\\right) - l_{5} \\left(- \\left(\\sin{\\left(\\theta_{1} \\right)} \\sin{\\left(\\theta_{2} \\right)} \\cos{\\left(\\theta_{3} \\right)} + \\sin{\\left(\\theta_{1} \\right)} \\sin{\\left(\\theta_{3} \\right)} \\cos{\\left(\\theta_{2} \\right)}\\right) \\cos{\\left(\\theta_{4} \\right)} - \\sin{\\left(\\theta_{4} \\right)} \\cos{\\left(\\theta_{1} \\right)}\\right) \\sin{\\left(\\theta_{5} \\right)} + l_{5} \\left(\\sin{\\left(\\theta_{1} \\right)} \\sin{\\left(\\theta_{2} \\right)} \\sin{\\left(\\theta_{3} \\right)} - \\sin{\\left(\\theta_{1} \\right)} \\cos{\\left(\\theta_{2} \\right)} \\cos{\\left(\\theta_{3} \\right)}\\right) \\cos{\\left(\\theta_{5} \\right)} + l_{6} \\left(- \\left(- \\left(\\sin{\\left(\\theta_{1} \\right)} \\sin{\\left(\\theta_{2} \\right)} \\cos{\\left(\\theta_{3} \\right)} + \\sin{\\left(\\theta_{1} \\right)} \\sin{\\left(\\theta_{3} \\right)} \\cos{\\left(\\theta_{2} \\right)}\\right) \\cos{\\left(\\theta_{4} \\right)} - \\sin{\\left(\\theta_{4} \\right)} \\cos{\\left(\\theta_{1} \\right)}\\right) \\sin{\\left(\\theta_{5} \\right)} + \\left(\\sin{\\left(\\theta_{1} \\right)} \\sin{\\left(\\theta_{2} \\right)} \\sin{\\left(\\theta_{3} \\right)} - \\sin{\\left(\\theta_{1} \\right)} \\cos{\\left(\\theta_{2} \\right)} \\cos{\\left(\\theta_{3} \\right)}\\right) \\cos{\\left(\\theta_{5} \\right)}\\right)\\\\\\left(\\left(- \\left(- \\sin{\\left(\\theta_{2} \\right)} \\cos{\\left(\\theta_{1} \\right)} \\cos{\\left(\\theta_{3} \\right)} - \\sin{\\left(\\theta_{3} \\right)} \\cos{\\left(\\theta_{1} \\right)} \\cos{\\left(\\theta_{2} \\right)}\\right) \\cos{\\left(\\theta_{4} \\right)} - \\sin{\\left(\\theta_{1} \\right)} \\sin{\\left(\\theta_{4} \\right)}\\right) \\cos{\\left(\\theta_{5} \\right)} + \\left(- \\sin{\\left(\\theta_{2} \\right)} \\sin{\\left(\\theta_{3} \\right)} \\cos{\\left(\\theta_{1} \\right)} + \\cos{\\left(\\theta_{1} \\right)} \\cos{\\left(\\theta_{2} \\right)} \\cos{\\left(\\theta_{3} \\right)}\\right) \\sin{\\left(\\theta_{5} \\right)}\\right) \\cos{\\left(\\theta_{6} \\right)} + \\left(\\left(- \\sin{\\left(\\theta_{2} \\right)} \\cos{\\left(\\theta_{1} \\right)} \\cos{\\left(\\theta_{3} \\right)} - \\sin{\\left(\\theta_{3} \\right)} \\cos{\\left(\\theta_{1} \\right)} \\cos{\\left(\\theta_{2} \\right)}\\right) \\sin{\\left(\\theta_{4} \\right)} - \\sin{\\left(\\theta_{1} \\right)} \\cos{\\left(\\theta_{4} \\right)}\\right) \\sin{\\left(\\theta_{6} \\right)} & - \\left(\\left(- \\left(- \\sin{\\left(\\theta_{2} \\right)} \\cos{\\left(\\theta_{1} \\right)} \\cos{\\left(\\theta_{3} \\right)} - \\sin{\\left(\\theta_{3} \\right)} \\cos{\\left(\\theta_{1} \\right)} \\cos{\\left(\\theta_{2} \\right)}\\right) \\cos{\\left(\\theta_{4} \\right)} - \\sin{\\left(\\theta_{1} \\right)} \\sin{\\left(\\theta_{4} \\right)}\\right) \\cos{\\left(\\theta_{5} \\right)} + \\left(- \\sin{\\left(\\theta_{2} \\right)} \\sin{\\left(\\theta_{3} \\right)} \\cos{\\left(\\theta_{1} \\right)} + \\cos{\\left(\\theta_{1} \\right)} \\cos{\\left(\\theta_{2} \\right)} \\cos{\\left(\\theta_{3} \\right)}\\right) \\sin{\\left(\\theta_{5} \\right)}\\right) \\sin{\\left(\\theta_{6} \\right)} + \\left(\\left(- \\sin{\\left(\\theta_{2} \\right)} \\cos{\\left(\\theta_{1} \\right)} \\cos{\\left(\\theta_{3} \\right)} - \\sin{\\left(\\theta_{3} \\right)} \\cos{\\left(\\theta_{1} \\right)} \\cos{\\left(\\theta_{2} \\right)}\\right) \\sin{\\left(\\theta_{4} \\right)} - \\sin{\\left(\\theta_{1} \\right)} \\cos{\\left(\\theta_{4} \\right)}\\right) \\cos{\\left(\\theta_{6} \\right)} & - \\left(- \\left(- \\sin{\\left(\\theta_{2} \\right)} \\cos{\\left(\\theta_{1} \\right)} \\cos{\\left(\\theta_{3} \\right)} - \\sin{\\left(\\theta_{3} \\right)} \\cos{\\left(\\theta_{1} \\right)} \\cos{\\left(\\theta_{2} \\right)}\\right) \\cos{\\left(\\theta_{4} \\right)} - \\sin{\\left(\\theta_{1} \\right)} \\sin{\\left(\\theta_{4} \\right)}\\right) \\sin{\\left(\\theta_{5} \\right)} + \\left(- \\sin{\\left(\\theta_{2} \\right)} \\sin{\\left(\\theta_{3} \\right)} \\cos{\\left(\\theta_{1} \\right)} + \\cos{\\left(\\theta_{1} \\right)} \\cos{\\left(\\theta_{2} \\right)} \\cos{\\left(\\theta_{3} \\right)}\\right) \\cos{\\left(\\theta_{5} \\right)} & l_{2} \\cos{\\left(\\theta_{1} \\right)} \\cos{\\left(\\theta_{2} \\right)} - l_{3} \\sin{\\left(\\theta_{2} \\right)} \\sin{\\left(\\theta_{3} \\right)} \\cos{\\left(\\theta_{1} \\right)} + l_{3} \\cos{\\left(\\theta_{1} \\right)} \\cos{\\left(\\theta_{2} \\right)} \\cos{\\left(\\theta_{3} \\right)} + l_{4} \\left(- \\sin{\\left(\\theta_{2} \\right)} \\sin{\\left(\\theta_{3} \\right)} \\cos{\\left(\\theta_{1} \\right)} + \\cos{\\left(\\theta_{1} \\right)} \\cos{\\left(\\theta_{2} \\right)} \\cos{\\left(\\theta_{3} \\right)}\\right) - l_{5} \\left(- \\left(- \\sin{\\left(\\theta_{2} \\right)} \\cos{\\left(\\theta_{1} \\right)} \\cos{\\left(\\theta_{3} \\right)} - \\sin{\\left(\\theta_{3} \\right)} \\cos{\\left(\\theta_{1} \\right)} \\cos{\\left(\\theta_{2} \\right)}\\right) \\cos{\\left(\\theta_{4} \\right)} - \\sin{\\left(\\theta_{1} \\right)} \\sin{\\left(\\theta_{4} \\right)}\\right) \\sin{\\left(\\theta_{5} \\right)} + l_{5} \\left(- \\sin{\\left(\\theta_{2} \\right)} \\sin{\\left(\\theta_{3} \\right)} \\cos{\\left(\\theta_{1} \\right)} + \\cos{\\left(\\theta_{1} \\right)} \\cos{\\left(\\theta_{2} \\right)} \\cos{\\left(\\theta_{3} \\right)}\\right) \\cos{\\left(\\theta_{5} \\right)} + l_{6} \\left(- \\left(- \\left(- \\sin{\\left(\\theta_{2} \\right)} \\cos{\\left(\\theta_{1} \\right)} \\cos{\\left(\\theta_{3} \\right)} - \\sin{\\left(\\theta_{3} \\right)} \\cos{\\left(\\theta_{1} \\right)} \\cos{\\left(\\theta_{2} \\right)}\\right) \\cos{\\left(\\theta_{4} \\right)} - \\sin{\\left(\\theta_{1} \\right)} \\sin{\\left(\\theta_{4} \\right)}\\right) \\sin{\\left(\\theta_{5} \\right)} + \\left(- \\sin{\\left(\\theta_{2} \\right)} \\sin{\\left(\\theta_{3} \\right)} \\cos{\\left(\\theta_{1} \\right)} + \\cos{\\left(\\theta_{1} \\right)} \\cos{\\left(\\theta_{2} \\right)} \\cos{\\left(\\theta_{3} \\right)}\\right) \\cos{\\left(\\theta_{5} \\right)}\\right)\\\\\\left(- \\sin{\\left(\\theta_{2} \\right)} \\sin{\\left(\\theta_{3} \\right)} + \\cos{\\left(\\theta_{2} \\right)} \\cos{\\left(\\theta_{3} \\right)}\\right) \\sin{\\left(\\theta_{4} \\right)} \\sin{\\left(\\theta_{6} \\right)} + \\left(- \\left(- \\sin{\\left(\\theta_{2} \\right)} \\sin{\\left(\\theta_{3} \\right)} + \\cos{\\left(\\theta_{2} \\right)} \\cos{\\left(\\theta_{3} \\right)}\\right) \\cos{\\left(\\theta_{4} \\right)} \\cos{\\left(\\theta_{5} \\right)} + \\left(\\sin{\\left(\\theta_{2} \\right)} \\cos{\\left(\\theta_{3} \\right)} + \\sin{\\left(\\theta_{3} \\right)} \\cos{\\left(\\theta_{2} \\right)}\\right) \\sin{\\left(\\theta_{5} \\right)}\\right) \\cos{\\left(\\theta_{6} \\right)} & \\left(- \\sin{\\left(\\theta_{2} \\right)} \\sin{\\left(\\theta_{3} \\right)} + \\cos{\\left(\\theta_{2} \\right)} \\cos{\\left(\\theta_{3} \\right)}\\right) \\sin{\\left(\\theta_{4} \\right)} \\cos{\\left(\\theta_{6} \\right)} - \\left(- \\left(- \\sin{\\left(\\theta_{2} \\right)} \\sin{\\left(\\theta_{3} \\right)} + \\cos{\\left(\\theta_{2} \\right)} \\cos{\\left(\\theta_{3} \\right)}\\right) \\cos{\\left(\\theta_{4} \\right)} \\cos{\\left(\\theta_{5} \\right)} + \\left(\\sin{\\left(\\theta_{2} \\right)} \\cos{\\left(\\theta_{3} \\right)} + \\sin{\\left(\\theta_{3} \\right)} \\cos{\\left(\\theta_{2} \\right)}\\right) \\sin{\\left(\\theta_{5} \\right)}\\right) \\sin{\\left(\\theta_{6} \\right)} & \\left(- \\sin{\\left(\\theta_{2} \\right)} \\sin{\\left(\\theta_{3} \\right)} + \\cos{\\left(\\theta_{2} \\right)} \\cos{\\left(\\theta_{3} \\right)}\\right) \\sin{\\left(\\theta_{5} \\right)} \\cos{\\left(\\theta_{4} \\right)} + \\left(\\sin{\\left(\\theta_{2} \\right)} \\cos{\\left(\\theta_{3} \\right)} + \\sin{\\left(\\theta_{3} \\right)} \\cos{\\left(\\theta_{2} \\right)}\\right) \\cos{\\left(\\theta_{5} \\right)} & l_{1} + l_{2} \\sin{\\left(\\theta_{2} \\right)} + l_{3} \\sin{\\left(\\theta_{2} \\right)} \\cos{\\left(\\theta_{3} \\right)} + l_{3} \\sin{\\left(\\theta_{3} \\right)} \\cos{\\left(\\theta_{2} \\right)} + l_{4} \\left(\\sin{\\left(\\theta_{2} \\right)} \\cos{\\left(\\theta_{3} \\right)} + \\sin{\\left(\\theta_{3} \\right)} \\cos{\\left(\\theta_{2} \\right)}\\right) + l_{5} \\left(- \\sin{\\left(\\theta_{2} \\right)} \\sin{\\left(\\theta_{3} \\right)} + \\cos{\\left(\\theta_{2} \\right)} \\cos{\\left(\\theta_{3} \\right)}\\right) \\sin{\\left(\\theta_{5} \\right)} \\cos{\\left(\\theta_{4} \\right)} + l_{5} \\left(\\sin{\\left(\\theta_{2} \\right)} \\cos{\\left(\\theta_{3} \\right)} + \\sin{\\left(\\theta_{3} \\right)} \\cos{\\left(\\theta_{2} \\right)}\\right) \\cos{\\left(\\theta_{5} \\right)} + l_{6} \\left(\\left(- \\sin{\\left(\\theta_{2} \\right)} \\sin{\\left(\\theta_{3} \\right)} + \\cos{\\left(\\theta_{2} \\right)} \\cos{\\left(\\theta_{3} \\right)}\\right) \\sin{\\left(\\theta_{5} \\right)} \\cos{\\left(\\theta_{4} \\right)} + \\left(\\sin{\\left(\\theta_{2} \\right)} \\cos{\\left(\\theta_{3} \\right)} + \\sin{\\left(\\theta_{3} \\right)} \\cos{\\left(\\theta_{2} \\right)}\\right) \\cos{\\left(\\theta_{5} \\right)}\\right)\\\\0 & 0 & 0 & 1\\end{matrix}\\right]$",
            "text/plain": [
              "Matrix([\n",
              "[   ((-(sin(theta1)*sin(theta2)*cos(theta3) + sin(theta1)*sin(theta3)*cos(theta2))*cos(theta4) - sin(theta4)*cos(theta1))*cos(theta5) + (sin(theta1)*sin(theta2)*sin(theta3) - sin(theta1)*cos(theta2)*cos(theta3))*sin(theta5))*cos(theta6) + ((sin(theta1)*sin(theta2)*cos(theta3) + sin(theta1)*sin(theta3)*cos(theta2))*sin(theta4) - cos(theta1)*cos(theta4))*sin(theta6),    -((-(sin(theta1)*sin(theta2)*cos(theta3) + sin(theta1)*sin(theta3)*cos(theta2))*cos(theta4) - sin(theta4)*cos(theta1))*cos(theta5) + (sin(theta1)*sin(theta2)*sin(theta3) - sin(theta1)*cos(theta2)*cos(theta3))*sin(theta5))*sin(theta6) + ((sin(theta1)*sin(theta2)*cos(theta3) + sin(theta1)*sin(theta3)*cos(theta2))*sin(theta4) - cos(theta1)*cos(theta4))*cos(theta6),   -(-(sin(theta1)*sin(theta2)*cos(theta3) + sin(theta1)*sin(theta3)*cos(theta2))*cos(theta4) - sin(theta4)*cos(theta1))*sin(theta5) + (sin(theta1)*sin(theta2)*sin(theta3) - sin(theta1)*cos(theta2)*cos(theta3))*cos(theta5),     -l2*sin(theta1)*cos(theta2) + l3*sin(theta1)*sin(theta2)*sin(theta3) - l3*sin(theta1)*cos(theta2)*cos(theta3) + l4*(sin(theta1)*sin(theta2)*sin(theta3) - sin(theta1)*cos(theta2)*cos(theta3)) - l5*(-(sin(theta1)*sin(theta2)*cos(theta3) + sin(theta1)*sin(theta3)*cos(theta2))*cos(theta4) - sin(theta4)*cos(theta1))*sin(theta5) + l5*(sin(theta1)*sin(theta2)*sin(theta3) - sin(theta1)*cos(theta2)*cos(theta3))*cos(theta5) + l6*(-(-(sin(theta1)*sin(theta2)*cos(theta3) + sin(theta1)*sin(theta3)*cos(theta2))*cos(theta4) - sin(theta4)*cos(theta1))*sin(theta5) + (sin(theta1)*sin(theta2)*sin(theta3) - sin(theta1)*cos(theta2)*cos(theta3))*cos(theta5))],\n",
              "[((-(-sin(theta2)*cos(theta1)*cos(theta3) - sin(theta3)*cos(theta1)*cos(theta2))*cos(theta4) - sin(theta1)*sin(theta4))*cos(theta5) + (-sin(theta2)*sin(theta3)*cos(theta1) + cos(theta1)*cos(theta2)*cos(theta3))*sin(theta5))*cos(theta6) + ((-sin(theta2)*cos(theta1)*cos(theta3) - sin(theta3)*cos(theta1)*cos(theta2))*sin(theta4) - sin(theta1)*cos(theta4))*sin(theta6), -((-(-sin(theta2)*cos(theta1)*cos(theta3) - sin(theta3)*cos(theta1)*cos(theta2))*cos(theta4) - sin(theta1)*sin(theta4))*cos(theta5) + (-sin(theta2)*sin(theta3)*cos(theta1) + cos(theta1)*cos(theta2)*cos(theta3))*sin(theta5))*sin(theta6) + ((-sin(theta2)*cos(theta1)*cos(theta3) - sin(theta3)*cos(theta1)*cos(theta2))*sin(theta4) - sin(theta1)*cos(theta4))*cos(theta6), -(-(-sin(theta2)*cos(theta1)*cos(theta3) - sin(theta3)*cos(theta1)*cos(theta2))*cos(theta4) - sin(theta1)*sin(theta4))*sin(theta5) + (-sin(theta2)*sin(theta3)*cos(theta1) + cos(theta1)*cos(theta2)*cos(theta3))*cos(theta5), l2*cos(theta1)*cos(theta2) - l3*sin(theta2)*sin(theta3)*cos(theta1) + l3*cos(theta1)*cos(theta2)*cos(theta3) + l4*(-sin(theta2)*sin(theta3)*cos(theta1) + cos(theta1)*cos(theta2)*cos(theta3)) - l5*(-(-sin(theta2)*cos(theta1)*cos(theta3) - sin(theta3)*cos(theta1)*cos(theta2))*cos(theta4) - sin(theta1)*sin(theta4))*sin(theta5) + l5*(-sin(theta2)*sin(theta3)*cos(theta1) + cos(theta1)*cos(theta2)*cos(theta3))*cos(theta5) + l6*(-(-(-sin(theta2)*cos(theta1)*cos(theta3) - sin(theta3)*cos(theta1)*cos(theta2))*cos(theta4) - sin(theta1)*sin(theta4))*sin(theta5) + (-sin(theta2)*sin(theta3)*cos(theta1) + cos(theta1)*cos(theta2)*cos(theta3))*cos(theta5))],\n",
              "[                                                                                                                                 (-sin(theta2)*sin(theta3) + cos(theta2)*cos(theta3))*sin(theta4)*sin(theta6) + (-(-sin(theta2)*sin(theta3) + cos(theta2)*cos(theta3))*cos(theta4)*cos(theta5) + (sin(theta2)*cos(theta3) + sin(theta3)*cos(theta2))*sin(theta5))*cos(theta6),                                                                                                                                   (-sin(theta2)*sin(theta3) + cos(theta2)*cos(theta3))*sin(theta4)*cos(theta6) - (-(-sin(theta2)*sin(theta3) + cos(theta2)*cos(theta3))*cos(theta4)*cos(theta5) + (sin(theta2)*cos(theta3) + sin(theta3)*cos(theta2))*sin(theta5))*sin(theta6),                                                                                (-sin(theta2)*sin(theta3) + cos(theta2)*cos(theta3))*sin(theta5)*cos(theta4) + (sin(theta2)*cos(theta3) + sin(theta3)*cos(theta2))*cos(theta5),                                                                                                                                                                                                                      l1 + l2*sin(theta2) + l3*sin(theta2)*cos(theta3) + l3*sin(theta3)*cos(theta2) + l4*(sin(theta2)*cos(theta3) + sin(theta3)*cos(theta2)) + l5*(-sin(theta2)*sin(theta3) + cos(theta2)*cos(theta3))*sin(theta5)*cos(theta4) + l5*(sin(theta2)*cos(theta3) + sin(theta3)*cos(theta2))*cos(theta5) + l6*((-sin(theta2)*sin(theta3) + cos(theta2)*cos(theta3))*sin(theta5)*cos(theta4) + (sin(theta2)*cos(theta3) + sin(theta3)*cos(theta2))*cos(theta5))],\n",
              "[                                                                                                                                                                                                                                                                                                                                                                            0,                                                                                                                                                                                                                                                                                                                                                                              0,                                                                                                                                                                                                                             0,                                                                                                                                                                                                                                                                                                                                                                                                                                                                                                                                                                                                                                                                        1]])"
            ]
          },
          "execution_count": 3,
          "metadata": {},
          "output_type": "execute_result"
        }
      ],
      "source": [
        "import sympy as sp\n",
        "theta1, theta2, theta3, theta4, theta5, theta6, l1, l2, l3, l4, l5, l6, pi = sp.symbols('theta1 theta2 theta3 theta4 theta5 theta6 l1 l2 l3 l4 l5 l6 pi')\n",
        "\n",
        "\n",
        "T_01 = rotate_z(theta1) * translate_z(l1) * rotate_z(sp.pi/2) * rotate_x(sp.pi/2)\n",
        "T_12 = rotate_z(theta2) * translate_x(l2)\n",
        "T_23 = rotate_z(theta3) * translate_x(l3) * rotate_y(sp.pi/2) * rotate_z(sp.pi/2)\n",
        "\n",
        "T_34 = rotate_z(theta4) * translate_z(l4) * rotate_x(-sp.pi/2) * rotate_z(-sp.pi)\n",
        "T_45 = rotate_z(theta5) * translate_y(l5) * rotate_x(-sp.pi/2)\n",
        "T_56 = rotate_z(theta6) * translate_z(l6)\n",
        "\n",
        "\n",
        "T1 = T_01*T_12*T_23*T_34*T_45*T_56\n",
        "T1"
      ]
    },
    {
      "cell_type": "code",
      "execution_count": null,
      "metadata": {
        "colab": {
          "base_uri": "https://localhost:8080/",
          "height": 98
        },
        "id": "FVovQOtrO3JQ",
        "outputId": "534fc80f-04d0-461c-d976-296851d9b811"
      },
      "outputs": [
        {
          "data": {
            "text/latex": "$\\displaystyle \\left[\\begin{matrix}\\sin{\\left(\\theta_{1} \\right)} \\sin{\\left(\\theta_{2} \\right)} \\cos{\\left(\\theta_{3} \\right)} + \\sin{\\left(\\theta_{1} \\right)} \\sin{\\left(\\theta_{3} \\right)} \\cos{\\left(\\theta_{2} \\right)} & \\cos{\\left(\\theta_{1} \\right)} & \\sin{\\left(\\theta_{1} \\right)} \\sin{\\left(\\theta_{2} \\right)} \\sin{\\left(\\theta_{3} \\right)} - \\sin{\\left(\\theta_{1} \\right)} \\cos{\\left(\\theta_{2} \\right)} \\cos{\\left(\\theta_{3} \\right)} & - l_{2} \\sin{\\left(\\theta_{1} \\right)} \\cos{\\left(\\theta_{2} \\right)} + l_{3} \\sin{\\left(\\theta_{1} \\right)} \\sin{\\left(\\theta_{2} \\right)} \\sin{\\left(\\theta_{3} \\right)} - l_{3} \\sin{\\left(\\theta_{1} \\right)} \\cos{\\left(\\theta_{2} \\right)} \\cos{\\left(\\theta_{3} \\right)}\\\\- \\sin{\\left(\\theta_{2} \\right)} \\cos{\\left(\\theta_{1} \\right)} \\cos{\\left(\\theta_{3} \\right)} - \\sin{\\left(\\theta_{3} \\right)} \\cos{\\left(\\theta_{1} \\right)} \\cos{\\left(\\theta_{2} \\right)} & \\sin{\\left(\\theta_{1} \\right)} & - \\sin{\\left(\\theta_{2} \\right)} \\sin{\\left(\\theta_{3} \\right)} \\cos{\\left(\\theta_{1} \\right)} + \\cos{\\left(\\theta_{1} \\right)} \\cos{\\left(\\theta_{2} \\right)} \\cos{\\left(\\theta_{3} \\right)} & l_{2} \\cos{\\left(\\theta_{1} \\right)} \\cos{\\left(\\theta_{2} \\right)} - l_{3} \\sin{\\left(\\theta_{2} \\right)} \\sin{\\left(\\theta_{3} \\right)} \\cos{\\left(\\theta_{1} \\right)} + l_{3} \\cos{\\left(\\theta_{1} \\right)} \\cos{\\left(\\theta_{2} \\right)} \\cos{\\left(\\theta_{3} \\right)}\\\\- \\sin{\\left(\\theta_{2} \\right)} \\sin{\\left(\\theta_{3} \\right)} + \\cos{\\left(\\theta_{2} \\right)} \\cos{\\left(\\theta_{3} \\right)} & 0 & \\sin{\\left(\\theta_{2} \\right)} \\cos{\\left(\\theta_{3} \\right)} + \\sin{\\left(\\theta_{3} \\right)} \\cos{\\left(\\theta_{2} \\right)} & l_{1} + l_{2} \\sin{\\left(\\theta_{2} \\right)} + l_{3} \\sin{\\left(\\theta_{2} \\right)} \\cos{\\left(\\theta_{3} \\right)} + l_{3} \\sin{\\left(\\theta_{3} \\right)} \\cos{\\left(\\theta_{2} \\right)}\\\\0 & 0 & 0 & 1\\end{matrix}\\right]$",
            "text/plain": [
              "Matrix([\n",
              "[ sin(theta1)*sin(theta2)*cos(theta3) + sin(theta1)*sin(theta3)*cos(theta2), cos(theta1),  sin(theta1)*sin(theta2)*sin(theta3) - sin(theta1)*cos(theta2)*cos(theta3), -l2*sin(theta1)*cos(theta2) + l3*sin(theta1)*sin(theta2)*sin(theta3) - l3*sin(theta1)*cos(theta2)*cos(theta3)],\n",
              "[-sin(theta2)*cos(theta1)*cos(theta3) - sin(theta3)*cos(theta1)*cos(theta2), sin(theta1), -sin(theta2)*sin(theta3)*cos(theta1) + cos(theta1)*cos(theta2)*cos(theta3),  l2*cos(theta1)*cos(theta2) - l3*sin(theta2)*sin(theta3)*cos(theta1) + l3*cos(theta1)*cos(theta2)*cos(theta3)],\n",
              "[                        -sin(theta2)*sin(theta3) + cos(theta2)*cos(theta3),           0,                          sin(theta2)*cos(theta3) + sin(theta3)*cos(theta2),                                 l1 + l2*sin(theta2) + l3*sin(theta2)*cos(theta3) + l3*sin(theta3)*cos(theta2)],\n",
              "[                                                                         0,           0,                                                                          0,                                                                                                             1]])"
            ]
          },
          "execution_count": 10,
          "metadata": {},
          "output_type": "execute_result"
        }
      ],
      "source": [
        "import sympy as sp\n",
        "\n",
        "theta1, theta2, theta3, theta4, theta5, theta6, l1, l2, l3, l4, l5, l6 = sp.symbols('theta1 theta2 theta3 theta4 theta5 theta6 l1 l2 l3 l4 l5 l6')\n",
        "\n",
        "\n",
        "T_01 = rotate_z(theta1) * translate_z(l1) * rotate_z(pi/2) * rotate_x(pi/2)\n",
        "T_12 = rotate_z(theta2) * translate_x(l2)\n",
        "T_23 = rotate_z(theta3) * translate_x(l3) * rotate_y(pi/2) * rotate_z(pi/2)\n",
        "\n",
        "T_01*T_12*T_23"
      ]
    },
    {
      "cell_type": "markdown",
      "metadata": {
        "id": "bkiVa-MDzsJk"
      },
      "source": [
        "# **Numeric forward kinematics for different configurations**"
      ]
    },
    {
      "cell_type": "code",
      "execution_count": null,
      "metadata": {
        "id": "9JVoDMfwzrh9"
      },
      "outputs": [],
      "source": [
        "import numpy as np\n",
        "\n",
        "def rotate_x(theta):\n",
        "    cos_theta = np.cos(theta)\n",
        "    sin_theta = np.sin(theta)\n",
        "    rot_matrix_x = np.array([[1, 0, 0, 0],\n",
        "                             [0, cos_theta, -sin_theta, 0],\n",
        "                             [0, sin_theta, cos_theta, 0],\n",
        "                             [0, 0, 0, 1]])\n",
        "    return rot_matrix_x\n",
        "\n",
        "def rotate_y(theta):\n",
        "    cos_theta = np.cos(theta)\n",
        "    sin_theta = np.sin(theta)\n",
        "    rot_matrix_y = np.array([[cos_theta, 0, sin_theta, 0],\n",
        "                              [0, 1, 0, 0],\n",
        "                              [-sin_theta, 0, cos_theta, 0],\n",
        "                              [0, 0, 0, 1]])\n",
        "    return rot_matrix_y\n",
        "\n",
        "def rotate_z(theta):\n",
        "    cos_theta = np.cos(theta)\n",
        "    sin_theta = np.sin(theta)\n",
        "    rot_matrix_z = np.array([[cos_theta, -sin_theta, 0, 0],\n",
        "                              [sin_theta, cos_theta, 0, 0],\n",
        "                              [0, 0, 1, 0],\n",
        "                              [0, 0, 0, 1]])\n",
        "    return rot_matrix_z\n",
        "\n",
        "def translate_x(dx):\n",
        "    translation_matrix_x = np.array([[1, 0, 0, dx],\n",
        "                                     [0, 1, 0, 0],\n",
        "                                     [0, 0, 1, 0],\n",
        "                                     [0, 0, 0, 1]])\n",
        "    return translation_matrix_x\n",
        "\n",
        "def translate_y(dy):\n",
        "    translation_matrix_y = np.array([[1, 0, 0, 0],\n",
        "                                     [0, 1, 0, dy],\n",
        "                                     [0, 0, 1, 0],\n",
        "                                     [0, 0, 0, 1]])\n",
        "    return translation_matrix_y\n",
        "\n",
        "def translate_z(dz):\n",
        "    translation_matrix_z = np.array([[1, 0, 0, 0],\n",
        "                                     [0, 1, 0, 0],\n",
        "                                     [0, 0, 1, dz],\n",
        "                                     [0, 0, 0, 1]])\n",
        "    return translation_matrix_z"
      ]
    },
    {
      "cell_type": "code",
      "execution_count": null,
      "metadata": {
        "id": "S14JZdXxBUIk"
      },
      "outputs": [],
      "source": [
        "# Define a function to make the values of the matrix to be within the tolerance\n",
        "\n",
        "def validate_matrix(matrix):\n",
        "\n",
        "    tolerance = 1e-12\n",
        "    def is_close_to_zero(value):\n",
        "        return abs(value) < tolerance\n",
        "\n",
        "    # Iterate through each element in the matrix\n",
        "    for i in range(matrix.shape[0]):\n",
        "        for j in range(matrix.shape[1]):\n",
        "            # If the element is close to zero, set it to zero\n",
        "            if is_close_to_zero(matrix[i][j]):\n",
        "                matrix[i][j] = 0\n",
        "\n",
        "l1 = 0.3\n",
        "l2 = 1\n",
        "l3 = 0.3\n",
        "l4 = 0.5\n",
        "l5 = 0.3\n",
        "l6 = 0.4\n",
        "\n",
        "def forward_kinematics(q):\n",
        "\n",
        "    theta1, theta2, theta3, theta4, theta5, theta6 = q\n",
        "\n",
        "    T_0 = np.identity(4)\n",
        "    T_01 = rotate_z(theta1) @ translate_z(l1) @ rotate_z(np.pi/2) @ rotate_x(np.pi/2)\n",
        "    T_12 = rotate_z(theta2) @ translate_x(l2)\n",
        "    T_23 = rotate_z(theta3) @ translate_x(l3) @ rotate_y(np.pi/2) @ rotate_z(np.pi/2)\n",
        "\n",
        "    T_34 = rotate_z(theta4) @ translate_z(l4) @ rotate_x(-np.pi/2) @ rotate_z(-np.pi)\n",
        "    T_45 = rotate_z(theta5) @ translate_y(l5) @ rotate_x(-np.pi/2)\n",
        "    T_56 = rotate_z(theta6) @ translate_z(l6)\n",
        "\n",
        "\n",
        "    f_k_transform = T_0 @ T_01 @ T_12 @ T_23 @ T_34 @ T_45 @ T_56\n",
        "    validate_matrix(f_k_transform)\n",
        "    return f_k_transform"
      ]
    },
    {
      "cell_type": "code",
      "execution_count": null,
      "metadata": {
        "colab": {
          "base_uri": "https://localhost:8080/"
        },
        "id": "XnLsjXEoBaji",
        "outputId": "1ddd7601-85c9-43b7-9f4d-880a140cc18e"
      },
      "outputs": [
        {
          "name": "stdout",
          "output_type": "stream",
          "text": [
            "Forward kinematics solution:\n",
            " [[-0.8660254   0.         -0.5        -2.15      ]\n",
            " [ 0.         -1.          0.          0.        ]\n",
            " [-0.5         0.          0.8660254   0.90621778]\n",
            " [ 0.          0.          0.          1.        ]]\n",
            "Forward kinematics solution:\n",
            " [[ 0.27383384 -0.8080127   0.52166129  1.57759847]\n",
            " [ 0.71577558  0.53349365  0.45061053  1.01542737]\n",
            " [-0.64240202  0.25        0.72444437  1.49993138]\n",
            " [ 0.          0.          0.          1.        ]]\n"
          ]
        }
      ],
      "source": [
        "config1 = [np.pi/2, 0, 0, 0, np.pi/3, 0]\n",
        "config2 = [-np.pi/3, 0, np.pi/3, np.pi/6, -np.pi/12, 0]\n",
        "configs = [config1, config2]\n",
        "\n",
        "for config in configs:\n",
        "  sol = forward_kinematics(config)\n",
        "  print(\"Forward kinematics solution:\\n\", sol)"
      ]
    }
  ],
  "metadata": {
    "colab": {
      "provenance": [],
      "authorship_tag": "ABX9TyMAO7eSbtFS2ZW+/w/mJWF8",
      "include_colab_link": true
    },
    "kernelspec": {
      "display_name": "Python 3",
      "name": "python3"
    },
    "language_info": {
      "name": "python"
    }
  },
  "nbformat": 4,
  "nbformat_minor": 0
}