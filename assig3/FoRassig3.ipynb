{
  "nbformat": 4,
  "nbformat_minor": 0,
  "metadata": {
    "colab": {
      "provenance": [],
      "authorship_tag": "ABX9TyM2THOoSgJcqbc9jZeqoecX",
      "include_colab_link": true
    },
    "kernelspec": {
      "name": "python3",
      "display_name": "Python 3"
    },
    "language_info": {
      "name": "python"
    }
  },
  "cells": [
    {
      "cell_type": "markdown",
      "metadata": {
        "id": "view-in-github",
        "colab_type": "text"
      },
      "source": [
        "<a href=\"https://colab.research.google.com/github/illusoryTwin/FoR/blob/main/assig3/FoRassig3.ipynb\" target=\"_parent\"><img src=\"https://colab.research.google.com/assets/colab-badge.svg\" alt=\"Open In Colab\"/></a>"
      ]
    },
    {
      "cell_type": "code",
      "source": [
        "import numpy as np"
      ],
      "metadata": {
        "id": "ucsarqrz2KtQ"
      },
      "execution_count": 1,
      "outputs": []
    },
    {
      "cell_type": "code",
      "execution_count": 2,
      "metadata": {
        "id": "m8Xp-BsWgUWQ"
      },
      "outputs": [],
      "source": [
        "# Define rotation and translation functions\n",
        "def rotate_z(theta):\n",
        "    return np.array([[np.cos(theta), -np.sin(theta), 0, 0],\n",
        "                     [np.sin(theta), np.cos(theta), 0, 0],\n",
        "                     [0, 0, 1, 0],\n",
        "                     [0, 0, 0, 1]])\n",
        "\n",
        "def rotate_x(theta):\n",
        "    return np.array([[1, 0, 0, 0],\n",
        "                     [0, np.cos(theta), -np.sin(theta), 0],\n",
        "                     [0, np.sin(theta), np.cos(theta), 0],\n",
        "                     [0, 0, 0, 1]])\n",
        "\n",
        "def rotate_y(theta):\n",
        "    return np.array([[np.cos(theta), 0, np.sin(theta), 0],\n",
        "                     [0, 1, 0, 0],\n",
        "                     [-np.sin(theta), 0, np.cos(theta), 0],\n",
        "                     [0, 0, 0, 1]])\n",
        "\n",
        "def translate_x(d):\n",
        "    return np.array([[1, 0, 0, d],\n",
        "                     [0, 1, 0, 0],\n",
        "                     [0, 0, 1, 0],\n",
        "                     [0, 0, 0, 1]])\n",
        "\n",
        "def translate_y(d):\n",
        "    return np.array([[1, 0, 0, 0],\n",
        "                     [0, 1, 0, d],\n",
        "                     [0, 0, 1, 0],\n",
        "                     [0, 0, 0, 1]])\n",
        "\n",
        "def translate_z(d):\n",
        "    return np.array([[1, 0, 0, 0],\n",
        "                     [0, 1, 0, 0],\n",
        "                     [0, 0, 1, d],\n",
        "                     [0, 0, 0, 1]])\n",
        "\n",
        "def validate_matrix(matrix):\n",
        "\n",
        "    tolerance = 1e-12\n",
        "    # Define a function to check if a value is close to zero within the tolerance\n",
        "    def is_close_to_zero(value):\n",
        "        return abs(value) < tolerance\n",
        "\n",
        "    # Iterate through each element in the matrix\n",
        "    for i in range(matrix.shape[0]):\n",
        "        for j in range(matrix.shape[1]):\n",
        "            # If the element is close to zero, set it to zero\n",
        "            if is_close_to_zero(matrix[i][j]):\n",
        "                matrix[i][j] = 0\n",
        "\n"
      ]
    },
    {
      "cell_type": "code",
      "source": [
        "class Manipulator:\n",
        "  def __init__(self, l, m):\n",
        "    self.l = l\n",
        "    self.m = m\n",
        "    self.q = q\n",
        "    self.lc = [l_i / 2 for l_i in l]\n",
        "\n",
        "  def set_config(self, q):\n",
        "    self.q = q\n",
        "\n",
        "  def get_config(self):\n",
        "    return self.q\n",
        "\n",
        "\n",
        "l = [1 for _ in range(6)]\n",
        "m = [1 for _ in range(6)]\n",
        "q = [np.pi/2, np.pi/3, np.pi/4, 0, np.pi/12, 0]\n",
        "\n",
        "manipulator = Manipulator(l, m)\n",
        "manipulator.set_config(q)"
      ],
      "metadata": {
        "id": "HouDN1Sz2YwB"
      },
      "execution_count": 18,
      "outputs": []
    },
    {
      "cell_type": "code",
      "source": [
        "# theta1, theta2, theta3, theta4, theta5, theta6 = q\n",
        "# T_0 = np.identity(4)\n",
        "# T_01 = rotate_z(theta1) @ translate_z(l1) @ rotate_z(np.pi/2) @ rotate_x(np.pi/2)\n",
        "# T_12 = rotate_z(theta2) @ translate_x(l2)\n",
        "# T_23 = rotate_z(theta3) @ translate_x(l3) @ rotate_y(np.pi/2) @ rotate_z(np.pi/2)\n",
        "# T_34 = rotate_z(theta4) @ translate_z(l4) @ rotate_x(-np.pi/2) @ rotate_z(-np.pi)\n",
        "# T_45 = rotate_z(theta5) @ translate_y(l5) @ rotate_x(-np.pi/2)\n",
        "# T_56 = rotate_z(theta6) @ translate_z(l6)\n"
      ],
      "metadata": {
        "id": "hMhtsOyJ7wkq"
      },
      "execution_count": 4,
      "outputs": []
    },
    {
      "cell_type": "code",
      "source": [
        "# Check translations\n",
        "\n",
        "def validate_matrices(matrices):\n",
        "    tolerance = 1e-12\n",
        "\n",
        "    # Define a function to check if a value is close to zero within the tolerance\n",
        "    def is_close_to_zero(value):\n",
        "        return abs(value) < tolerance\n",
        "\n",
        "    validated_matrices = []\n",
        "    # Iterate through each matrix in the list\n",
        "    for matrix in matrices:\n",
        "        print(matrix.shape)\n",
        "        # Iterate through each element in the matrix\n",
        "        for i in range(len(matrix)):\n",
        "            for j in range(matrix.shape[1]):\n",
        "                # If the element is close to zero, set it to zero\n",
        "                if is_close_to_zero(matrix[i][j]):\n",
        "                    matrix[i][j] = 0\n",
        "        # Add the validated matrix to the list\n",
        "        validated_matrices.append(matrix)\n",
        "\n",
        "    return validated_matrices\n",
        "\n",
        "\n",
        "def calculate_com(Manipiulator: manipulator):\n",
        "    theta1, theta2, theta3, theta4, theta5, theta6 = manipulator.get_config()\n",
        "    lc = manipulator.lc\n",
        "\n",
        "    T_01 = rotate_z(theta1) @ rotate_z(np.pi/2) @ rotate_x(np.pi/2)\n",
        "    com1 = T_01 @ translate_z(lc[0])\n",
        "\n",
        "    T_02 = T_01 @ translate_z(l[0]) @ rotate_z(theta2)\n",
        "    com2 = T_02 @ translate_x(lc[1])\n",
        "\n",
        "    T_03 = T_02 @ translate_x(l[1]) @ rotate_z(theta3) @ rotate_y(np.pi/2) @ rotate_z(np.pi/2)\n",
        "    com3 = T_03 @ translate_x(lc[2])\n",
        "\n",
        "    T_04 = T_03 @ translate_x(l[2]) @ rotate_z(theta4) @ rotate_x(-np.pi/2) @ rotate_z(-np.pi)\n",
        "    com4 = T_04 @ translate_z(lc[3])\n",
        "\n",
        "    T_05 = T_04 @ translate_z(l[3]) @ rotate_z(theta5) @ rotate_x(-np.pi/2)\n",
        "    com5 = T_05 @ translate_y(lc[4])\n",
        "\n",
        "    T_06 = T_05 @ translate_y(l[4]) @ rotate_z(theta6)\n",
        "    com6 = T_06 @ translate_z(lc[5])\n",
        "    coms = [com1, com2, com3, com4, com5, com6]\n",
        "    # coms = validate_matrix(coms)\n",
        "\n",
        "    return coms\n"
      ],
      "metadata": {
        "id": "6qWoOk282YPj"
      },
      "execution_count": 16,
      "outputs": []
    },
    {
      "cell_type": "code",
      "source": [
        "calculate_com(manipulator)"
      ],
      "metadata": {
        "colab": {
          "base_uri": "https://localhost:8080/"
        },
        "id": "2KL0YWys6rZ5",
        "outputId": "91df9665-4927-45cd-bcc0-e8ac26b6aaf5"
      },
      "execution_count": 17,
      "outputs": [
        {
          "output_type": "execute_result",
          "data": {
            "text/plain": [
              "[array([[-1.00000000e+00, -7.49879891e-33,  1.22464680e-16,\n",
              "          6.12323400e-17],\n",
              "        [ 1.22464680e-16, -6.12323400e-17,  1.00000000e+00,\n",
              "          5.00000000e-01],\n",
              "        [ 0.00000000e+00,  1.00000000e+00,  6.12323400e-17,\n",
              "          3.06161700e-17],\n",
              "        [ 0.00000000e+00,  0.00000000e+00,  0.00000000e+00,\n",
              "          1.00000000e+00]]),\n",
              " array([[-5.00000000e-01,  8.66025404e-01,  1.22464680e-16,\n",
              "         -2.50000000e-01],\n",
              "        [ 8.20357802e-18, -1.36673694e-16,  1.00000000e+00,\n",
              "          1.00000000e+00],\n",
              "        [ 8.66025404e-01,  5.00000000e-01,  6.12323400e-17,\n",
              "          4.33012702e-01],\n",
              "        [ 0.00000000e+00,  0.00000000e+00,  0.00000000e+00,\n",
              "          1.00000000e+00]]),\n",
              " array([[ 9.65925826e-01,  1.65762483e-16,  2.58819045e-01,\n",
              "         -1.70370869e-02],\n",
              "        [-1.63676041e-16,  1.00000000e+00, -2.96097501e-17,\n",
              "          1.00000000e+00],\n",
              "        [-2.58819045e-01, -1.37616544e-17,  9.65925826e-01,\n",
              "          7.36615881e-01],\n",
              "        [ 0.00000000e+00,  0.00000000e+00,  0.00000000e+00,\n",
              "          1.00000000e+00]]),\n",
              " array([[-9.65925826e-01,  2.58819045e-01,  1.81610578e-16,\n",
              "          4.65925826e-01],\n",
              "        [ 1.63676041e-16, -9.08420901e-17,  1.00000000e+00,\n",
              "          1.50000000e+00],\n",
              "        [ 2.58819045e-01,  9.65925826e-01,  4.53842442e-17,\n",
              "          6.07206359e-01],\n",
              "        [ 0.00000000e+00,  0.00000000e+00,  0.00000000e+00,\n",
              "          1.00000000e+00]]),\n",
              " array([[-8.66025404e-01, -1.50994409e-16,  5.00000000e-01,\n",
              "          4.65925826e-01],\n",
              "        [ 1.34587252e-16, -1.00000000e+00, -6.88768577e-17,\n",
              "          1.50000000e+00],\n",
              "        [ 5.00000000e-01,  7.64451774e-18,  8.66025404e-01,\n",
              "          6.07206359e-01],\n",
              "        [ 0.00000000e+00,  0.00000000e+00,  0.00000000e+00,\n",
              "          1.00000000e+00]]),\n",
              " array([[-8.66025404e-01, -1.50994409e-16,  5.00000000e-01,\n",
              "          7.15925826e-01],\n",
              "        [ 1.34587252e-16, -1.00000000e+00, -6.88768577e-17,\n",
              "          1.00000000e+00],\n",
              "        [ 5.00000000e-01,  7.64451774e-18,  8.66025404e-01,\n",
              "          1.04021906e+00],\n",
              "        [ 0.00000000e+00,  0.00000000e+00,  0.00000000e+00,\n",
              "          1.00000000e+00]])]"
            ]
          },
          "metadata": {},
          "execution_count": 17
        }
      ]
    },
    {
      "cell_type": "code",
      "source": [
        "def calculate_jacobian_v():\n",
        ""
      ],
      "metadata": {
        "id": "bk2zpZPXv3-7"
      },
      "execution_count": null,
      "outputs": []
    },
    {
      "cell_type": "code",
      "source": [
        "def calculate_jacobian_w():\n",
        "  pass"
      ],
      "metadata": {
        "id": "H4bCmAiT9siw"
      },
      "execution_count": null,
      "outputs": []
    },
    {
      "cell_type": "code",
      "source": [
        "# def inertia_matrix():\n"
      ],
      "metadata": {
        "id": "HbLneJXPwjV4"
      },
      "execution_count": null,
      "outputs": []
    },
    {
      "cell_type": "code",
      "source": [
        "class MassMatrix:\n",
        "  def __init__(self, J, m):\n",
        "    self.J = J\n",
        "    self.m = m\n",
        "\n",
        "  def compute(self, q):\n",
        "    return self.J(q) + m"
      ],
      "metadata": {
        "id": "og65FPcFx-Pt"
      },
      "execution_count": 13,
      "outputs": []
    },
    {
      "cell_type": "code",
      "source": [
        "def J(q):\n",
        "  return q * 5\n",
        "\n",
        "m = 5\n",
        "\n",
        "massMatrix = MassMatrix(J, m)"
      ],
      "metadata": {
        "id": "JHmv-t9SyYyC"
      },
      "execution_count": 14,
      "outputs": []
    },
    {
      "cell_type": "code",
      "source": [
        "massMatrix.compute(5)"
      ],
      "metadata": {
        "colab": {
          "base_uri": "https://localhost:8080/"
        },
        "id": "OdomvgVFyrVZ",
        "outputId": "2b1113c7-e350-4bf5-fff8-772d6aa4084e"
      },
      "execution_count": 9,
      "outputs": [
        {
          "output_type": "execute_result",
          "data": {
            "text/plain": [
              "30"
            ]
          },
          "metadata": {},
          "execution_count": 9
        }
      ]
    },
    {
      "cell_type": "code",
      "source": [
        "massMatrix.compute(1)"
      ],
      "metadata": {
        "colab": {
          "base_uri": "https://localhost:8080/"
        },
        "id": "j1i7iVY6ywSp",
        "outputId": "85b0e5d3-9bba-4857-b9bf-5418e9ba90c0"
      },
      "execution_count": 10,
      "outputs": [
        {
          "output_type": "execute_result",
          "data": {
            "text/plain": [
              "10"
            ]
          },
          "metadata": {},
          "execution_count": 10
        }
      ]
    },
    {
      "cell_type": "code",
      "source": [
        "def massMatrix(J, m, q):\n",
        "  return J(q) + m"
      ],
      "metadata": {
        "id": "EvCrfwGoy4jr"
      },
      "execution_count": 12,
      "outputs": []
    },
    {
      "cell_type": "code",
      "source": [
        "massMatrix(J, )"
      ],
      "metadata": {
        "id": "JS-m29KMzHvM"
      },
      "execution_count": null,
      "outputs": []
    }
  ]
}