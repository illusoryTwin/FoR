{
  "nbformat": 4,
  "nbformat_minor": 0,
  "metadata": {
    "colab": {
      "provenance": [],
      "authorship_tag": "ABX9TyNWf9l9y8MDxdzDtgHNF43u",
      "include_colab_link": true
    },
    "kernelspec": {
      "name": "python3",
      "display_name": "Python 3"
    },
    "language_info": {
      "name": "python"
    }
  },
  "cells": [
    {
      "cell_type": "markdown",
      "metadata": {
        "id": "view-in-github",
        "colab_type": "text"
      },
      "source": [
        "<a href=\"https://colab.research.google.com/github/illusoryTwin/FoR/blob/mass_matrix/assig3/FoRassig3.ipynb\" target=\"_parent\"><img src=\"https://colab.research.google.com/assets/colab-badge.svg\" alt=\"Open In Colab\"/></a>"
      ]
    },
    {
      "cell_type": "code",
      "source": [
        "import numpy as np"
      ],
      "metadata": {
        "id": "ucsarqrz2KtQ"
      },
      "execution_count": 1,
      "outputs": []
    },
    {
      "cell_type": "code",
      "execution_count": 2,
      "metadata": {
        "id": "m8Xp-BsWgUWQ"
      },
      "outputs": [],
      "source": [
        "# Define rotation and translation functions\n",
        "def rotate_z(theta):\n",
        "    return np.array([[np.cos(theta), -np.sin(theta), 0, 0],\n",
        "                     [np.sin(theta), np.cos(theta), 0, 0],\n",
        "                     [0, 0, 1, 0],\n",
        "                     [0, 0, 0, 1]])\n",
        "\n",
        "def rotate_x(theta):\n",
        "    return np.array([[1, 0, 0, 0],\n",
        "                     [0, np.cos(theta), -np.sin(theta), 0],\n",
        "                     [0, np.sin(theta), np.cos(theta), 0],\n",
        "                     [0, 0, 0, 1]])\n",
        "\n",
        "def rotate_y(theta):\n",
        "    return np.array([[np.cos(theta), 0, np.sin(theta), 0],\n",
        "                     [0, 1, 0, 0],\n",
        "                     [-np.sin(theta), 0, np.cos(theta), 0],\n",
        "                     [0, 0, 0, 1]])\n",
        "\n",
        "def translate_x(d):\n",
        "    return np.array([[1, 0, 0, d],\n",
        "                     [0, 1, 0, 0],\n",
        "                     [0, 0, 1, 0],\n",
        "                     [0, 0, 0, 1]])\n",
        "\n",
        "def translate_y(d):\n",
        "    return np.array([[1, 0, 0, 0],\n",
        "                     [0, 1, 0, d],\n",
        "                     [0, 0, 1, 0],\n",
        "                     [0, 0, 0, 1]])\n",
        "\n",
        "def translate_z(d):\n",
        "    return np.array([[1, 0, 0, 0],\n",
        "                     [0, 1, 0, 0],\n",
        "                     [0, 0, 1, d],\n",
        "                     [0, 0, 0, 1]])\n",
        "\n",
        "def validate_matrix(matrix):\n",
        "\n",
        "    tolerance = 1e-12\n",
        "    # Define a function to check if a value is close to zero within the tolerance\n",
        "    def is_close_to_zero(value):\n",
        "        return abs(value) < tolerance\n",
        "\n",
        "    # Iterate through each element in the matrix\n",
        "    for i in range(matrix.shape[0]):\n",
        "        for j in range(matrix.shape[1]):\n",
        "            # If the element is close to zero, set it to zero\n",
        "            if is_close_to_zero(matrix[i][j]):\n",
        "                matrix[i][j] = 0\n",
        "\n"
      ]
    },
    {
      "cell_type": "code",
      "source": [
        "class Manipulator:\n",
        "  def __init__(self, l, m, r=0.05):\n",
        "    self.l = l # length of links\n",
        "    self.m = m #??????????\n",
        "    self.q = q\n",
        "    self.r = [r for _ in range(6)] # radii of cylindrical links\n",
        "    self.h = l # heights of cylindrical links\n",
        "    self.lc = [l_i / 2 for l_i in l]\n",
        "\n",
        "\n",
        "  def set_config(self, q):\n",
        "    self.q = q\n",
        "\n",
        "  def get_config(self):\n",
        "    return self.q\n",
        "\n",
        "\n",
        "l = [1 for _ in range(6)]\n",
        "m = [1 for _ in range(6)]\n",
        "q = [np.pi/2, np.pi/3, np.pi/4, 0, np.pi/12, 0]\n",
        "\n",
        "manipulator = Manipulator(l, m)\n",
        "manipulator.set_config(q)"
      ],
      "metadata": {
        "id": "HouDN1Sz2YwB"
      },
      "execution_count": 3,
      "outputs": []
    },
    {
      "cell_type": "code",
      "source": [
        "# test\n",
        "\n",
        "\n",
        "def validate_matrices(matrices):\n",
        "  tolerance = 1e-12\n",
        "\n",
        "  # Define a function to check if a value is close to zero within the tolerance\n",
        "  def is_close_to_zero(value):\n",
        "      return abs(value) < tolerance\n",
        "\n",
        "  validated_matrices = []\n",
        "\n",
        "  for matrix in matrices:\n",
        "    for i in range(matrix.shape[0]):\n",
        "      for j in range(matrix.shape[1]):\n",
        "        if is_close_to_zero(matrix[i][j]):\n",
        "          matrix[i][j] = 0\n",
        "    validated_matrices.append(matrix)\n",
        "\n",
        "  return validated_matrices\n",
        "\n",
        "\n",
        "T_01 = rotate_z(np.pi/3) @ translate_z(1) @ rotate_z(np.pi/2) @ rotate_x(np.pi/2)\n",
        "validate_matrices([T_01])\n",
        "print(T_01)\n",
        "T_01[:3, 1]\n"
      ],
      "metadata": {
        "colab": {
          "base_uri": "https://localhost:8080/"
        },
        "id": "WAwc24V2iePn",
        "outputId": "ed38a646-8a60-40a5-f734-1d624cea9261"
      },
      "execution_count": 35,
      "outputs": [
        {
          "output_type": "stream",
          "name": "stdout",
          "text": [
            "[[-0.8660254  0.         0.5        0.       ]\n",
            " [ 0.5        0.         0.8660254  0.       ]\n",
            " [ 0.         1.         0.         1.       ]\n",
            " [ 0.         0.         0.         1.       ]]\n"
          ]
        },
        {
          "output_type": "execute_result",
          "data": {
            "text/plain": [
              "array([0., 0., 1.])"
            ]
          },
          "metadata": {},
          "execution_count": 35
        }
      ]
    },
    {
      "cell_type": "code",
      "source": [
        "def validate_matrices(matrices):\n",
        "  tolerance = 1e-12\n",
        "\n",
        "  # Define a function to check if a value is close to zero within the tolerance\n",
        "  def is_close_to_zero(value):\n",
        "      return abs(value) < tolerance\n",
        "\n",
        "  validated_matrices = []\n",
        "\n",
        "  for matrix in matrices:\n",
        "    for i in range(matrix.shape[0]):\n",
        "      for j in range(matrix.shape[1]):\n",
        "        if is_close_to_zero(matrix[i][j]):\n",
        "          matrix[i][j] = 0\n",
        "    validated_matrices.append(matrix)\n",
        "\n",
        "  return validated_matrices\n",
        "\n",
        "\n",
        "def calculate_com(Manipiulator: manipulator):\n",
        "    theta1, theta2, theta3, theta4, theta5, theta6 = manipulator.get_config()\n",
        "    lc = manipulator.lc\n",
        "\n",
        "    T_01 = rotate_z(theta1) @ rotate_z(np.pi/2) @ rotate_x(np.pi/2)\n",
        "    com1 = T_01 @ translate_z(lc[0])\n",
        "\n",
        "    T_02 = T_01 @ translate_z(l[0]) @ rotate_z(theta2)\n",
        "    com2 = T_02 @ translate_x(lc[1])\n",
        "\n",
        "    T_03 = T_02 @ translate_x(l[1]) @ rotate_z(theta3) @ rotate_y(np.pi/2) @ rotate_z(np.pi/2)\n",
        "    com3 = T_03 @ translate_x(lc[2])\n",
        "\n",
        "    T_04 = T_03 @ translate_x(l[2]) @ rotate_z(theta4) @ rotate_x(-np.pi/2) @ rotate_z(-np.pi)\n",
        "    com4 = T_04 @ translate_z(lc[3])\n",
        "\n",
        "    T_05 = T_04 @ translate_z(l[3]) @ rotate_z(theta5) @ rotate_x(-np.pi/2)\n",
        "    com5 = T_05 @ translate_y(lc[4])\n",
        "\n",
        "    T_06 = T_05 @ translate_y(l[4]) @ rotate_z(theta6)\n",
        "    com6 = T_06 @ translate_z(lc[5])\n",
        "    coms = [com1, com2, com3, com4, com5, com6]\n",
        "    coms = validate_matrices(coms)\n",
        "    return coms\n"
      ],
      "metadata": {
        "id": "6qWoOk282YPj"
      },
      "execution_count": 37,
      "outputs": []
    },
    {
      "cell_type": "code",
      "source": [
        "coms_matrices = calculate_com(manipulator)"
      ],
      "metadata": {
        "id": "2KL0YWys6rZ5"
      },
      "execution_count": 38,
      "outputs": []
    },
    {
      "cell_type": "code",
      "source": [
        "# First draft\n",
        "\n",
        "class InertiaTensorCylinder:\n",
        "    def __init__(self, m, r, h):\n",
        "        self.m = m\n",
        "        self.r = r\n",
        "        self.h = h\n",
        "\n",
        "    def get_inertia_tensor(self):\n",
        "        I = np.array([[self.m*self.h**2/2 + self.m*self.r**2/4, 0, 0],\n",
        "                      [0, self.m*self.h**2/12 + self.m*self.r**2/4, 0],\n",
        "                      [0, 0, self.m*self.r**2/2]])\n",
        "        return I"
      ],
      "metadata": {
        "id": "HR3mFUDfuPi5"
      },
      "execution_count": null,
      "outputs": []
    },
    {
      "cell_type": "code",
      "source": [
        "class InertiaTensorCylinder:\n",
        "    def __init__(self, m, r, h):\n",
        "        self.m = m\n",
        "        self.r = r\n",
        "        self.h = h\n",
        "\n",
        "    def get_inertia_tensor(self):\n",
        "        I = np.array([[self.m*self.h**2/2 + self.m*self.r**2/4, 0, 0],\n",
        "                      [0, self.m*self.h**2/12 + self.m*self.r**2/4, 0],\n",
        "                      [0, 0, self.m*self.r**2/2]])\n",
        "        return I\n",
        "\n",
        "    # def get_inertia_tensors(self):\n",
        "    #     I_matrices = []\n",
        "    #     for i in range(6):\n",
        "    #         I_matrices.append(self.get_inertia_tensor())  # Corrected method call\n",
        "    #     return I_matrices\n"
      ],
      "metadata": {
        "id": "VEkPwTTtOyW_"
      },
      "execution_count": null,
      "outputs": []
    },
    {
      "cell_type": "code",
      "source": [
        "import sympy as sp\n",
        "\n",
        "def calculate_jacobian_v(com, q_symb):\n",
        "  jacobian_v = np.zeros(6, 3, 6)\n",
        "  for k in range(6):\n",
        "    for i in range(3):\n",
        "      for j in range(6):\n",
        "        jacobian_v[k, i, j] = sp.diff(com[k, i, 3], q_symb)\n",
        "  return jacobian_v\n",
        "\n",
        ""
      ],
      "metadata": {
        "id": "bk2zpZPXv3-7"
      },
      "execution_count": 25,
      "outputs": []
    },
    {
      "cell_type": "code",
      "source": [
        "def calculate_jacobian_w():\n",
        "  jacobian_w  = np.zeros(6, 3, 6)\n",
        "  for k in range(6):\n",
        "    for i in range(3):\n",
        "      for j in range(6):\n",
        "        jacobian_w[k, i, j] ="
      ],
      "metadata": {
        "id": "H4bCmAiT9siw"
      },
      "execution_count": null,
      "outputs": []
    },
    {
      "cell_type": "code",
      "source": [
        "# def inertia_matrix():\n"
      ],
      "metadata": {
        "id": "HbLneJXPwjV4"
      },
      "execution_count": null,
      "outputs": []
    },
    {
      "cell_type": "code",
      "source": [
        "def define_R(com):\n",
        "    R = np.zeros((6, 3, 3))  # Correcting the shape specification\n",
        "    com = np.array(com)  # Convert the list to a NumPy array\n",
        "    for k in range(6):\n",
        "        R[k] = com[k, :3, :3]\n",
        "    return R\n",
        "\n",
        "R = define_R(coms_matrices)\n",
        "R"
      ],
      "metadata": {
        "id": "43kLr25Imexm"
      },
      "execution_count": null,
      "outputs": []
    },
    {
      "cell_type": "code",
      "source": [
        "# First draft\n",
        "\n",
        "class MassMatrix:\n",
        "  # def __init__(self, J, m):\n",
        "  #   self.J = J\n",
        "  #   self.m = m\n",
        "\n",
        "  def __init__(self, manipulator):\n",
        "    self.manipulator = manipulator\n",
        "\n",
        "  def set_com_matrices():\n",
        "    self.com = calculate_com(manipulator)\n",
        "\n",
        "  R = define_R(self.com)\n",
        "\n",
        "  I = InertiaTensorCylinder().get_inrtia_tensor()\n",
        "  def get_I():\n",
        "    pass\n",
        "\n",
        "  def get_Jv():\n",
        "    pass\n",
        "\n",
        "  def get_Jw():\n",
        "    pass\n",
        "\n",
        "  def compute(self, q):\n",
        "    for i in range(6):\n",
        "      M += m[i] @ j_v.T @ j_v\n",
        "    return self.J(q) + m"
      ],
      "metadata": {
        "id": "og65FPcFx-Pt"
      },
      "execution_count": 43,
      "outputs": []
    },
    {
      "cell_type": "code",
      "source": [
        "class MassMatrix:\n",
        "    # def __init__(self, manipulator):\n",
        "    #     self.manipulator = manipulator\n",
        "    #     self.com = None  # Initialize com attribute\n",
        "\n",
        "    # def set_com_matrices(self):  # Add 'self' as the first parameter\n",
        "    #     self.com = calculate_com(self.manipulator)  # Update com attribute\n",
        "\n",
        "    def __init__(self, manipulator):\n",
        "        self.manipulator = manipulator\n",
        "        self.com = calculate_com(self.manipulator)  # Update com attribute\n",
        "\n",
        "\n",
        "\n",
        "\n",
        "\n",
        "    def compute_mass_matrix(R):\n",
        "      M = 0\n",
        "      for i in range(6):\n",
        "        m_i = manipulator.m[i]\n",
        "        I_i = InertiaTensorCylinder(m_i)\n",
        "        R_i = define_R(self.com)[i]\n",
        "\n",
        "        # M += (m_i @ + )\n",
        "      return M\n",
        "\n",
        "\n",
        "\n"
      ],
      "metadata": {
        "id": "riovd5DFrtbL"
      },
      "execution_count": null,
      "outputs": []
    },
    {
      "cell_type": "code",
      "source": [
        "def J(q):\n",
        "  return q * 5\n",
        "\n",
        "m = 5\n",
        "\n",
        "massMatrix = MassMatrix(J, m)"
      ],
      "metadata": {
        "id": "JHmv-t9SyYyC"
      },
      "execution_count": 14,
      "outputs": []
    },
    {
      "cell_type": "code",
      "source": [
        "massMatrix.compute(5)"
      ],
      "metadata": {
        "colab": {
          "base_uri": "https://localhost:8080/"
        },
        "id": "OdomvgVFyrVZ",
        "outputId": "2b1113c7-e350-4bf5-fff8-772d6aa4084e"
      },
      "execution_count": 9,
      "outputs": [
        {
          "output_type": "execute_result",
          "data": {
            "text/plain": [
              "30"
            ]
          },
          "metadata": {},
          "execution_count": 9
        }
      ]
    },
    {
      "cell_type": "code",
      "source": [
        "massMatrix.compute(1)"
      ],
      "metadata": {
        "colab": {
          "base_uri": "https://localhost:8080/"
        },
        "id": "j1i7iVY6ywSp",
        "outputId": "85b0e5d3-9bba-4857-b9bf-5418e9ba90c0"
      },
      "execution_count": 10,
      "outputs": [
        {
          "output_type": "execute_result",
          "data": {
            "text/plain": [
              "10"
            ]
          },
          "metadata": {},
          "execution_count": 10
        }
      ]
    },
    {
      "cell_type": "code",
      "source": [
        "def massMatrix(J, m, q):\n",
        "  return J(q) + m"
      ],
      "metadata": {
        "id": "EvCrfwGoy4jr"
      },
      "execution_count": 12,
      "outputs": []
    },
    {
      "cell_type": "code",
      "source": [
        "massMatrix(J, )"
      ],
      "metadata": {
        "id": "JS-m29KMzHvM"
      },
      "execution_count": null,
      "outputs": []
    }
  ]
}