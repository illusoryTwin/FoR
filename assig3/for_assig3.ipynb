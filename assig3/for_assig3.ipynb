{
  "nbformat": 4,
  "nbformat_minor": 0,
  "metadata": {
    "colab": {
      "provenance": [],
      "authorship_tag": "ABX9TyN0TYsKqaDh74/ufhXxiB+r",
      "include_colab_link": true
    },
    "kernelspec": {
      "name": "python3",
      "display_name": "Python 3"
    },
    "language_info": {
      "name": "python"
    }
  },
  "cells": [
    {
      "cell_type": "markdown",
      "metadata": {
        "id": "view-in-github",
        "colab_type": "text"
      },
      "source": [
        "<a href=\"https://colab.research.google.com/github/illusoryTwin/FoR/blob/main/assig3/for_assig3.ipynb\" target=\"_parent\"><img src=\"https://colab.research.google.com/assets/colab-badge.svg\" alt=\"Open In Colab\"/></a>"
      ]
    },
    {
      "cell_type": "markdown",
      "source": [
        "# Define the fundamental functions\n",
        "\n",
        "### Transformation matrices"
      ],
      "metadata": {
        "id": "-345b5vdbHkF"
      }
    },
    {
      "cell_type": "code",
      "execution_count": 12,
      "metadata": {
        "id": "qdAozDUDbCqo"
      },
      "outputs": [],
      "source": [
        "import numpy as np\n",
        "\n",
        "# Define rotation and translation functions\n",
        "def rotate_z(theta):\n",
        "    return np.array([[np.cos(theta), -np.sin(theta), 0, 0],\n",
        "                     [np.sin(theta), np.cos(theta), 0, 0],\n",
        "                     [0, 0, 1, 0],\n",
        "                     [0, 0, 0, 1]])\n",
        "\n",
        "def rotate_x(theta):\n",
        "    return np.array([[1, 0, 0, 0],\n",
        "                     [0, np.cos(theta), -np.sin(theta), 0],\n",
        "                     [0, np.sin(theta), np.cos(theta), 0],\n",
        "                     [0, 0, 0, 1]])\n",
        "\n",
        "def rotate_y(theta):\n",
        "    return np.array([[np.cos(theta), 0, np.sin(theta), 0],\n",
        "                     [0, 1, 0, 0],\n",
        "                     [-np.sin(theta), 0, np.cos(theta), 0],\n",
        "                     [0, 0, 0, 1]])\n",
        "\n",
        "def translate_x(d):\n",
        "    return np.array([[1, 0, 0, d],\n",
        "                     [0, 1, 0, 0],\n",
        "                     [0, 0, 1, 0],\n",
        "                     [0, 0, 0, 1]])\n",
        "\n",
        "def translate_y(d):\n",
        "    return np.array([[1, 0, 0, 0],\n",
        "                     [0, 1, 0, d],\n",
        "                     [0, 0, 1, 0],\n",
        "                     [0, 0, 0, 1]])\n",
        "\n",
        "def translate_z(d):\n",
        "    return np.array([[1, 0, 0, 0],\n",
        "                     [0, 1, 0, 0],\n",
        "                     [0, 0, 1, d],\n",
        "                     [0, 0, 0, 1]])\n",
        "\n",
        "\n",
        "def validate_matrices(matrices):\n",
        "  tolerance = 1e-12\n",
        "\n",
        "  # Define a function to check if a value is close to zero within the tolerance\n",
        "  def is_close_to_zero(value):\n",
        "      return abs(value) < tolerance\n",
        "\n",
        "  validated_matrices = []\n",
        "\n",
        "  for matrix in matrices:\n",
        "    for i in range(matrix.shape[0]):\n",
        "      for j in range(matrix.shape[1]):\n",
        "        if is_close_to_zero(matrix[i][j]):\n",
        "          matrix[i][j] = 0\n",
        "    validated_matrices.append(matrix)\n",
        "\n",
        "  return validated_matrices\n",
        "\n"
      ]
    },
    {
      "cell_type": "markdown",
      "source": [
        "### Symbolic transformation matrices"
      ],
      "metadata": {
        "id": "bt-jv30Wbc8t"
      }
    },
    {
      "cell_type": "code",
      "source": [
        "import sympy as sp\n",
        "\n",
        "# Define symbolic rotation and translation functions\n",
        "def rotate_z_sym(theta):\n",
        "    return sp.Matrix([\n",
        "        [sp.cos(theta), -sp.sin(theta), 0, 0],\n",
        "        [sp.sin(theta), sp.cos(theta), 0, 0],\n",
        "        [0, 0, 1, 0],\n",
        "        [0, 0, 0, 1]\n",
        "    ])\n",
        "\n",
        "def rotate_x_sym(theta):\n",
        "    return sp.Matrix([\n",
        "        [1, 0, 0, 0],\n",
        "        [0, sp.cos(theta), -sp.sin(theta), 0],\n",
        "        [0, sp.sin(theta), sp.cos(theta), 0],\n",
        "        [0, 0, 0, 1]\n",
        "    ])\n",
        "\n",
        "def rotate_y_sym(theta):\n",
        "    return sp.Matrix([\n",
        "        [sp.cos(theta), 0, sp.sin(theta), 0],\n",
        "        [0, 1, 0, 0],\n",
        "        [-sp.sin(theta), 0, sp.cos(theta), 0],\n",
        "        [0, 0, 0, 1]\n",
        "    ])\n",
        "\n",
        "def translate_x_sym(d):\n",
        "    return sp.Matrix([\n",
        "        [1, 0, 0, d],\n",
        "        [0, 1, 0, 0],\n",
        "        [0, 0, 1, 0],\n",
        "        [0, 0, 0, 1]\n",
        "    ])\n",
        "\n",
        "def translate_y_sym(d):\n",
        "    return sp.Matrix([\n",
        "        [1, 0, 0, 0],\n",
        "        [0, 1, 0, d],\n",
        "        [0, 0, 1, 0],\n",
        "        [0, 0, 0, 1]\n",
        "    ])\n",
        "\n",
        "def translate_z_sym(d):\n",
        "    return sp.Matrix([\n",
        "        [1, 0, 0, 0],\n",
        "        [0, 1, 0, 0],\n",
        "        [0, 0, 1, d],\n",
        "        [0, 0, 0, 1]\n",
        "    ])\n",
        "\n",
        "def validate_matrix_sym(matrix):\n",
        "    tolerance = 1e-12\n",
        "    # Define a function to check if a value is close to zero within the tolerance\n",
        "    def is_close_to_zero(value):\n",
        "        return abs(value) < tolerance\n",
        "\n",
        "    # Iterate through each element in the matrix\n",
        "    for i in range(matrix.rows):\n",
        "        for j in range(matrix.cols):\n",
        "            # If the element is close to zero, set it to zero\n",
        "            if is_close_to_zero(matrix[i, j]):\n",
        "                matrix[i, j] = 0\n"
      ],
      "metadata": {
        "id": "JS-jEkOqbR_h"
      },
      "execution_count": 5,
      "outputs": []
    },
    {
      "cell_type": "markdown",
      "source": [
        "# Solving dynamics\n",
        "### Define the Manipulator class"
      ],
      "metadata": {
        "id": "ZTBC9lEsbkv6"
      }
    },
    {
      "cell_type": "code",
      "source": [
        "import numpy as np\n",
        "\n",
        "class Manipulator:\n",
        "    def __init__(self, l, m=[1 for _ in range(6)], r=[0.05 for _ in range(6)],\\\n",
        "                 q=None, q_prev=None):\n",
        "        self.l = l  # length of the links\n",
        "        self.m = m  # mass of the links\n",
        "        self.q = q  # configuration parameters (angles)\n",
        "        self.q_prev = q_prev # the previous configuration state\n",
        "        self.r = r  # radii of cylindrical links\n",
        "        self.h = l  # heights of cylindrical links\n",
        "        self.lc = [l_i / 2 for l_i in l]  # distances to the links' CoMs\n",
        "\n",
        "    def set_config(self, q):\n",
        "        self.q = q\n",
        "\n",
        "    def get_config(self):\n",
        "        return self.q\n",
        "\n",
        "    def get_config_in_pi(self, q):\n",
        "        return [str(q_ / np.pi) + \"pi\" for q_ in q]\n",
        "\n",
        "    def set_prev_config(self, q_prev):\n",
        "        self.q_prev = q_prev\n",
        "\n",
        "    def get_prev_config(self):\n",
        "        return self.get_config_in_pi(self.q_prev)\n",
        "\n",
        "    def get_delta_q_in_pi(self):\n",
        "        delta_q = [q_ - q_prev_ for (q_, q_prev_) in zip(self.q, self.q_prev)]\n",
        "        return self.get_config_in_pi(delta_q)  # Added 'self' parameter\n",
        "\n",
        "    def get_delta_q(self):\n",
        "        delta_q = [q_ - q_prev_ for (q_, q_prev_) in zip(self.q, self.q_prev)]\n",
        "        return delta_q  # Added 'self' parameter\n",
        "\n",
        "\n",
        "# Example of usage\n",
        "l = [1 for _ in range(6)]\n",
        "m = [1 for _ in range(6)]\n",
        "q = [np.pi/2, np.pi/3, np.pi/4, 0, np.pi/12, 0]\n",
        "q_prev = [np.pi/2, np.pi/6, np.pi/4, np.pi/12, np.pi/12, 0]\n",
        "\n",
        "manipulator = Manipulator(l, m)\n",
        "manipulator.set_config(q)\n",
        "manipulator.set_prev_config(q_prev)\n",
        "\n",
        "print(manipulator.get_config())\n",
        "print(manipulator.get_prev_config())\n",
        "print(\"delta q: \", manipulator.get_delta_q_in_pi())"
      ],
      "metadata": {
        "colab": {
          "base_uri": "https://localhost:8080/"
        },
        "id": "O5tMzGl4e6nJ",
        "outputId": "5de89da4-699f-4ccc-83bd-5951a23dc9c6"
      },
      "execution_count": 2,
      "outputs": [
        {
          "output_type": "stream",
          "name": "stdout",
          "text": [
            "[1.5707963267948966, 1.0471975511965976, 0.7853981633974483, 0, 0.2617993877991494, 0]\n",
            "['0.5pi', '0.16666666666666666pi', '0.25pi', '0.08333333333333333pi', '0.08333333333333333pi', '0.0pi']\n",
            "delta q:  ['0.0pi', '0.16666666666666666pi', '0.0pi', '-0.08333333333333333pi', '0.0pi', '0.0pi']\n"
          ]
        }
      ]
    },
    {
      "cell_type": "markdown",
      "source": [
        "### Find center of mass"
      ],
      "metadata": {
        "id": "hgEdkfW2v4LU"
      }
    },
    {
      "cell_type": "code",
      "source": [
        "def calculate_com(Manipiulator: manipulator):\n",
        "    theta1, theta2, theta3, theta4, theta5, theta6 = manipulator.get_config()\n",
        "    lc1, lc2, lc3, lc4, lc5, lc6 = manipulator.lc\n",
        "    l1, l2, l3, l4, l5, l6 = manipulator.l\n",
        "\n",
        "    T_0 = np.identity(4)\n",
        "    T_01 = rotate_z(theta1) @ translate_z(l1) @ rotate_z(np.pi/2) @ rotate_x(np.pi/2)\n",
        "    T_12 = rotate_z(theta2) @ translate_x(l2)\n",
        "    T_23 = rotate_z(theta3) @ translate_x(l3) @ rotate_y(np.pi/2) @ rotate_z(np.pi/2)\n",
        "    T_34 = rotate_z(theta4) @ translate_z(l4) @ rotate_x(-np.pi/2) @ rotate_z(-np.pi)\n",
        "    T_45 = rotate_z(theta5) @ translate_y(l5) @ rotate_x(-np.pi/2)\n",
        "    T_56 = rotate_z(theta6) @ translate_z(l6)\n",
        "\n",
        "\n",
        "    com1 = T_0 @ rotate_z(theta1) @ translate_z(lc1) @ rotate_z(np.pi/2) @ rotate_x(np.pi/2)\n",
        "\n",
        "    T_01 = T_0 @ T_01\n",
        "    com2 = T_01 @ rotate_z(theta2) @ translate_x(lc2)\n",
        "\n",
        "    T_02 = T_01 @ T_12\n",
        "    com3 = T_02 @ rotate_z(theta3) @ translate_x(lc3) @ rotate_y(np.pi/2) @ rotate_z(np.pi/2)\n",
        "\n",
        "    T_03 = T_02 @ T_23\n",
        "    com4 = T_03 @ rotate_z(theta4) @ translate_z(lc4) @ rotate_x(-np.pi/2) @ rotate_z(-np.pi)\n",
        "\n",
        "    T_04 = T_03 @ T_34\n",
        "    com5 = T_04 @ rotate_z(theta5) @ translate_y(lc5) @ rotate_x(-np.pi/2)\n",
        "\n",
        "    T_05 = T_04 @ T_45\n",
        "    com6 = T_05 @ rotate_z(theta6) @ translate_z(lc6)\n",
        "\n",
        "    coms = [com1, com2, com3, com4, com5, com6]\n",
        "    coms = validate_matrices(coms)\n",
        "    return coms\n",
        "\n",
        "q = [0]*6\n",
        "l = [1 for _ in range(6)]\n",
        "m = [1 for _ in range(6)]\n",
        "\n",
        "manipulator = Manipulator(l, m)\n",
        "manipulator.set_config(q)\n",
        "coms_matrices = calculate_com(manipulator)\n",
        "coms_matrices"
      ],
      "metadata": {
        "colab": {
          "base_uri": "https://localhost:8080/"
        },
        "id": "Kzh0zlsgcBig",
        "outputId": "d13abfd3-5fce-41ab-b853-4583d62a20df"
      },
      "execution_count": 19,
      "outputs": [
        {
          "output_type": "stream",
          "name": "stdout",
          "text": [
            "com1 [[ 6.12323400e-17 -6.12323400e-17  1.00000000e+00  0.00000000e+00]\n",
            " [ 1.00000000e+00  3.74939946e-33 -6.12323400e-17  0.00000000e+00]\n",
            " [ 0.00000000e+00  1.00000000e+00  6.12323400e-17  5.00000000e-01]\n",
            " [ 0.00000000e+00  0.00000000e+00  0.00000000e+00  1.00000000e+00]]\n",
            "com2 [[ 6.12323400e-17 -6.12323400e-17  1.00000000e+00  3.06161700e-17]\n",
            " [ 1.00000000e+00  3.74939946e-33 -6.12323400e-17  5.00000000e-01]\n",
            " [ 0.00000000e+00  1.00000000e+00  6.12323400e-17  1.00000000e+00]\n",
            " [ 0.00000000e+00  0.00000000e+00  0.00000000e+00  1.00000000e+00]]\n",
            "com3 [[-1.22464680e-16  1.00000000e+00  1.22464680e-16  9.18485099e-17]\n",
            " [ 1.12481984e-32 -1.22464680e-16  1.00000000e+00  1.50000000e+00]\n",
            " [ 1.00000000e+00  1.22464680e-16  3.74939946e-33  1.00000000e+00]\n",
            " [ 0.00000000e+00  0.00000000e+00  0.00000000e+00  1.00000000e+00]]\n",
            "com4 [[ 1.2246468e-16  6.1232340e-17  1.0000000e+00  1.8369702e-16]\n",
            " [ 1.2246468e-16  1.0000000e+00 -6.1232340e-17  2.5000000e+00]\n",
            " [-1.0000000e+00  1.2246468e-16  1.2246468e-16  1.0000000e+00]\n",
            " [ 0.0000000e+00  0.0000000e+00  0.0000000e+00  1.0000000e+00]]\n",
            "com5 [[ 1.2246468e-16 -1.0000000e+00  1.2246468e-16  2.7554553e-16]\n",
            " [ 1.2246468e-16  1.2246468e-16  1.0000000e+00  3.5000000e+00]\n",
            " [-1.0000000e+00 -1.2246468e-16  1.2246468e-16  1.0000000e+00]\n",
            " [ 0.0000000e+00  0.0000000e+00  0.0000000e+00  1.0000000e+00]]\n",
            "com6 [[ 1.2246468e-16 -1.0000000e+00  1.2246468e-16  3.6739404e-16]\n",
            " [ 1.2246468e-16  1.2246468e-16  1.0000000e+00  4.5000000e+00]\n",
            " [-1.0000000e+00 -1.2246468e-16  1.2246468e-16  1.0000000e+00]\n",
            " [ 0.0000000e+00  0.0000000e+00  0.0000000e+00  1.0000000e+00]]\n"
          ]
        },
        {
          "output_type": "execute_result",
          "data": {
            "text/plain": [
              "[array([[0. , 0. , 1. , 0. ],\n",
              "        [1. , 0. , 0. , 0. ],\n",
              "        [0. , 1. , 0. , 0.5],\n",
              "        [0. , 0. , 0. , 1. ]]),\n",
              " array([[0. , 0. , 1. , 0. ],\n",
              "        [1. , 0. , 0. , 0.5],\n",
              "        [0. , 1. , 0. , 1. ],\n",
              "        [0. , 0. , 0. , 1. ]]),\n",
              " array([[0. , 1. , 0. , 0. ],\n",
              "        [0. , 0. , 1. , 1.5],\n",
              "        [1. , 0. , 0. , 1. ],\n",
              "        [0. , 0. , 0. , 1. ]]),\n",
              " array([[ 0. ,  0. ,  1. ,  0. ],\n",
              "        [ 0. ,  1. ,  0. ,  2.5],\n",
              "        [-1. ,  0. ,  0. ,  1. ],\n",
              "        [ 0. ,  0. ,  0. ,  1. ]]),\n",
              " array([[ 0. , -1. ,  0. ,  0. ],\n",
              "        [ 0. ,  0. ,  1. ,  3.5],\n",
              "        [-1. ,  0. ,  0. ,  1. ],\n",
              "        [ 0. ,  0. ,  0. ,  1. ]]),\n",
              " array([[ 0. , -1. ,  0. ,  0. ],\n",
              "        [ 0. ,  0. ,  1. ,  4.5],\n",
              "        [-1. ,  0. ,  0. ,  1. ],\n",
              "        [ 0. ,  0. ,  0. ,  1. ]])]"
            ]
          },
          "metadata": {},
          "execution_count": 19
        }
      ]
    },
    {
      "cell_type": "code",
      "source": [
        "from sympy import symbols\n",
        "\n",
        "def calculate_com_symb(manipulator: Manipulator):\n",
        "    theta1, theta2, theta3, theta4, theta5, theta6 = symbols('theta1 theta2 theta3 theta4 theta5 theta6')\n",
        "    l = manipulator.l\n",
        "    lc = manipulator.lc\n",
        "\n",
        "    T_01 = rotate_z_sym(theta1) @ rotate_z(np.pi/2) @ rotate_x(np.pi/2)\n",
        "    com1 = T_01 @ translate_z(lc[0])\n",
        "\n",
        "    T_02 = T_01 @ translate_z(l[0]) @ rotate_z_sym(theta2)\n",
        "    com2 = T_02 @ translate_x(lc[1])\n",
        "\n",
        "    T_03 = T_02 @ translate_x(l[1]) @ rotate_z_sym(theta3) @ rotate_y(np.pi/2) @ rotate_z(np.pi/2)\n",
        "    com3 = T_03 @ translate_x(lc[2])\n",
        "\n",
        "    T_04 = T_03 @ translate_x(l[2]) @ rotate_z_sym(theta4) @ rotate_x(-np.pi/2) @ rotate_z(-np.pi)\n",
        "    com4 = T_04 @ translate_z(lc[3])\n",
        "\n",
        "    T_05 = T_04 @ translate_z(l[3]) @ rotate_z_sym(theta5) @ rotate_x(-np.pi/2)\n",
        "    com5 = T_05 @ translate_y(lc[4])\n",
        "\n",
        "    T_06 = T_05 @ translate_y(l[4]) @ rotate_z_sym(theta6)\n",
        "    com6 = T_06 @ translate_z(lc[5])\n",
        "    coms = [com1, com2, com3, com4, com5, com6]\n",
        "\n",
        "    return coms\n",
        "\n",
        "coms_matrices_symb = calculate_com_symb(manipulator)\n",
        "coms_matrices_symb"
      ],
      "metadata": {
        "id": "8sZlXv78favu"
      },
      "execution_count": null,
      "outputs": []
    },
    {
      "cell_type": "markdown",
      "source": [
        "### Calculate inertia/mass matrices assuming that the manipulator's links are cylindrical"
      ],
      "metadata": {
        "id": "b2AfjyIvCNrT"
      }
    },
    {
      "cell_type": "code",
      "source": [
        "class InertiaMatrixForCylinder:\n",
        "    def __init__(self, m, r, h):\n",
        "        self.m = m\n",
        "        self.r = r\n",
        "        self.h = h\n",
        "\n",
        "    def get_inertia_matrix(self):\n",
        "        I = np.array([[self.m*self.h**2/2 + self.m*self.r**2/4, 0, 0],\n",
        "                      [0, self.m*self.h**2/12 + self.m*self.r**2/4, 0],\n",
        "                      [0, 0, self.m*self.r**2/2]])\n",
        "        return I"
      ],
      "metadata": {
        "id": "qY79sURVvf72"
      },
      "execution_count": 7,
      "outputs": []
    },
    {
      "cell_type": "code",
      "source": [
        "# Example of usage\n",
        "\n",
        "l = [1 for _ in range(6)]\n",
        "m = [1 for _ in range(6)]\n",
        "# q = [np.pi/2, np.pi/3, np.pi/4, 0, np.pi/12, 0]\n",
        "\n",
        "manipulator = Manipulator(l, m)\n",
        "# manipulator.set_config(q)\n",
        "\n",
        "inertia_matrices = []\n",
        "\n",
        "\n",
        "for i in range(6):\n",
        "  inertia_matrix = InertiaMatrixForCylinder(manipulator.m[i], manipulator.r[i], manipulator.h[i])\n",
        "  inertia_matrices.append(inertia_matrix.get_inertia_matrix())\n",
        "\n",
        "inertia_matrices"
      ],
      "metadata": {
        "colab": {
          "base_uri": "https://localhost:8080/"
        },
        "id": "50eyazICwvTb",
        "outputId": "b081f259-c572-469d-862e-9c279efa9056"
      },
      "execution_count": null,
      "outputs": [
        {
          "output_type": "execute_result",
          "data": {
            "text/plain": [
              "[array([[0.500625  , 0.        , 0.        ],\n",
              "        [0.        , 0.08395833, 0.        ],\n",
              "        [0.        , 0.        , 0.00125   ]]),\n",
              " array([[0.500625  , 0.        , 0.        ],\n",
              "        [0.        , 0.08395833, 0.        ],\n",
              "        [0.        , 0.        , 0.00125   ]]),\n",
              " array([[0.500625  , 0.        , 0.        ],\n",
              "        [0.        , 0.08395833, 0.        ],\n",
              "        [0.        , 0.        , 0.00125   ]]),\n",
              " array([[0.500625  , 0.        , 0.        ],\n",
              "        [0.        , 0.08395833, 0.        ],\n",
              "        [0.        , 0.        , 0.00125   ]]),\n",
              " array([[0.500625  , 0.        , 0.        ],\n",
              "        [0.        , 0.08395833, 0.        ],\n",
              "        [0.        , 0.        , 0.00125   ]]),\n",
              " array([[0.500625  , 0.        , 0.        ],\n",
              "        [0.        , 0.08395833, 0.        ],\n",
              "        [0.        , 0.        , 0.00125   ]])]"
            ]
          },
          "metadata": {},
          "execution_count": 7
        }
      ]
    },
    {
      "cell_type": "code",
      "source": [
        "# CHECK\n",
        "\n",
        "# q1_symb, q2_symb, q3_symb, q4_symb, q5_symb, q6_symb = sp.symbols('theta1 theta2 theta3 theta4 theta5 theta6')\n",
        "# q_symb = [q1_symb, q2_symb, q3_symb, q4_symb, q5_symb, q6_symb]\n",
        "\n",
        "# print(sp.diff(coms_matrices_symb[0][:3, 3], q_symb[0]))\n",
        "# coms_matrices_symb[0][:3, 3]"
      ],
      "metadata": {
        "colab": {
          "base_uri": "https://localhost:8080/",
          "height": 96
        },
        "id": "6rtxEHH05ps3",
        "outputId": "02cfe9c4-6004-4af0-c9bd-827bd971fade"
      },
      "execution_count": null,
      "outputs": [
        {
          "output_type": "stream",
          "name": "stdout",
          "text": [
            "Matrix([[-0.5*sin(theta1) + 3.06161699786838e-17*cos(theta1)], [3.06161699786838e-17*sin(theta1) + 0.5*cos(theta1)], [0]])\n"
          ]
        },
        {
          "output_type": "execute_result",
          "data": {
            "text/plain": [
              "Matrix([\n",
              "[3.06161699786838e-17*sin(theta1) + 0.5*cos(theta1)],\n",
              "[0.5*sin(theta1) - 3.06161699786838e-17*cos(theta1)],\n",
              "[                              3.06161699786838e-17]])"
            ],
            "text/latex": "$\\displaystyle \\left[\\begin{matrix}3.06161699786838 \\cdot 10^{-17} \\sin{\\left(\\theta_{1} \\right)} + 0.5 \\cos{\\left(\\theta_{1} \\right)}\\\\0.5 \\sin{\\left(\\theta_{1} \\right)} - 3.06161699786838 \\cdot 10^{-17} \\cos{\\left(\\theta_{1} \\right)}\\\\3.06161699786838 \\cdot 10^{-17}\\end{matrix}\\right]$"
          },
          "metadata": {},
          "execution_count": 17
        }
      ]
    },
    {
      "cell_type": "markdown",
      "source": [
        "### Calculate the Jacobian J_v"
      ],
      "metadata": {
        "id": "I_peshhZCXeF"
      }
    },
    {
      "cell_type": "code",
      "source": [
        "q1_symb, q2_symb, q3_symb, q4_symb, q5_symb, q6_symb = sp.symbols('theta1 theta2 theta3 theta4 theta5 theta6')\n",
        "q_symb = [q1_symb, q2_symb, q3_symb, q4_symb, q5_symb, q6_symb]\n",
        "\n",
        "\n",
        "def calculate_jacobian_v(com_symb):\n",
        "    jacobian_v = []\n",
        "\n",
        "    for k in range(6):\n",
        "        row = []\n",
        "        for i in range(3):\n",
        "            col = []\n",
        "            for j in range(6):\n",
        "                col.append(sp.diff(com_symb[k][i, 3], q_symb[j]))\n",
        "            row.append(col)\n",
        "        jacobian_v.append(row)\n",
        "\n",
        "    return sp.Array(jacobian_v)\n",
        "\n",
        "\n",
        "def calc_num_jacobian_v(com_symb, q_num):\n",
        "    jac_v_symb = calculate_jacobian_v(com_symb)\n",
        "    jac_v_num = jac_v_symb.subs({q1_symb: q_num[0], q2_symb: q_num[1], q3_symb: q_num[2], q4_symb: q_num[3], q5_symb: q_num[4], q6_symb: q_num[5]})\n",
        "    return sp.Array(jac_v_num)\n",
        "\n",
        "# Example of usage\n",
        "q_vals = manipulator.get_delta_q()\n",
        "jac_v = calc_num_jacobian_v(coms_matrices_symb, q_vals)\n",
        "jac_v"
      ],
      "metadata": {
        "colab": {
          "base_uri": "https://localhost:8080/",
          "height": 98
        },
        "id": "PS0IPNBHwLeh",
        "outputId": "77cc06aa-f131-49c6-9235-6c0eda415cf2"
      },
      "execution_count": null,
      "outputs": [
        {
          "output_type": "execute_result",
          "data": {
            "text/plain": [
              "[[[3.06161699786838e-17, 0, 0, 0, 0, 0], [0.5, 0, 0, 0, 0, 0], [0, 0, 0, 0, 0, 0]], [[-0.433012701892219, -4.18224659574646e-17, 0, 0, 0, 0], [1.0, -0.25, 0, 0, 0, 0], [0, 0.433012701892219, 0, 0, 0, 0]], [[-0.616025403784439, -9.48512278937099e-17, -1.12062959787808e-17, 0, 0, 0], [1.0, -0.933012701892219, -0.433012701892219, 0, 0, 0], [0, 0.616025403784439, -0.25, 0, 0, 0]], [[-0.301320642508808, -1.08957926696855e-16, -2.53129947819258e-17, 0.12940952255126, 0, 0], [1.48296291314453, -1.47809733780545, -0.978097337805445, 0.241481456572267, 0, 0], [0, 0.301320642508809, -0.56470476127563, -0.418258151868904, 0, 0]], [[-0.301320642508808, -1.08957926696855e-16, -2.53129947819258e-17, 0.12940952255126, -7.92404787857942e-18, 0], [1.48296291314453, -1.47809733780545, -0.978097337805445, 0.241481456572267, -1.47864746422334e-17, 0], [0, 0.301320642508809, -0.56470476127563, -0.418258151868904, 2.5610925345177e-17, 0]], [[-0.799038105676658, -1.47879989829955e-16, -6.42350579150261e-17, 5.91458985689335e-17, -0.12940952255126, 0], [1.0, -1.61602540378444, -1.11602540378444, -7.92404787857942e-18, -0.241481456572267, 0], [0, 0.799038105676658, -0.0669872981077805, 1.37248535273079e-17, 0.418258151868904, 0]]]"
            ],
            "text/latex": "$\\displaystyle \\left[\\begin{matrix}\\left[\\begin{matrix}3.06161699786838 \\cdot 10^{-17} & 0 & 0 & 0 & 0 & 0\\\\0.5 & 0 & 0 & 0 & 0 & 0\\\\0 & 0 & 0 & 0 & 0 & 0\\end{matrix}\\right] & \\left[\\begin{matrix}-0.433012701892219 & -4.18224659574646 \\cdot 10^{-17} & 0 & 0 & 0 & 0\\\\1.0 & -0.25 & 0 & 0 & 0 & 0\\\\0 & 0.433012701892219 & 0 & 0 & 0 & 0\\end{matrix}\\right] & \\left[\\begin{matrix}-0.616025403784439 & -9.48512278937099 \\cdot 10^{-17} & -1.12062959787808 \\cdot 10^{-17} & 0 & 0 & 0\\\\1.0 & -0.933012701892219 & -0.433012701892219 & 0 & 0 & 0\\\\0 & 0.616025403784439 & -0.25 & 0 & 0 & 0\\end{matrix}\\right] & \\left[\\begin{matrix}-0.301320642508808 & -1.08957926696855 \\cdot 10^{-16} & -2.53129947819258 \\cdot 10^{-17} & 0.12940952255126 & 0 & 0\\\\1.48296291314453 & -1.47809733780545 & -0.978097337805445 & 0.241481456572267 & 0 & 0\\\\0 & 0.301320642508809 & -0.56470476127563 & -0.418258151868904 & 0 & 0\\end{matrix}\\right] & \\left[\\begin{matrix}-0.301320642508808 & -1.08957926696855 \\cdot 10^{-16} & -2.53129947819258 \\cdot 10^{-17} & 0.12940952255126 & -7.92404787857942 \\cdot 10^{-18} & 0\\\\1.48296291314453 & -1.47809733780545 & -0.978097337805445 & 0.241481456572267 & -1.47864746422334 \\cdot 10^{-17} & 0\\\\0 & 0.301320642508809 & -0.56470476127563 & -0.418258151868904 & 2.5610925345177 \\cdot 10^{-17} & 0\\end{matrix}\\right] & \\left[\\begin{matrix}-0.799038105676658 & -1.47879989829955 \\cdot 10^{-16} & -6.42350579150261 \\cdot 10^{-17} & 5.91458985689335 \\cdot 10^{-17} & -0.12940952255126 & 0\\\\1.0 & -1.61602540378444 & -1.11602540378444 & -7.92404787857942 \\cdot 10^{-18} & -0.241481456572267 & 0\\\\0 & 0.799038105676658 & -0.0669872981077805 & 1.37248535273079 \\cdot 10^{-17} & 0.418258151868904 & 0\\end{matrix}\\right]\\end{matrix}\\right]$"
          },
          "metadata": {},
          "execution_count": 13
        }
      ]
    },
    {
      "cell_type": "markdown",
      "source": [
        "### Calculate the Jacobian J_w"
      ],
      "metadata": {
        "id": "QH4FWX9ICbqn"
      }
    },
    {
      "cell_type": "code",
      "source": [
        "def calculate_jacobian_w(coms):\n",
        "    jacobian_w = np.zeros((6, 3, 6))\n",
        "    u = [np.array([0, 0, 1]),  coms[0][:3, 2],  coms[1][:3, 2], coms[2][:3, 2],  coms[3][:3, 2],  coms[4][:3, 2]]\n",
        "    for i in range(6):\n",
        "      for j in range(i+1):\n",
        "        jacobian_w[i][:, j] = u[j]\n",
        "    return jacobian_w\n",
        "\n",
        "coms_matrices = calculate_com(manipulator)\n",
        "jac_w = calculate_jacobian_w(coms_matrices)\n",
        "jac_w"
      ],
      "metadata": {
        "colab": {
          "base_uri": "https://localhost:8080/"
        },
        "id": "GkJYWxmYwjmW",
        "outputId": "9162f85a-17d6-4437-a34c-c744e8c2d3ad"
      },
      "execution_count": null,
      "outputs": [
        {
          "output_type": "execute_result",
          "data": {
            "text/plain": [
              "array([[[0.        , 0.        , 0.        , 0.        , 0.        ,\n",
              "         0.        ],\n",
              "        [0.        , 0.        , 0.        , 0.        , 0.        ,\n",
              "         0.        ],\n",
              "        [1.        , 0.        , 0.        , 0.        , 0.        ,\n",
              "         0.        ]],\n",
              "\n",
              "       [[0.        , 0.        , 0.        , 0.        , 0.        ,\n",
              "         0.        ],\n",
              "        [0.        , 1.        , 0.        , 0.        , 0.        ,\n",
              "         0.        ],\n",
              "        [1.        , 0.        , 0.        , 0.        , 0.        ,\n",
              "         0.        ]],\n",
              "\n",
              "       [[0.        , 0.        , 0.        , 0.        , 0.        ,\n",
              "         0.        ],\n",
              "        [0.        , 1.        , 1.        , 0.        , 0.        ,\n",
              "         0.        ],\n",
              "        [1.        , 0.        , 0.        , 0.        , 0.        ,\n",
              "         0.        ]],\n",
              "\n",
              "       [[0.        , 0.        , 0.        , 0.25881905, 0.        ,\n",
              "         0.        ],\n",
              "        [0.        , 1.        , 1.        , 0.        , 0.        ,\n",
              "         0.        ],\n",
              "        [1.        , 0.        , 0.        , 0.96592583, 0.        ,\n",
              "         0.        ]],\n",
              "\n",
              "       [[0.        , 0.        , 0.        , 0.25881905, 0.        ,\n",
              "         0.        ],\n",
              "        [0.        , 1.        , 1.        , 0.        , 1.        ,\n",
              "         0.        ],\n",
              "        [1.        , 0.        , 0.        , 0.96592583, 0.        ,\n",
              "         0.        ]],\n",
              "\n",
              "       [[0.        , 0.        , 0.        , 0.25881905, 0.        ,\n",
              "         0.5       ],\n",
              "        [0.        , 1.        , 1.        , 0.        , 1.        ,\n",
              "         0.        ],\n",
              "        [1.        , 0.        , 0.        , 0.96592583, 0.        ,\n",
              "         0.8660254 ]]])"
            ]
          },
          "metadata": {},
          "execution_count": 14
        }
      ]
    },
    {
      "cell_type": "markdown",
      "source": [
        "### Define the rotation matrix"
      ],
      "metadata": {
        "id": "8484xOjOChut"
      }
    },
    {
      "cell_type": "code",
      "source": [
        "def define_R(com):\n",
        "    R = np.zeros((6, 3, 3))\n",
        "    com = np.array(com)\n",
        "    for k in range(6):\n",
        "        R[k] = com[k, :3, :3]\n",
        "    return R\n",
        "\n",
        "coms_matrices = calculate_com(manipulator)\n",
        "\n",
        "R = define_R(coms_matrices)\n",
        "R"
      ],
      "metadata": {
        "colab": {
          "base_uri": "https://localhost:8080/"
        },
        "id": "fAiV6HnM_NiF",
        "outputId": "d2026367-df3e-4500-cf01-abeeffb5e0b0"
      },
      "execution_count": null,
      "outputs": [
        {
          "output_type": "execute_result",
          "data": {
            "text/plain": [
              "array([[[-1.        ,  0.        ,  0.        ],\n",
              "        [ 0.        ,  0.        ,  1.        ],\n",
              "        [ 0.        ,  1.        ,  0.        ]],\n",
              "\n",
              "       [[-0.5       ,  0.8660254 ,  0.        ],\n",
              "        [ 0.        ,  0.        ,  1.        ],\n",
              "        [ 0.8660254 ,  0.5       ,  0.        ]],\n",
              "\n",
              "       [[ 0.96592583,  0.        ,  0.25881905],\n",
              "        [ 0.        ,  1.        ,  0.        ],\n",
              "        [-0.25881905,  0.        ,  0.96592583]],\n",
              "\n",
              "       [[-0.96592583,  0.25881905,  0.        ],\n",
              "        [ 0.        ,  0.        ,  1.        ],\n",
              "        [ 0.25881905,  0.96592583,  0.        ]],\n",
              "\n",
              "       [[-0.8660254 ,  0.        ,  0.5       ],\n",
              "        [ 0.        , -1.        ,  0.        ],\n",
              "        [ 0.5       ,  0.        ,  0.8660254 ]],\n",
              "\n",
              "       [[-0.8660254 ,  0.        ,  0.5       ],\n",
              "        [ 0.        , -1.        ,  0.        ],\n",
              "        [ 0.5       ,  0.        ,  0.8660254 ]]])"
            ]
          },
          "metadata": {},
          "execution_count": 15
        }
      ]
    },
    {
      "cell_type": "code",
      "source": [
        "jac_w = calculate_jacobian_w(coms_matrices)[0]\n",
        "print(jac_w.shape)\n",
        "jac_w_T = np.transpose(jac_w)\n",
        "print(\"jac_w_T\", jac_w_T)\n",
        "print(\"R[0]\", R[0])\n",
        "print(jac_w_T @ R[0])"
      ],
      "metadata": {
        "colab": {
          "base_uri": "https://localhost:8080/"
        },
        "id": "1mKcStyYws9y",
        "outputId": "bd60bf72-4a5a-4b15-a9ae-4a5b0c2aaf01"
      },
      "execution_count": null,
      "outputs": [
        {
          "output_type": "stream",
          "name": "stdout",
          "text": [
            "(3, 6)\n",
            "jac_w_T [[0. 0. 1.]\n",
            " [0. 0. 0.]\n",
            " [0. 0. 0.]\n",
            " [0. 0. 0.]\n",
            " [0. 0. 0.]\n",
            " [0. 0. 0.]]\n",
            "R[0] [[-1.  0.  0.]\n",
            " [ 0.  0.  1.]\n",
            " [ 0.  1.  0.]]\n",
            "[[0. 1. 0.]\n",
            " [0. 0. 0.]\n",
            " [0. 0. 0.]\n",
            " [0. 0. 0.]\n",
            " [0. 0. 0.]\n",
            " [0. 0. 0.]]\n"
          ]
        }
      ]
    },
    {
      "cell_type": "code",
      "source": [
        "from sys import flags\n",
        "class MassMatrix:\n",
        "\n",
        "    def __init__(self, manipulator):\n",
        "        self.manipulator = manipulator\n",
        "        self.com = calculate_com(self.manipulator)\n",
        "        self.com_symb = calculate_com_symb(manipulator)\n",
        "\n",
        "        if manipulator.q_prev is not None and manipulator.q is not None:\n",
        "          self.delta_q = manipulator.get_delta_q()\n",
        "          self.numeric = True\n",
        "          print(\"NB: Calculations are numeric.\\n\")\n",
        "\n",
        "        else:\n",
        "          self.numeric = False\n",
        "          print(\"NB: Calculations are symbolic!\\n\")\n",
        "\n",
        "    def compute(self):\n",
        "      M = np.zeros((6, 6))\n",
        "      for i in range(6):\n",
        "        m_i = manipulator.m[i]\n",
        "        inertia_matrx = InertiaMatrixForCylinder(m_i, manipulator.r[i],\\\n",
        "                                                 manipulator.h[i])\n",
        "        I_i = inertia_matrix.get_inertia_matrix()\n",
        "        R_i = define_R(self.com)[i]\n",
        "\n",
        "        if self.numeric is False:\n",
        "          Jv_i = calculate_jacobian_v(self.com_symb)[i]\n",
        "        else:\n",
        "          Jv_i = calc_num_jacobian_v(self.com_symb, self.delta_q)[i]\n",
        "\n",
        "        Jw_i = calculate_jacobian_w(self.com)[i]\n",
        "        # Jw_i = np.array([Jw_i])\n",
        "        ang = np.array([np.transpose(Jw_i) @ R_i @ I_i @ np.transpose(R_i) @ Jw_i])\n",
        "        M += ang\n",
        "        print(\"ang\", ang)\n",
        "        print(\"Jw_i^T @ R_i @ I_i @ R_i^T @ Jw_i\", np.transpose(Jw_i) @ R_i @ I_i @ np.transpose(R_i) @ Jw_i)\n",
        "        # M[i] += np.transpose(Jw_i) @ R_i @ I_i @ np.transpose(R_i) @ Jw_i\n",
        "        # print(np.transpose(Jw_i) @ R_i @ I_i @ np.transpose(R_i) @ Jw_i).shape\n",
        "        # @ I_i @ np.transpose(R_i) @ Jw_i\n",
        "\n",
        "        #  (m_i * np.transpose(Jv_i) @ Jv_i) # + np.transpose(Jw_i) @ R_i @ I_i @ np.transpose(R_i) @ Jw_i)\n",
        "\n",
        "      return M\n",
        "\n",
        "mass_matrix = MassMatrix(manipulator)\n",
        "mass_matrix.compute()\n"
      ],
      "metadata": {
        "colab": {
          "base_uri": "https://localhost:8080/",
          "height": 342
        },
        "id": "TaiPDaMoCqcZ",
        "outputId": "054296e7-432c-4bbc-b3ca-587ec2d30f66"
      },
      "execution_count": null,
      "outputs": [
        {
          "output_type": "stream",
          "name": "stdout",
          "text": [
            "NB: Calculations are numeric.\n",
            "\n"
          ]
        },
        {
          "output_type": "error",
          "ename": "ValueError",
          "evalue": "non-broadcastable output operand with shape (6,6) doesn't match the broadcast shape (1,6,6)",
          "traceback": [
            "\u001b[0;31m---------------------------------------------------------------------------\u001b[0m",
            "\u001b[0;31mValueError\u001b[0m                                Traceback (most recent call last)",
            "\u001b[0;32m<ipython-input-57-ea3f525f4d46>\u001b[0m in \u001b[0;36m<cell line: 47>\u001b[0;34m()\u001b[0m\n\u001b[1;32m     45\u001b[0m \u001b[0;34m\u001b[0m\u001b[0m\n\u001b[1;32m     46\u001b[0m \u001b[0mmass_matrix\u001b[0m \u001b[0;34m=\u001b[0m \u001b[0mMassMatrix\u001b[0m\u001b[0;34m(\u001b[0m\u001b[0mmanipulator\u001b[0m\u001b[0;34m)\u001b[0m\u001b[0;34m\u001b[0m\u001b[0;34m\u001b[0m\u001b[0m\n\u001b[0;32m---> 47\u001b[0;31m \u001b[0mmass_matrix\u001b[0m\u001b[0;34m.\u001b[0m\u001b[0mcompute\u001b[0m\u001b[0;34m(\u001b[0m\u001b[0;34m)\u001b[0m\u001b[0;34m\u001b[0m\u001b[0;34m\u001b[0m\u001b[0m\n\u001b[0m",
            "\u001b[0;32m<ipython-input-57-ea3f525f4d46>\u001b[0m in \u001b[0;36mcompute\u001b[0;34m(self)\u001b[0m\n\u001b[1;32m     33\u001b[0m         \u001b[0;31m# Jw_i = np.array([Jw_i])\u001b[0m\u001b[0;34m\u001b[0m\u001b[0;34m\u001b[0m\u001b[0m\n\u001b[1;32m     34\u001b[0m         \u001b[0mang\u001b[0m \u001b[0;34m=\u001b[0m \u001b[0mnp\u001b[0m\u001b[0;34m.\u001b[0m\u001b[0marray\u001b[0m\u001b[0;34m(\u001b[0m\u001b[0;34m[\u001b[0m\u001b[0mnp\u001b[0m\u001b[0;34m.\u001b[0m\u001b[0mtranspose\u001b[0m\u001b[0;34m(\u001b[0m\u001b[0mJw_i\u001b[0m\u001b[0;34m)\u001b[0m \u001b[0;34m@\u001b[0m \u001b[0mR_i\u001b[0m \u001b[0;34m@\u001b[0m \u001b[0mI_i\u001b[0m \u001b[0;34m@\u001b[0m \u001b[0mnp\u001b[0m\u001b[0;34m.\u001b[0m\u001b[0mtranspose\u001b[0m\u001b[0;34m(\u001b[0m\u001b[0mR_i\u001b[0m\u001b[0;34m)\u001b[0m \u001b[0;34m@\u001b[0m \u001b[0mJw_i\u001b[0m\u001b[0;34m]\u001b[0m\u001b[0;34m)\u001b[0m\u001b[0;34m\u001b[0m\u001b[0;34m\u001b[0m\u001b[0m\n\u001b[0;32m---> 35\u001b[0;31m         \u001b[0mM\u001b[0m \u001b[0;34m+=\u001b[0m \u001b[0mang\u001b[0m\u001b[0;34m\u001b[0m\u001b[0;34m\u001b[0m\u001b[0m\n\u001b[0m\u001b[1;32m     36\u001b[0m         \u001b[0mprint\u001b[0m\u001b[0;34m(\u001b[0m\u001b[0;34m\"ang\"\u001b[0m\u001b[0;34m,\u001b[0m \u001b[0mang\u001b[0m\u001b[0;34m)\u001b[0m\u001b[0;34m\u001b[0m\u001b[0;34m\u001b[0m\u001b[0m\n\u001b[1;32m     37\u001b[0m         \u001b[0mprint\u001b[0m\u001b[0;34m(\u001b[0m\u001b[0;34m\"Jw_i^T @ R_i @ I_i @ R_i^T @ Jw_i\"\u001b[0m\u001b[0;34m,\u001b[0m \u001b[0mnp\u001b[0m\u001b[0;34m.\u001b[0m\u001b[0mtranspose\u001b[0m\u001b[0;34m(\u001b[0m\u001b[0mJw_i\u001b[0m\u001b[0;34m)\u001b[0m \u001b[0;34m@\u001b[0m \u001b[0mR_i\u001b[0m \u001b[0;34m@\u001b[0m \u001b[0mI_i\u001b[0m \u001b[0;34m@\u001b[0m \u001b[0mnp\u001b[0m\u001b[0;34m.\u001b[0m\u001b[0mtranspose\u001b[0m\u001b[0;34m(\u001b[0m\u001b[0mR_i\u001b[0m\u001b[0;34m)\u001b[0m \u001b[0;34m@\u001b[0m \u001b[0mJw_i\u001b[0m\u001b[0;34m)\u001b[0m\u001b[0;34m\u001b[0m\u001b[0;34m\u001b[0m\u001b[0m\n",
            "\u001b[0;31mValueError\u001b[0m: non-broadcastable output operand with shape (6,6) doesn't match the broadcast shape (1,6,6)"
          ]
        }
      ]
    },
    {
      "cell_type": "code",
      "source": [],
      "metadata": {
        "id": "73B0_SRqTxtX"
      },
      "execution_count": null,
      "outputs": []
    },
    {
      "cell_type": "code",
      "source": [
        "calculate_com(manipulator)"
      ],
      "metadata": {
        "colab": {
          "base_uri": "https://localhost:8080/",
          "height": 294
        },
        "id": "VDooM-o2DIBH",
        "outputId": "7312b440-309b-4555-b109-7948c0663765"
      },
      "execution_count": null,
      "outputs": [
        {
          "output_type": "error",
          "ename": "TypeError",
          "evalue": "ufunc 'cos' not supported for the input types, and the inputs could not be safely coerced to any supported types according to the casting rule ''safe''",
          "traceback": [
            "\u001b[0;31m---------------------------------------------------------------------------\u001b[0m",
            "\u001b[0;31mTypeError\u001b[0m                                 Traceback (most recent call last)",
            "\u001b[0;32m<ipython-input-69-85b4750c62a6>\u001b[0m in \u001b[0;36m<cell line: 1>\u001b[0;34m()\u001b[0m\n\u001b[0;32m----> 1\u001b[0;31m \u001b[0mcalculate_com\u001b[0m\u001b[0;34m(\u001b[0m\u001b[0mmanipulator\u001b[0m\u001b[0;34m)\u001b[0m\u001b[0;34m\u001b[0m\u001b[0;34m\u001b[0m\u001b[0m\n\u001b[0m",
            "\u001b[0;32m<ipython-input-4-100b64dd2c66>\u001b[0m in \u001b[0;36mcalculate_com\u001b[0;34m(Manipiulator)\u001b[0m\n\u001b[1;32m      3\u001b[0m     \u001b[0mlc\u001b[0m \u001b[0;34m=\u001b[0m \u001b[0mmanipulator\u001b[0m\u001b[0;34m.\u001b[0m\u001b[0mlc\u001b[0m\u001b[0;34m\u001b[0m\u001b[0;34m\u001b[0m\u001b[0m\n\u001b[1;32m      4\u001b[0m \u001b[0;34m\u001b[0m\u001b[0m\n\u001b[0;32m----> 5\u001b[0;31m     \u001b[0mT_01\u001b[0m \u001b[0;34m=\u001b[0m \u001b[0mrotate_z\u001b[0m\u001b[0;34m(\u001b[0m\u001b[0mtheta1\u001b[0m\u001b[0;34m)\u001b[0m \u001b[0;34m@\u001b[0m \u001b[0mrotate_z\u001b[0m\u001b[0;34m(\u001b[0m\u001b[0mnp\u001b[0m\u001b[0;34m.\u001b[0m\u001b[0mpi\u001b[0m\u001b[0;34m/\u001b[0m\u001b[0;36m2\u001b[0m\u001b[0;34m)\u001b[0m \u001b[0;34m@\u001b[0m \u001b[0mrotate_x\u001b[0m\u001b[0;34m(\u001b[0m\u001b[0mnp\u001b[0m\u001b[0;34m.\u001b[0m\u001b[0mpi\u001b[0m\u001b[0;34m/\u001b[0m\u001b[0;36m2\u001b[0m\u001b[0;34m)\u001b[0m\u001b[0;34m\u001b[0m\u001b[0;34m\u001b[0m\u001b[0m\n\u001b[0m\u001b[1;32m      6\u001b[0m     \u001b[0mcom1\u001b[0m \u001b[0;34m=\u001b[0m \u001b[0mT_01\u001b[0m \u001b[0;34m@\u001b[0m \u001b[0mtranslate_z\u001b[0m\u001b[0;34m(\u001b[0m\u001b[0mlc\u001b[0m\u001b[0;34m[\u001b[0m\u001b[0;36m0\u001b[0m\u001b[0;34m]\u001b[0m\u001b[0;34m)\u001b[0m\u001b[0;34m\u001b[0m\u001b[0;34m\u001b[0m\u001b[0m\n\u001b[1;32m      7\u001b[0m \u001b[0;34m\u001b[0m\u001b[0m\n",
            "\u001b[0;32m<ipython-input-1-e4f89767a637>\u001b[0m in \u001b[0;36mrotate_z\u001b[0;34m(theta)\u001b[0m\n\u001b[1;32m      3\u001b[0m \u001b[0;31m# Define rotation and translation functions\u001b[0m\u001b[0;34m\u001b[0m\u001b[0;34m\u001b[0m\u001b[0m\n\u001b[1;32m      4\u001b[0m \u001b[0;32mdef\u001b[0m \u001b[0mrotate_z\u001b[0m\u001b[0;34m(\u001b[0m\u001b[0mtheta\u001b[0m\u001b[0;34m)\u001b[0m\u001b[0;34m:\u001b[0m\u001b[0;34m\u001b[0m\u001b[0;34m\u001b[0m\u001b[0m\n\u001b[0;32m----> 5\u001b[0;31m     return np.array([[np.cos(theta), -np.sin(theta), 0, 0],\n\u001b[0m\u001b[1;32m      6\u001b[0m                      \u001b[0;34m[\u001b[0m\u001b[0mnp\u001b[0m\u001b[0;34m.\u001b[0m\u001b[0msin\u001b[0m\u001b[0;34m(\u001b[0m\u001b[0mtheta\u001b[0m\u001b[0;34m)\u001b[0m\u001b[0;34m,\u001b[0m \u001b[0mnp\u001b[0m\u001b[0;34m.\u001b[0m\u001b[0mcos\u001b[0m\u001b[0;34m(\u001b[0m\u001b[0mtheta\u001b[0m\u001b[0;34m)\u001b[0m\u001b[0;34m,\u001b[0m \u001b[0;36m0\u001b[0m\u001b[0;34m,\u001b[0m \u001b[0;36m0\u001b[0m\u001b[0;34m]\u001b[0m\u001b[0;34m,\u001b[0m\u001b[0;34m\u001b[0m\u001b[0;34m\u001b[0m\u001b[0m\n\u001b[1;32m      7\u001b[0m                      \u001b[0;34m[\u001b[0m\u001b[0;36m0\u001b[0m\u001b[0;34m,\u001b[0m \u001b[0;36m0\u001b[0m\u001b[0;34m,\u001b[0m \u001b[0;36m1\u001b[0m\u001b[0;34m,\u001b[0m \u001b[0;36m0\u001b[0m\u001b[0;34m]\u001b[0m\u001b[0;34m,\u001b[0m\u001b[0;34m\u001b[0m\u001b[0;34m\u001b[0m\u001b[0m\n",
            "\u001b[0;31mTypeError\u001b[0m: ufunc 'cos' not supported for the input types, and the inputs could not be safely coerced to any supported types according to the casting rule ''safe''"
          ]
        }
      ]
    },
    {
      "cell_type": "code",
      "source": [],
      "metadata": {
        "id": "xRmTa4KjOtn0"
      },
      "execution_count": null,
      "outputs": []
    },
    {
      "cell_type": "markdown",
      "source": [
        "# Coriolis matrix"
      ],
      "metadata": {
        "id": "odeCZoGW3oxU"
      }
    },
    {
      "cell_type": "code",
      "source": [
        "class CoriolisMatix:\n",
        "  def __init__():\n",
        "    pass\n",
        "\n",
        "  def compute():\n",
        "    coriolis_matrix =  np.zeros(6, 6)\n",
        "    for i in range(6):\n",
        "      for j in range(6):\n",
        "        for k in range(6):\n",
        "          coriolis_matrix[i, j] += 1/2 * (sp.diff(M[i, j], q_symb[k]) + sp.diff() - sp.diff())\n",
        "\n",
        "           diff(Mq[i, j], q_symb[k]) + diff(Mq[i, k], q_symb[k]) - diff(Mq[j, k], q_symb[i])) * q_dot[\n",
        "                                k]\n"
      ],
      "metadata": {
        "id": "5JXHBvn35lVc"
      },
      "execution_count": null,
      "outputs": []
    }
  ]
}