{
  "nbformat": 4,
  "nbformat_minor": 0,
  "metadata": {
    "colab": {
      "provenance": [],
      "authorship_tag": "ABX9TyPd1GXtvKTSjOFuRwM+1VjX",
      "include_colab_link": true
    },
    "kernelspec": {
      "name": "python3",
      "display_name": "Python 3"
    },
    "language_info": {
      "name": "python"
    }
  },
  "cells": [
    {
      "cell_type": "markdown",
      "metadata": {
        "id": "view-in-github",
        "colab_type": "text"
      },
      "source": [
        "<a href=\"https://colab.research.google.com/github/illusoryTwin/FoR/blob/main/assig3/for_assig3.ipynb\" target=\"_parent\"><img src=\"https://colab.research.google.com/assets/colab-badge.svg\" alt=\"Open In Colab\"/></a>"
      ]
    },
    {
      "cell_type": "markdown",
      "source": [
        "# Define the fundamental functions\n",
        "\n",
        "### Transformation matrices"
      ],
      "metadata": {
        "id": "-345b5vdbHkF"
      }
    },
    {
      "cell_type": "code",
      "execution_count": 29,
      "metadata": {
        "id": "qdAozDUDbCqo"
      },
      "outputs": [],
      "source": [
        "import numpy as np\n",
        "\n",
        "# Define rotation and translation functions\n",
        "def rotate_z(theta):\n",
        "    return np.array([[np.cos(theta), -np.sin(theta), 0, 0],\n",
        "                     [np.sin(theta), np.cos(theta), 0, 0],\n",
        "                     [0, 0, 1, 0],\n",
        "                     [0, 0, 0, 1]])\n",
        "\n",
        "def rotate_x(theta):\n",
        "    return np.array([[1, 0, 0, 0],\n",
        "                     [0, np.cos(theta), -np.sin(theta), 0],\n",
        "                     [0, np.sin(theta), np.cos(theta), 0],\n",
        "                     [0, 0, 0, 1]])\n",
        "\n",
        "def rotate_y(theta):\n",
        "    return np.array([[np.cos(theta), 0, np.sin(theta), 0],\n",
        "                     [0, 1, 0, 0],\n",
        "                     [-np.sin(theta), 0, np.cos(theta), 0],\n",
        "                     [0, 0, 0, 1]])\n",
        "\n",
        "def translate_x(d):\n",
        "    return np.array([[1, 0, 0, d],\n",
        "                     [0, 1, 0, 0],\n",
        "                     [0, 0, 1, 0],\n",
        "                     [0, 0, 0, 1]])\n",
        "\n",
        "def translate_y(d):\n",
        "    return np.array([[1, 0, 0, 0],\n",
        "                     [0, 1, 0, d],\n",
        "                     [0, 0, 1, 0],\n",
        "                     [0, 0, 0, 1]])\n",
        "\n",
        "def translate_z(d):\n",
        "    return np.array([[1, 0, 0, 0],\n",
        "                     [0, 1, 0, 0],\n",
        "                     [0, 0, 1, d],\n",
        "                     [0, 0, 0, 1]])\n",
        "\n",
        "\n",
        "def validate_matrices(matrices):\n",
        "  tolerance = 1e-12\n",
        "\n",
        "  # Define a function to check if a value is close to zero within the tolerance\n",
        "  def is_close_to_zero(value):\n",
        "      return abs(value) < tolerance\n",
        "\n",
        "  validated_matrices = []\n",
        "\n",
        "  for matrix in matrices:\n",
        "    for i in range(matrix.shape[0]):\n",
        "      for j in range(matrix.shape[1]):\n",
        "        if is_close_to_zero(matrix[i][j]):\n",
        "          matrix[i][j] = 0\n",
        "    validated_matrices.append(matrix)\n",
        "\n",
        "  return validated_matrices\n",
        "\n"
      ]
    },
    {
      "cell_type": "markdown",
      "source": [
        "### Symbolic transformation matrices"
      ],
      "metadata": {
        "id": "bt-jv30Wbc8t"
      }
    },
    {
      "cell_type": "code",
      "source": [
        "import sympy as sp\n",
        "\n",
        "# Define symbolic rotation and translation functions\n",
        "def rotate_z_sym(theta):\n",
        "    return sp.Matrix([\n",
        "        [sp.cos(theta), -sp.sin(theta), 0, 0],\n",
        "        [sp.sin(theta), sp.cos(theta), 0, 0],\n",
        "        [0, 0, 1, 0],\n",
        "        [0, 0, 0, 1]\n",
        "    ])\n",
        "\n",
        "def rotate_x_sym(theta):\n",
        "    return sp.Matrix([\n",
        "        [1, 0, 0, 0],\n",
        "        [0, sp.cos(theta), -sp.sin(theta), 0],\n",
        "        [0, sp.sin(theta), sp.cos(theta), 0],\n",
        "        [0, 0, 0, 1]\n",
        "    ])\n",
        "\n",
        "def rotate_y_sym(theta):\n",
        "    return sp.Matrix([\n",
        "        [sp.cos(theta), 0, sp.sin(theta), 0],\n",
        "        [0, 1, 0, 0],\n",
        "        [-sp.sin(theta), 0, sp.cos(theta), 0],\n",
        "        [0, 0, 0, 1]\n",
        "    ])\n",
        "\n",
        "def translate_x_sym(d):\n",
        "    return sp.Matrix([\n",
        "        [1, 0, 0, d],\n",
        "        [0, 1, 0, 0],\n",
        "        [0, 0, 1, 0],\n",
        "        [0, 0, 0, 1]\n",
        "    ])\n",
        "\n",
        "def translate_y_sym(d):\n",
        "    return sp.Matrix([\n",
        "        [1, 0, 0, 0],\n",
        "        [0, 1, 0, d],\n",
        "        [0, 0, 1, 0],\n",
        "        [0, 0, 0, 1]\n",
        "    ])\n",
        "\n",
        "def translate_z_sym(d):\n",
        "    return sp.Matrix([\n",
        "        [1, 0, 0, 0],\n",
        "        [0, 1, 0, 0],\n",
        "        [0, 0, 1, d],\n",
        "        [0, 0, 0, 1]\n",
        "    ])\n",
        "\n",
        "def validate_matrix_sym(matrix):\n",
        "    tolerance = 1e-12\n",
        "    # Define a function to check if a value is close to zero within the tolerance\n",
        "    def is_close_to_zero(value):\n",
        "        return abs(value) < tolerance\n",
        "\n",
        "    # Iterate through each element in the matrix\n",
        "    for i in range(matrix.rows):\n",
        "        for j in range(matrix.cols):\n",
        "            # If the element is close to zero, set it to zero\n",
        "            if is_close_to_zero(matrix[i, j]):\n",
        "                matrix[i, j] = 0\n"
      ],
      "metadata": {
        "id": "JS-jEkOqbR_h"
      },
      "execution_count": 30,
      "outputs": []
    },
    {
      "cell_type": "markdown",
      "source": [
        "# Solving dynamics\n",
        "### Define the Manipulator class"
      ],
      "metadata": {
        "id": "ZTBC9lEsbkv6"
      }
    },
    {
      "cell_type": "code",
      "source": [
        "import numpy as np\n",
        "\n",
        "# class Manipulator:\n",
        "#     def __init__(self, l, m=[1 for _ in range(6)], r=[0.05 for _ in range(6)],\\\n",
        "#                  q=None, q_prev=None):\n",
        "#         self.l = l  # length of the links\n",
        "#         self.m = m  # mass of the links\n",
        "#         self.q = q  # configuration parameters (angles)\n",
        "#         self.q_prev = q_prev # the previous configuration state\n",
        "#         self.r = r  # radii of cylindrical links\n",
        "#         self.h = l  # heights of cylindrical links\n",
        "#         self.lc = [l_i / 2 for l_i in l]  # distances to the links' CoMs\n",
        "\n",
        "#     def set_config(self, q):\n",
        "#         self.q = q\n",
        "\n",
        "#     def get_config(self):\n",
        "#         return self.q\n",
        "\n",
        "#     def get_config_in_pi(self, q):\n",
        "#         return [str(q_ / np.pi) + \"pi\" for q_ in q]\n",
        "\n",
        "#     def set_prev_config(self, q_prev):\n",
        "#         self.q_prev = q_prev\n",
        "\n",
        "#     def get_prev_config(self):\n",
        "#         return self.get_config_in_pi(self.q_prev)\n",
        "\n",
        "#     def get_delta_q_in_pi(self):\n",
        "#         delta_q = [q_ - q_prev_ for (q_, q_prev_) in zip(self.q, self.q_prev)]\n",
        "#         return self.get_config_in_pi(delta_q)  # Added 'self' parameter\n",
        "\n",
        "#     def get_delta_q(self):\n",
        "#         if self.q is None or self.prev_q is None:\n",
        "#             # return \"Error! Set a proper configuration\"\n",
        "#             raise ValueError(\"Error! Set a proper configuration\")\n",
        "#         else:\n",
        "#             delta_q = [q_ - q_prev_ for (q_, q_prev_) in zip(self.q, self.prev_q)]\n",
        "#             return delta_q\n",
        "\n",
        "\n",
        "# class Manipulator:\n",
        "#     def __init__(self, l, m=None):\n",
        "#         self.l = l\n",
        "#         self.m = m\n",
        "#         self.q = None\n",
        "#         self.prev_q = None  # Initialize prev_q attribute\n",
        "\n",
        "#     def set_config(self, q_):\n",
        "#         if self.q is None:\n",
        "#             self.q = q_ if isinstance(q_, list) else [q_]\n",
        "#         else:\n",
        "#             self.prev_q = self.q  # Update prev_q with current q before updating q\n",
        "#             self.q.extend(q_ if isinstance(q_, list) else [q_])\n",
        "\n",
        "#     def get_config(self):\n",
        "#         return self.q\n",
        "\n",
        "#     def get_config_in_pi(self):\n",
        "#         return [str(q_ / np.pi) + \"pi\" for q_ in self.q]\n",
        "\n",
        "#     def get_delta_q(self):\n",
        "#         if self.q is None or self.prev_q is None:\n",
        "#             raise ValueError(\"Error! Set a proper configuration\")\n",
        "#         else:\n",
        "#             delta_q = [q_ - q_prev_ for (q_, q_prev_) in zip(self.q, self.prev_q)]\n",
        "#             return delta_q\n",
        "\n",
        "class Manipulator:\n",
        "    def __init__(self, l, m=[1 for _ in range(6)], r=[0.05 for _ in range(6)]):\n",
        "        self.l = l # length of the links\n",
        "        self.m = m # mass of the links\n",
        "        self.q = None # configuration parameters (angles)\n",
        "        self.prev_q = None # the previous configuration state\n",
        "        self.r = r # radii of cylindrical links\n",
        "        self.h = l  # heights of cylindrical links\n",
        "        self.lc = [l_i / 2 for l_i in l]  # distances to the links' CoMs\n",
        "\n",
        "\n",
        "#     def __init__(self, l, m=[1 for _ in range(6)], r=[0.05 for _ in range(6)],\\\n",
        "#                  q=None, q_prev=None):\n",
        "#         self.l = l  # length of the links\n",
        "#         self.m = m  # mass of the links\n",
        "#         self.q = q  # configuration parameters (angles)\n",
        "#         self.q_prev = q_prev # the previous configuration state\n",
        "#         self.r = r  # radii of cylindrical links\n",
        "#         self.h = l  # heights of cylindrical links\n",
        "#         self.lc = [l_i / 2 for l_i in l]  # distances to the links' CoMs\n",
        "\n",
        "    def set_config(self, q_):\n",
        "        if self.q is None:\n",
        "            self.q = q_ if isinstance(q_, list) else [q_]\n",
        "        else:\n",
        "            self.prev_q = self.q\n",
        "            self.q.extend(q_ if isinstance(q_, list) else [q_])\n",
        "\n",
        "    def get_config(self):\n",
        "        return self.q\n",
        "\n",
        "    def get_config_in_pi(self):\n",
        "        return [str(q_ / np.pi) + \"pi\" for q_ in self.q]\n",
        "\n",
        "    def set_prev_config(self, prev_q_):\n",
        "        if self.prev_q is None:\n",
        "            self.prev_q = prev_q_ if isinstance(prev_q_, list) else [prev_q_]\n",
        "        else:\n",
        "            raise ValueError(\"Previous configuration is already set. Cannot set again.\")\n",
        "\n",
        "    def get_prev_config(self):\n",
        "        if self.prev_q is None:\n",
        "            raise ValueError(\"Previous configuration is not set.\")\n",
        "        else:\n",
        "            return self.prev_q\n",
        "\n",
        "    def get_delta_q(self):\n",
        "        if self.q is None or self.prev_q is None:\n",
        "            raise ValueError(\"Error! Set a proper configuration\")\n",
        "        else:\n",
        "            delta_q = [q_ - q_prev_ for (q_, q_prev_) in zip(self.q, self.prev_q)]\n",
        "            return delta_q\n",
        "\n",
        "    def get_delta_q_in_pi(self):\n",
        "        if self.q is None or self.prev_q is None:\n",
        "            raise ValueError(\"Error! Set a proper configuration\")\n",
        "        else:\n",
        "            delta_q_pi = [(q_ - q_prev_) / np.pi for (q_, q_prev_) in zip(self.q, self.prev_q)]\n",
        "            return delta_q_pi\n",
        "\n",
        "    def get_prev_config_in_pi(self):\n",
        "        if self.prev_q is None:\n",
        "            raise ValueError(\"Previous configuration is not set.\")\n",
        "        else:\n",
        "            return [q_prev_ / np.pi for q_prev_ in self.prev_q]\n",
        "\n",
        "\n",
        "\n",
        "# Example of usage\n",
        "l = [1 for _ in range(6)]\n",
        "m = [1 for _ in range(6)]\n",
        "q = [np.pi/2, np.pi/3, np.pi/4, 0, np.pi/12, 0]\n",
        "q_prev = [np.pi/2, np.pi/6, np.pi/4, np.pi/12, np.pi/12, 0]\n",
        "\n",
        "manipulator = Manipulator(l, m)\n",
        "manipulator.set_config(q)\n",
        "manipulator.set_prev_config(q_prev)\n",
        "\n",
        "print(manipulator.get_config())\n",
        "print(manipulator.get_prev_config())\n",
        "print(\"delta q: \", manipulator.get_delta_q_in_pi())"
      ],
      "metadata": {
        "colab": {
          "base_uri": "https://localhost:8080/"
        },
        "id": "O5tMzGl4e6nJ",
        "outputId": "6ff94ee6-8747-49b9-b168-68ab113fc7bf"
      },
      "execution_count": 57,
      "outputs": [
        {
          "output_type": "stream",
          "name": "stdout",
          "text": [
            "[1.5707963267948966, 1.0471975511965976, 0.7853981633974483, 0, 0.2617993877991494, 0]\n",
            "[1.5707963267948966, 0.5235987755982988, 0.7853981633974483, 0.2617993877991494, 0.2617993877991494, 0]\n",
            "delta q:  [0.0, 0.16666666666666666, 0.0, -0.08333333333333333, 0.0, 0.0]\n"
          ]
        }
      ]
    },
    {
      "cell_type": "markdown",
      "source": [
        "### Find center of mass"
      ],
      "metadata": {
        "id": "hgEdkfW2v4LU"
      }
    },
    {
      "cell_type": "code",
      "source": [
        "def calculate_com(manipulator: Manipulator):\n",
        "    theta1, theta2, theta3, theta4, theta5, theta6 = manipulator.get_config()\n",
        "    lc1, lc2, lc3, lc4, lc5, lc6 = manipulator.lc\n",
        "    l1, l2, l3, l4, l5, l6 = manipulator.l\n",
        "\n",
        "    T_0 = np.identity(4)\n",
        "    T_01 = rotate_z(theta1) @ translate_z(l1) @ rotate_z(np.pi/2) @ rotate_x(np.pi/2)\n",
        "    T_12 = rotate_z(theta2) @ translate_x(l2)\n",
        "    T_23 = rotate_z(theta3) @ translate_x(l3) @ rotate_y(np.pi/2) @ rotate_z(np.pi/2)\n",
        "    T_34 = rotate_z(theta4) @ translate_z(l4) @ rotate_x(-np.pi/2) @ rotate_z(-np.pi)\n",
        "    T_45 = rotate_z(theta5) @ translate_y(l5) @ rotate_x(-np.pi/2)\n",
        "    T_56 = rotate_z(theta6) @ translate_z(l6)\n",
        "\n",
        "\n",
        "    com1 = T_0 @ rotate_z(theta1) @ translate_z(lc1) @ rotate_z(np.pi/2) @ rotate_x(np.pi/2)\n",
        "\n",
        "    T_01 = T_0 @ T_01\n",
        "    com2 = T_01 @ rotate_z(theta2) @ translate_x(lc2)\n",
        "\n",
        "    T_02 = T_01 @ T_12\n",
        "    com3 = T_02 @ rotate_z(theta3) @ translate_x(lc3) @ rotate_y(np.pi/2) @ rotate_z(np.pi/2)\n",
        "\n",
        "    T_03 = T_02 @ T_23\n",
        "    com4 = T_03 @ rotate_z(theta4) @ translate_z(lc4) @ rotate_x(-np.pi/2) @ rotate_z(-np.pi)\n",
        "\n",
        "    T_04 = T_03 @ T_34\n",
        "    com5 = T_04 @ rotate_z(theta5) @ translate_y(lc5) @ rotate_x(-np.pi/2)\n",
        "\n",
        "    T_05 = T_04 @ T_45\n",
        "    com6 = T_05 @ rotate_z(theta6) @ translate_z(lc6)\n",
        "\n",
        "    coms = [com1, com2, com3, com4, com5, com6]\n",
        "    coms = validate_matrices(coms)\n",
        "    return coms\n",
        "\n",
        "q = [0]*6\n",
        "l = [1 for _ in range(6)]\n",
        "m = [1 for _ in range(6)]\n",
        "\n",
        "manipulator = Manipulator(l, m)\n",
        "manipulator.set_config(q)\n",
        "coms_matrices = calculate_com(manipulator)\n",
        "coms_matrices"
      ],
      "metadata": {
        "colab": {
          "base_uri": "https://localhost:8080/"
        },
        "id": "Kzh0zlsgcBig",
        "outputId": "2007e74b-51e0-4ce4-c88b-4c4d6c72a367"
      },
      "execution_count": 58,
      "outputs": [
        {
          "output_type": "execute_result",
          "data": {
            "text/plain": [
              "[array([[0. , 0. , 1. , 0. ],\n",
              "        [1. , 0. , 0. , 0. ],\n",
              "        [0. , 1. , 0. , 0.5],\n",
              "        [0. , 0. , 0. , 1. ]]),\n",
              " array([[0. , 0. , 1. , 0. ],\n",
              "        [1. , 0. , 0. , 0.5],\n",
              "        [0. , 1. , 0. , 1. ],\n",
              "        [0. , 0. , 0. , 1. ]]),\n",
              " array([[0. , 1. , 0. , 0. ],\n",
              "        [0. , 0. , 1. , 1.5],\n",
              "        [1. , 0. , 0. , 1. ],\n",
              "        [0. , 0. , 0. , 1. ]]),\n",
              " array([[ 0. ,  0. ,  1. ,  0. ],\n",
              "        [ 0. ,  1. ,  0. ,  2.5],\n",
              "        [-1. ,  0. ,  0. ,  1. ],\n",
              "        [ 0. ,  0. ,  0. ,  1. ]]),\n",
              " array([[ 0. , -1. ,  0. ,  0. ],\n",
              "        [ 0. ,  0. ,  1. ,  3.5],\n",
              "        [-1. ,  0. ,  0. ,  1. ],\n",
              "        [ 0. ,  0. ,  0. ,  1. ]]),\n",
              " array([[ 0. , -1. ,  0. ,  0. ],\n",
              "        [ 0. ,  0. ,  1. ,  4.5],\n",
              "        [-1. ,  0. ,  0. ,  1. ],\n",
              "        [ 0. ,  0. ,  0. ,  1. ]])]"
            ]
          },
          "metadata": {},
          "execution_count": 58
        }
      ]
    },
    {
      "cell_type": "code",
      "source": [
        "from sympy import symbols\n",
        "\n",
        "# def calculate_com_symb(manipulator: Manipulator):\n",
        "#     theta1, theta2, theta3, theta4, theta5, theta6 = symbols('theta1 theta2 theta3 theta4 theta5 theta6')\n",
        "#     l = manipulator.l\n",
        "#     lc = manipulator.lc\n",
        "\n",
        "#     T_01 = rotate_z_sym(theta1) @ rotate_z(np.pi/2) @ rotate_x(np.pi/2)\n",
        "#     com1 = T_01 @ translate_z(lc[0])\n",
        "\n",
        "#     T_02 = T_01 @ translate_z(l[0]) @ rotate_z_sym(theta2)\n",
        "#     com2 = T_02 @ translate_x(lc[1])\n",
        "\n",
        "#     T_03 = T_02 @ translate_x(l[1]) @ rotate_z_sym(theta3) @ rotate_y(np.pi/2) @ rotate_z(np.pi/2)\n",
        "#     com3 = T_03 @ translate_x(lc[2])\n",
        "\n",
        "#     T_04 = T_03 @ translate_x(l[2]) @ rotate_z_sym(theta4) @ rotate_x(-np.pi/2) @ rotate_z(-np.pi)\n",
        "#     com4 = T_04 @ translate_z(lc[3])\n",
        "\n",
        "#     T_05 = T_04 @ translate_z(l[3]) @ rotate_z_sym(theta5) @ rotate_x(-np.pi/2)\n",
        "#     com5 = T_05 @ translate_y(lc[4])\n",
        "\n",
        "#     T_06 = T_05 @ translate_y(l[4]) @ rotate_z_sym(theta6)\n",
        "#     com6 = T_06 @ translate_z(lc[5])\n",
        "#     coms = [com1, com2, com3, com4, com5, com6]\n",
        "\n",
        "#     return coms\n",
        "\n",
        "def calculate_com_symb(manipulator: Manipulator):\n",
        "    theta1, theta2, theta3, theta4, theta5, theta6 = symbols('theta1 theta2 theta3 theta4 theta5 theta6')\n",
        "    lc1, lc2, lc3, lc4, lc5, lc6 = manipulator.lc\n",
        "    l1, l2, l3, l4, l5, l6 = manipulator.l\n",
        "\n",
        "    T_0 = np.identity(4)\n",
        "    T_01 = rotate_z_sym(theta1) @ translate_z(l1) @ rotate_z(np.pi/2) @ rotate_x(np.pi/2)\n",
        "    T_12 = rotate_z_sym(theta2) @ translate_x(l2)\n",
        "    T_23 = rotate_z_sym(theta3) @ translate_x(l3) @ rotate_y(np.pi/2) @ rotate_z(np.pi/2)\n",
        "    T_34 = rotate_z_sym(theta4) @ translate_z(l4) @ rotate_x(-np.pi/2) @ rotate_z(-np.pi)\n",
        "    T_45 = rotate_z_sym(theta5) @ translate_y(l5) @ rotate_x(-np.pi/2)\n",
        "    T_56 = rotate_z_sym(theta6) @ translate_z(l6)\n",
        "\n",
        "\n",
        "    com1 = T_0 @ rotate_z_sym(theta1) @ translate_z(lc1) @ rotate_z(np.pi/2) @ rotate_x(np.pi/2)\n",
        "\n",
        "    T_01 = T_0 @ T_01\n",
        "    com2 = T_01 @ rotate_z_sym(theta2) @ translate_x(lc2)\n",
        "\n",
        "    T_02 = T_01 @ T_12\n",
        "    com3 = T_02 @ rotate_z_sym(theta3) @ translate_x(lc3) @ rotate_y(np.pi/2) @ rotate_z(np.pi/2)\n",
        "\n",
        "    T_03 = T_02 @ T_23\n",
        "    com4 = T_03 @ rotate_z_sym(theta4) @ translate_z(lc4) @ rotate_x(-np.pi/2) @ rotate_z(-np.pi)\n",
        "\n",
        "    T_04 = T_03 @ T_34\n",
        "    com5 = T_04 @ rotate_z_sym(theta5) @ translate_y(lc5) @ rotate_x(-np.pi/2)\n",
        "\n",
        "    T_05 = T_04 @ T_45\n",
        "    com6 = T_05 @ rotate_z_sym(theta6) @ translate_z(lc6)\n",
        "\n",
        "    coms = [com1, com2, com3, com4, com5, com6]\n",
        "    return coms\n",
        "\n",
        "\n",
        "coms_matrices_symb = calculate_com_symb(manipulator)\n",
        "# coms_matrices_symb"
      ],
      "metadata": {
        "id": "8sZlXv78favu"
      },
      "execution_count": 59,
      "outputs": []
    },
    {
      "cell_type": "markdown",
      "source": [
        "### Calculate inertia/mass matrices assuming that the manipulator's links are cylindrical"
      ],
      "metadata": {
        "id": "b2AfjyIvCNrT"
      }
    },
    {
      "cell_type": "code",
      "source": [
        "class InertiaMatrixForCylinder:\n",
        "    def __init__(self, m, r, h):\n",
        "        self.m = m\n",
        "        self.r = r\n",
        "        self.h = h\n",
        "\n",
        "    def get_inertia_matrix(self):\n",
        "        I = np.array([[self.m*self.h**2/12 + self.m*self.r**2/4, 0, 0],\n",
        "                      [0, self.m*self.h**2/12 + self.m*self.r**2/4, 0],\n",
        "                      [0, 0, self.m*self.r**2/4]])\n",
        "        return I"
      ],
      "metadata": {
        "id": "qY79sURVvf72"
      },
      "execution_count": 60,
      "outputs": []
    },
    {
      "cell_type": "code",
      "source": [
        "# Example of usage\n",
        "\n",
        "l = [1 for _ in range(6)]\n",
        "m = [1 for _ in range(6)]\n",
        "# q = [np.pi/2, np.pi/3, np.pi/4, 0, np.pi/12, 0]\n",
        "\n",
        "manipulator = Manipulator(l, m)\n",
        "# manipulator.set_config(q)\n",
        "\n",
        "inertia_matrices = []\n",
        "\n",
        "\n",
        "for i in range(6):\n",
        "  inertia_matrix = InertiaMatrixForCylinder(manipulator.m[i], manipulator.r[i], manipulator.h[i])\n",
        "  inertia_matrices.append(inertia_matrix.get_inertia_matrix())\n",
        "\n",
        "inertia_matrices"
      ],
      "metadata": {
        "colab": {
          "base_uri": "https://localhost:8080/"
        },
        "id": "50eyazICwvTb",
        "outputId": "bb6be1dc-04e5-4129-f896-8ab8b4e85657"
      },
      "execution_count": 61,
      "outputs": [
        {
          "output_type": "execute_result",
          "data": {
            "text/plain": [
              "[array([[0.08395833, 0.        , 0.        ],\n",
              "        [0.        , 0.08395833, 0.        ],\n",
              "        [0.        , 0.        , 0.000625  ]]),\n",
              " array([[0.08395833, 0.        , 0.        ],\n",
              "        [0.        , 0.08395833, 0.        ],\n",
              "        [0.        , 0.        , 0.000625  ]]),\n",
              " array([[0.08395833, 0.        , 0.        ],\n",
              "        [0.        , 0.08395833, 0.        ],\n",
              "        [0.        , 0.        , 0.000625  ]]),\n",
              " array([[0.08395833, 0.        , 0.        ],\n",
              "        [0.        , 0.08395833, 0.        ],\n",
              "        [0.        , 0.        , 0.000625  ]]),\n",
              " array([[0.08395833, 0.        , 0.        ],\n",
              "        [0.        , 0.08395833, 0.        ],\n",
              "        [0.        , 0.        , 0.000625  ]]),\n",
              " array([[0.08395833, 0.        , 0.        ],\n",
              "        [0.        , 0.08395833, 0.        ],\n",
              "        [0.        , 0.        , 0.000625  ]])]"
            ]
          },
          "metadata": {},
          "execution_count": 61
        }
      ]
    },
    {
      "cell_type": "code",
      "source": [
        "# CHECK\n",
        "\n",
        "# q1_symb, q2_symb, q3_symb, q4_symb, q5_symb, q6_symb = sp.symbols('theta1 theta2 theta3 theta4 theta5 theta6')\n",
        "# q_symb = [q1_symb, q2_symb, q3_symb, q4_symb, q5_symb, q6_symb]\n",
        "\n",
        "# print(sp.diff(coms_matrices_symb[0][:3, 3], q_symb[0]))\n",
        "# coms_matrices_symb[0][:3, 3]"
      ],
      "metadata": {
        "id": "6rtxEHH05ps3"
      },
      "execution_count": 27,
      "outputs": []
    },
    {
      "cell_type": "markdown",
      "source": [
        "### Calculate the Jacobian J_v"
      ],
      "metadata": {
        "id": "I_peshhZCXeF"
      }
    },
    {
      "cell_type": "code",
      "source": [
        "q1_symb, q2_symb, q3_symb, q4_symb, q5_symb, q6_symb = sp.symbols('theta1 theta2 theta3 theta4 theta5 theta6')\n",
        "q_symb = [q1_symb, q2_symb, q3_symb, q4_symb, q5_symb, q6_symb]\n",
        "\n",
        "\n",
        "def calculate_jacobian_v(com_symb):\n",
        "    jacobian_v = []\n",
        "\n",
        "    for k in range(6):\n",
        "        row = []\n",
        "        for i in range(3):\n",
        "            col = []\n",
        "            for j in range(6):\n",
        "                col.append(sp.diff(com_symb[k][i, 3], q_symb[j]))\n",
        "            row.append(col)\n",
        "        jacobian_v.append(row)\n",
        "\n",
        "    return sp.Array(jacobian_v)\n",
        "\n",
        "\n",
        "def calc_num_jacobian_v(com_symb, q_num):\n",
        "    jac_v_symb = calculate_jacobian_v(com_symb)\n",
        "    jac_v_num = jac_v_symb.subs({q1_symb: q_num[0], q2_symb: q_num[1], q3_symb: q_num[2], q4_symb: q_num[3], q5_symb: q_num[4], q6_symb: q_num[5]})\n",
        "    return sp.Array(jac_v_num)\n",
        "\n",
        "# Example of usage\n",
        "q = [np.pi/2, -np.pi/3, np.pi/4, 0, np.pi/12, 0]\n",
        "q_prev = [np.pi/2, -np.pi/4, np.pi/4, 0, np.pi/6, 0]\n",
        "\n",
        "manipulator.set_config(q)\n",
        "manipulator.set_prev_config(q_prev)\n",
        "\n",
        "q_vals = manipulator.get_delta_q()\n",
        "jac_v = calc_num_jacobian_v(coms_matrices_symb, q_vals)\n",
        "jac_v"
      ],
      "metadata": {
        "colab": {
          "base_uri": "https://localhost:8080/",
          "height": 98
        },
        "id": "PS0IPNBHwLeh",
        "outputId": "0df1ec58-b7c3-46f0-9792-e8d2472b284c"
      },
      "execution_count": 63,
      "outputs": [
        {
          "output_type": "execute_result",
          "data": {
            "text/plain": [
              "[[[0, 0, 0, 0, 0, 0], [0, 0, 0, 0, 0, 0], [0, 0, 0, 0, 0, 0]], [[-0.482962913144534, -2.16489014058873e-17, 0, 0, 0, 0], [3.74969971630462e-17, 0.12940952255126, 0, 0, 0, 0], [0, 0.482962913144534, 0, 0, 0, 0]], [[-1.4488887394336, -6.4946704217662e-17, -2.16489014058873e-17, 0, 0, 0], [1.12490991489138e-16, 0.388228567653781, 0.12940952255126, 0, 0, 0], [0, 1.4488887394336, 0.482962913144534, 0, 0, 0]], [[-2.41481456572267, -1.08244507029437e-16, -6.4946704217662e-17, 0, 0, 0], [2.18101155793915e-16, 0.647047612756302, 0.388228567653781, 0, 0, 0], [0, 2.41481456572267, 1.4488887394336, 0, 0, 0]], [[-3.33079018075942, -1.41099704414105e-16, -9.78019016023301e-17, -0.12940952255126, -4.07792452632475e-17, 0], [3.35960836771689e-16, 1.02645713530756, 0.767638090205041, 2.11812383626407e-17, 0.25, 0], [0, 3.33079018075942, 2.36486435447036, 1.09362905948723e-17, 0.433012701892219, 0]], [[-4.19681558454386, -1.63512296371666e-16, -1.20214493559892e-16, -0.388228567653781, -1.22337735789743e-16, 0], [4.6607003442246e-16, 1.52645713530756, 1.26763809020504, 5.56196672093428e-17, 0.75, 0], [0, 4.19681558454386, 3.23088975825479, 3.23592250015018e-18, 1.29903810567666, 0]]]"
            ],
            "text/latex": "$\\displaystyle \\left[\\begin{matrix}\\left[\\begin{matrix}0 & 0 & 0 & 0 & 0 & 0\\\\0 & 0 & 0 & 0 & 0 & 0\\\\0 & 0 & 0 & 0 & 0 & 0\\end{matrix}\\right] & \\left[\\begin{matrix}-0.482962913144534 & -2.16489014058873 \\cdot 10^{-17} & 0 & 0 & 0 & 0\\\\3.74969971630462 \\cdot 10^{-17} & 0.12940952255126 & 0 & 0 & 0 & 0\\\\0 & 0.482962913144534 & 0 & 0 & 0 & 0\\end{matrix}\\right] & \\left[\\begin{matrix}-1.4488887394336 & -6.4946704217662 \\cdot 10^{-17} & -2.16489014058873 \\cdot 10^{-17} & 0 & 0 & 0\\\\1.12490991489138 \\cdot 10^{-16} & 0.388228567653781 & 0.12940952255126 & 0 & 0 & 0\\\\0 & 1.4488887394336 & 0.482962913144534 & 0 & 0 & 0\\end{matrix}\\right] & \\left[\\begin{matrix}-2.41481456572267 & -1.08244507029437 \\cdot 10^{-16} & -6.4946704217662 \\cdot 10^{-17} & 0 & 0 & 0\\\\2.18101155793915 \\cdot 10^{-16} & 0.647047612756302 & 0.388228567653781 & 0 & 0 & 0\\\\0 & 2.41481456572267 & 1.4488887394336 & 0 & 0 & 0\\end{matrix}\\right] & \\left[\\begin{matrix}-3.33079018075942 & -1.41099704414105 \\cdot 10^{-16} & -9.78019016023301 \\cdot 10^{-17} & -0.12940952255126 & -4.07792452632475 \\cdot 10^{-17} & 0\\\\3.35960836771689 \\cdot 10^{-16} & 1.02645713530756 & 0.767638090205041 & 2.11812383626407 \\cdot 10^{-17} & 0.25 & 0\\\\0 & 3.33079018075942 & 2.36486435447036 & 1.09362905948723 \\cdot 10^{-17} & 0.433012701892219 & 0\\end{matrix}\\right] & \\left[\\begin{matrix}-4.19681558454386 & -1.63512296371666 \\cdot 10^{-16} & -1.20214493559892 \\cdot 10^{-16} & -0.388228567653781 & -1.22337735789743 \\cdot 10^{-16} & 0\\\\4.6607003442246 \\cdot 10^{-16} & 1.52645713530756 & 1.26763809020504 & 5.56196672093428 \\cdot 10^{-17} & 0.75 & 0\\\\0 & 4.19681558454386 & 3.23088975825479 & 3.23592250015018 \\cdot 10^{-18} & 1.29903810567666 & 0\\end{matrix}\\right]\\end{matrix}\\right]$"
          },
          "metadata": {},
          "execution_count": 63
        }
      ]
    },
    {
      "cell_type": "markdown",
      "source": [
        "### Calculate the Jacobian J_w"
      ],
      "metadata": {
        "id": "QH4FWX9ICbqn"
      }
    },
    {
      "cell_type": "code",
      "source": [
        "def calculate_jacobian_w(coms):\n",
        "    jacobian_w = np.zeros((6, 3, 6))\n",
        "    u = [np.array([0, 0, 1]),  coms[0][:3, 2],  coms[1][:3, 2], coms[2][:3, 2],  coms[3][:3, 2],  coms[4][:3, 2]]\n",
        "    for i in range(6):\n",
        "      for j in range(i+1):\n",
        "        jacobian_w[i][:, j] = u[j]\n",
        "    return jacobian_w\n",
        "\n",
        "coms_matrices = calculate_com(manipulator)\n",
        "jac_w = calculate_jacobian_w(coms_matrices)\n",
        "jac_w"
      ],
      "metadata": {
        "colab": {
          "base_uri": "https://localhost:8080/"
        },
        "id": "GkJYWxmYwjmW",
        "outputId": "d35e54fd-4d71-4eac-8dc2-f1c3caad3b22"
      },
      "execution_count": 64,
      "outputs": [
        {
          "output_type": "execute_result",
          "data": {
            "text/plain": [
              "array([[[ 0.        ,  0.        ,  0.        ,  0.        ,\n",
              "          0.        ,  0.        ],\n",
              "        [ 0.        ,  0.        ,  0.        ,  0.        ,\n",
              "          0.        ,  0.        ],\n",
              "        [ 1.        ,  0.        ,  0.        ,  0.        ,\n",
              "          0.        ,  0.        ]],\n",
              "\n",
              "       [[ 0.        ,  0.        ,  0.        ,  0.        ,\n",
              "          0.        ,  0.        ],\n",
              "        [ 0.        ,  1.        ,  0.        ,  0.        ,\n",
              "          0.        ,  0.        ],\n",
              "        [ 1.        ,  0.        ,  0.        ,  0.        ,\n",
              "          0.        ,  0.        ]],\n",
              "\n",
              "       [[ 0.        ,  0.        ,  0.        ,  0.        ,\n",
              "          0.        ,  0.        ],\n",
              "        [ 0.        ,  1.        ,  1.        ,  0.        ,\n",
              "          0.        ,  0.        ],\n",
              "        [ 1.        ,  0.        ,  0.        ,  0.        ,\n",
              "          0.        ,  0.        ]],\n",
              "\n",
              "       [[ 0.        ,  0.        ,  0.        , -0.96592583,\n",
              "          0.        ,  0.        ],\n",
              "        [ 0.        ,  1.        ,  1.        ,  0.        ,\n",
              "          0.        ,  0.        ],\n",
              "        [ 1.        ,  0.        ,  0.        , -0.25881905,\n",
              "          0.        ,  0.        ]],\n",
              "\n",
              "       [[ 0.        ,  0.        ,  0.        , -0.96592583,\n",
              "          0.        ,  0.        ],\n",
              "        [ 0.        ,  1.        ,  1.        ,  0.        ,\n",
              "          1.        ,  0.        ],\n",
              "        [ 1.        ,  0.        ,  0.        , -0.25881905,\n",
              "          0.        ,  0.        ]],\n",
              "\n",
              "       [[ 0.        ,  0.        ,  0.        , -0.96592583,\n",
              "          0.        , -1.        ],\n",
              "        [ 0.        ,  1.        ,  1.        ,  0.        ,\n",
              "          1.        ,  0.        ],\n",
              "        [ 1.        ,  0.        ,  0.        , -0.25881905,\n",
              "          0.        ,  0.        ]]])"
            ]
          },
          "metadata": {},
          "execution_count": 64
        }
      ]
    },
    {
      "cell_type": "markdown",
      "source": [
        "### Define the rotation matrix"
      ],
      "metadata": {
        "id": "8484xOjOChut"
      }
    },
    {
      "cell_type": "code",
      "source": [
        "def define_R(com):\n",
        "    R = np.zeros((6, 3, 3))\n",
        "    com = np.array(com)\n",
        "    for k in range(6):\n",
        "        R[k] = com[k, :3, :3]\n",
        "    return R\n",
        "\n",
        "coms_matrices = calculate_com(manipulator)\n",
        "\n",
        "R = define_R(coms_matrices)\n",
        "R"
      ],
      "metadata": {
        "colab": {
          "base_uri": "https://localhost:8080/"
        },
        "id": "fAiV6HnM_NiF",
        "outputId": "563b1626-7bdd-49bd-e21c-c10b1ed5ab57"
      },
      "execution_count": 65,
      "outputs": [
        {
          "output_type": "execute_result",
          "data": {
            "text/plain": [
              "array([[[-1.        ,  0.        ,  0.        ],\n",
              "        [ 0.        ,  0.        ,  1.        ],\n",
              "        [ 0.        ,  1.        ,  0.        ]],\n",
              "\n",
              "       [[-0.5       , -0.8660254 ,  0.        ],\n",
              "        [ 0.        ,  0.        ,  1.        ],\n",
              "        [-0.8660254 ,  0.5       ,  0.        ]],\n",
              "\n",
              "       [[-0.25881905,  0.        , -0.96592583],\n",
              "        [ 0.        ,  1.        ,  0.        ],\n",
              "        [ 0.96592583,  0.        , -0.25881905]],\n",
              "\n",
              "       [[ 0.25881905, -0.96592583,  0.        ],\n",
              "        [ 0.        ,  0.        ,  1.        ],\n",
              "        [-0.96592583, -0.25881905,  0.        ]],\n",
              "\n",
              "       [[ 0.        ,  0.        , -1.        ],\n",
              "        [ 0.        , -1.        ,  0.        ],\n",
              "        [-1.        ,  0.        ,  0.        ]],\n",
              "\n",
              "       [[ 0.        ,  0.        , -1.        ],\n",
              "        [ 0.        , -1.        ,  0.        ],\n",
              "        [-1.        ,  0.        ,  0.        ]]])"
            ]
          },
          "metadata": {},
          "execution_count": 65
        }
      ]
    },
    {
      "cell_type": "code",
      "source": [
        "jac_w = calculate_jacobian_w(coms_matrices)[0]\n",
        "print(jac_w.shape)\n",
        "jac_w_T = np.transpose(jac_w)\n",
        "print(\"jac_w_T\", jac_w_T)\n",
        "print(\"R[0]\", R[0])\n",
        "print(jac_w_T @ R[0])"
      ],
      "metadata": {
        "colab": {
          "base_uri": "https://localhost:8080/"
        },
        "id": "1mKcStyYws9y",
        "outputId": "efb716e4-c109-431b-f2dd-04ebed424d19"
      },
      "execution_count": 66,
      "outputs": [
        {
          "output_type": "stream",
          "name": "stdout",
          "text": [
            "(3, 6)\n",
            "jac_w_T [[0. 0. 1.]\n",
            " [0. 0. 0.]\n",
            " [0. 0. 0.]\n",
            " [0. 0. 0.]\n",
            " [0. 0. 0.]\n",
            " [0. 0. 0.]]\n",
            "R[0] [[-1.  0.  0.]\n",
            " [ 0.  0.  1.]\n",
            " [ 0.  1.  0.]]\n",
            "[[0. 1. 0.]\n",
            " [0. 0. 0.]\n",
            " [0. 0. 0.]\n",
            " [0. 0. 0.]\n",
            " [0. 0. 0.]\n",
            " [0. 0. 0.]]\n"
          ]
        }
      ]
    },
    {
      "cell_type": "code",
      "source": [
        "from sys import flags\n",
        "class MassMatrix:\n",
        "\n",
        "    def __init__(self, manipulator):\n",
        "        self.manipulator = manipulator\n",
        "        self.com = calculate_com(self.manipulator)\n",
        "        self.com_symb = calculate_com_symb(self.manipulator)\n",
        "\n",
        "        if manipulator.get_prev_config() is not None\\\n",
        "         and manipulator.get_config() is not None:\n",
        "          self.delta_q = manipulator.get_delta_q()\n",
        "          self.numeric = True\n",
        "          print(\"NB: Calculations are numeric.\\n\")\n",
        "\n",
        "        else:\n",
        "          self.numeric = False\n",
        "          print(\"NB: Calculations are symbolic!\\n\")\n",
        "\n",
        "    def compute_numeric(self):\n",
        "      M = np.zeros((6, 6))\n",
        "      # M = np.zeros((6, 6))\n",
        "      for i in range(6):\n",
        "        m_i = manipulator.m[i]\n",
        "        inertia_matrx = InertiaMatrixForCylinder(m_i, manipulator.r[i],\\\n",
        "                                                 manipulator.h[i])\n",
        "        I_i = inertia_matrix.get_inertia_matrix()\n",
        "        R_i = define_R(self.com)[i]\n",
        "\n",
        "        if self.numeric is False:\n",
        "          Jv_i = calculate_jacobian_v(self.com_symb)[i]\n",
        "        else:\n",
        "          Jv_i = calc_num_jacobian_v(self.com_symb, self.delta_q)[i]\n",
        "\n",
        "        Jw_i = calculate_jacobian_w(self.com)[i]\n",
        "        # Jw_i = np.array([Jw_i])\n",
        "        # ang = np.array([np.transpose(Jw_i) @ R_i @ I_i @ np.transpose(R_i) @ Jw_i])\n",
        "\n",
        "        lin_part = m_i * np.transpose(Jv_i) @ Jv_i\n",
        "        lin_part = lin_part.astype(float)  # Convert to float64\n",
        "        ang_part = np.transpose(Jw_i) @ R_i @ I_i @ np.transpose(R_i) @ Jw_i\n",
        "\n",
        "        M += lin_part + ang_part\n",
        "        # print(\"ang\", ang)\n",
        "        # print(\"Jw_i^T @ R_i @ I_i @ R_i^T @ Jw_i\", np.transpose(Jw_i) @ R_i @ I_i @ np.transpose(R_i) @ Jw_i)\n",
        "        # M[i] += np.transpose(Jw_i) @ R_i @ I_i @ np.transpose(R_i) @ Jw_i\n",
        "        # print(np.transpose(Jw_i) @ R_i @ I_i @ np.transpose(R_i) @ Jw_i).shape\n",
        "        # @ I_i @ np.transpose(R_i) @ Jw_i\n",
        "\n",
        "        #  (m_i * np.transpose(Jv_i) @ Jv_i) # + np.transpose(Jw_i) @ R_i @ I_i @ np.transpose(R_i) @ Jw_i)\n",
        "\n",
        "      return M\n",
        "\n",
        "mass_matrix = MassMatrix(manipulator)\n",
        "M = mass_matrix.compute()\n",
        "M\n",
        "# validate_matrices([M])\n",
        "\n"
      ],
      "metadata": {
        "colab": {
          "base_uri": "https://localhost:8080/"
        },
        "id": "TaiPDaMoCqcZ",
        "outputId": "5d12b309-b595-4870-aa9e-f0339fcc8f62"
      },
      "execution_count": 84,
      "outputs": [
        {
          "output_type": "stream",
          "name": "stdout",
          "text": [
            "NB: Calculations are numeric.\n",
            "\n"
          ]
        },
        {
          "output_type": "execute_result",
          "data": {
            "text/plain": [
              "array([[3.73694531e+01, 2.76808289e-15, 1.96641174e-15, 1.99516962e+00,\n",
              "        1.08279876e-15, 0.00000000e+00],\n",
              "       [2.76808289e-15, 4.10942349e+01, 2.89117583e+01, 2.38389520e-16,\n",
              "        8.46347162e+00, 0.00000000e+00],\n",
              "       [1.96641174e-15, 2.89117583e+01, 2.09799066e+01, 1.82410085e-16,\n",
              "        6.53161997e+00, 0.00000000e+00],\n",
              "       [1.99516962e+00, 2.38389520e-16, 1.82410085e-16, 2.63841128e-01,\n",
              "        1.08721426e-16, 6.03703641e-04],\n",
              "       [1.08279876e-15, 8.46347162e+00, 6.53161997e+00, 1.08721426e-16,\n",
              "        2.66791667e+00, 0.00000000e+00],\n",
              "       [0.00000000e+00, 0.00000000e+00, 0.00000000e+00, 6.03703641e-04,\n",
              "        0.00000000e+00, 6.25000000e-04]])"
            ]
          },
          "metadata": {},
          "execution_count": 84
        }
      ]
    },
    {
      "cell_type": "code",
      "source": [
        "# Print the matrix in a more friendly way\n",
        "def validate_mass_matrix(matrix):\n",
        "    for row in matrix:\n",
        "        formatted_row = [\"{:.6f}\".format(entry) for entry in row]\n",
        "        print(formatted_row)\n",
        "\n",
        "validate_mass_matrix(M)"
      ],
      "metadata": {
        "id": "73B0_SRqTxtX",
        "colab": {
          "base_uri": "https://localhost:8080/"
        },
        "outputId": "ca429791-8dde-42c1-dee1-d8ffaf1ea005"
      },
      "execution_count": 88,
      "outputs": [
        {
          "output_type": "stream",
          "name": "stdout",
          "text": [
            "['37.369453', '0.000000', '0.000000', '1.995170', '0.000000', '0.000000']\n",
            "['0.000000', '41.094235', '28.911758', '0.000000', '8.463472', '0.000000']\n",
            "['0.000000', '28.911758', '20.979907', '0.000000', '6.531620', '0.000000']\n",
            "['1.995170', '0.000000', '0.000000', '0.263841', '0.000000', '0.000604']\n",
            "['0.000000', '8.463472', '6.531620', '0.000000', '2.667917', '0.000000']\n",
            "['0.000000', '0.000000', '0.000000', '0.000604', '0.000000', '0.000625']\n"
          ]
        }
      ]
    },
    {
      "cell_type": "markdown",
      "source": [
        "# Coriolis matrix"
      ],
      "metadata": {
        "id": "odeCZoGW3oxU"
      }
    },
    {
      "cell_type": "code",
      "source": [
        "q1_symb, q2_symb, q3_symb, q4_symb, q5_symb, q6_symb = sp.symbols('theta1 theta2 theta3 theta4 theta5 theta6')\n",
        "q_symb = [q1_symb, q2_symb, q3_symb, q4_symb, q5_symb, q6_symb]\n",
        "\n",
        "\n",
        "class CoriolisMatrix:\n",
        "  def __init__(self, mass_matrix):\n",
        "    self.mass_matrix = mass_matrix\n",
        "\n",
        "\n",
        "  def compute(self):\n",
        "    M = self.mass_matrix\n",
        "    coriolis_matrix =  np.zeros((6, 6))\n",
        "    for i in range(6):\n",
        "      for j in range(6):\n",
        "        for k in range(6):\n",
        "          print(M[i, j])\n",
        "          coriolis_matrix[i, j] += 1/2 * (sp.diff(M[i, j], q_symb[k]) + sp.diff(M[i, k], q_symb[j]) - sp.diff(M[j, k], q_symb[i]))\n",
        "\n",
        "    return coriolis_matrix\n",
        "\n",
        "C = CoriolisMatrix(M)\n",
        "C.compute()"
      ],
      "metadata": {
        "id": "5JXHBvn35lVc",
        "colab": {
          "base_uri": "https://localhost:8080/"
        },
        "outputId": "9b4f87f5-2369-4a84-a57e-de9609f12a84"
      },
      "execution_count": 92,
      "outputs": [
        {
          "output_type": "execute_result",
          "data": {
            "text/plain": [
              "array([[0., 0., 0., 0., 0., 0.],\n",
              "       [0., 0., 0., 0., 0., 0.],\n",
              "       [0., 0., 0., 0., 0., 0.],\n",
              "       [0., 0., 0., 0., 0., 0.],\n",
              "       [0., 0., 0., 0., 0., 0.],\n",
              "       [0., 0., 0., 0., 0., 0.]])"
            ]
          },
          "metadata": {},
          "execution_count": 92
        }
      ]
    },
    {
      "cell_type": "code",
      "source": [
        "M"
      ],
      "metadata": {
        "colab": {
          "base_uri": "https://localhost:8080/"
        },
        "id": "usYHGDCj_g7_",
        "outputId": "b7dd6672-fc9a-4d61-eb2b-0e7bfb3348cf"
      },
      "execution_count": 93,
      "outputs": [
        {
          "output_type": "execute_result",
          "data": {
            "text/plain": [
              "array([[3.73694531e+01, 2.76808289e-15, 1.96641174e-15, 1.99516962e+00,\n",
              "        1.08279876e-15, 0.00000000e+00],\n",
              "       [2.76808289e-15, 4.10942349e+01, 2.89117583e+01, 2.38389520e-16,\n",
              "        8.46347162e+00, 0.00000000e+00],\n",
              "       [1.96641174e-15, 2.89117583e+01, 2.09799066e+01, 1.82410085e-16,\n",
              "        6.53161997e+00, 0.00000000e+00],\n",
              "       [1.99516962e+00, 2.38389520e-16, 1.82410085e-16, 2.63841128e-01,\n",
              "        1.08721426e-16, 6.03703641e-04],\n",
              "       [1.08279876e-15, 8.46347162e+00, 6.53161997e+00, 1.08721426e-16,\n",
              "        2.66791667e+00, 0.00000000e+00],\n",
              "       [0.00000000e+00, 0.00000000e+00, 0.00000000e+00, 6.03703641e-04,\n",
              "        0.00000000e+00, 6.25000000e-04]])"
            ]
          },
          "metadata": {},
          "execution_count": 93
        }
      ]
    },
    {
      "cell_type": "code",
      "source": [],
      "metadata": {
        "id": "8wRtIu0xCR3h"
      },
      "execution_count": null,
      "outputs": []
    }
  ]
}