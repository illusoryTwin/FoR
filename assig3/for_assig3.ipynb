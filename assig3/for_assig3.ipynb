{
  "nbformat": 4,
  "nbformat_minor": 0,
  "metadata": {
    "colab": {
      "provenance": [],
      "authorship_tag": "ABX9TyPMsNRg/jar87/ugIPCvsXP",
      "include_colab_link": true
    },
    "kernelspec": {
      "name": "python3",
      "display_name": "Python 3"
    },
    "language_info": {
      "name": "python"
    }
  },
  "cells": [
    {
      "cell_type": "markdown",
      "metadata": {
        "id": "view-in-github",
        "colab_type": "text"
      },
      "source": [
        "<a href=\"https://colab.research.google.com/github/illusoryTwin/FoR/blob/mass_matrix/assig3/for_assig3.ipynb\" target=\"_parent\"><img src=\"https://colab.research.google.com/assets/colab-badge.svg\" alt=\"Open In Colab\"/></a>"
      ]
    },
    {
      "cell_type": "markdown",
      "source": [
        "# Define the fundamental functions\n",
        "\n",
        "### Transformation matrices"
      ],
      "metadata": {
        "id": "-345b5vdbHkF"
      }
    },
    {
      "cell_type": "code",
      "execution_count": 1,
      "metadata": {
        "id": "qdAozDUDbCqo"
      },
      "outputs": [],
      "source": [
        "import numpy as np\n",
        "\n",
        "# Define rotation and translation functions\n",
        "def rotate_z(theta):\n",
        "    return np.array([[np.cos(theta), -np.sin(theta), 0, 0],\n",
        "                     [np.sin(theta), np.cos(theta), 0, 0],\n",
        "                     [0, 0, 1, 0],\n",
        "                     [0, 0, 0, 1]])\n",
        "\n",
        "def rotate_x(theta):\n",
        "    return np.array([[1, 0, 0, 0],\n",
        "                     [0, np.cos(theta), -np.sin(theta), 0],\n",
        "                     [0, np.sin(theta), np.cos(theta), 0],\n",
        "                     [0, 0, 0, 1]])\n",
        "\n",
        "def rotate_y(theta):\n",
        "    return np.array([[np.cos(theta), 0, np.sin(theta), 0],\n",
        "                     [0, 1, 0, 0],\n",
        "                     [-np.sin(theta), 0, np.cos(theta), 0],\n",
        "                     [0, 0, 0, 1]])\n",
        "\n",
        "def translate_x(d):\n",
        "    return np.array([[1, 0, 0, d],\n",
        "                     [0, 1, 0, 0],\n",
        "                     [0, 0, 1, 0],\n",
        "                     [0, 0, 0, 1]])\n",
        "\n",
        "def translate_y(d):\n",
        "    return np.array([[1, 0, 0, 0],\n",
        "                     [0, 1, 0, d],\n",
        "                     [0, 0, 1, 0],\n",
        "                     [0, 0, 0, 1]])\n",
        "\n",
        "def translate_z(d):\n",
        "    return np.array([[1, 0, 0, 0],\n",
        "                     [0, 1, 0, 0],\n",
        "                     [0, 0, 1, d],\n",
        "                     [0, 0, 0, 1]])\n",
        "\n",
        "\n",
        "def validate_matrices(matrices):\n",
        "  tolerance = 1e-12\n",
        "\n",
        "  # Define a function to check if a value is close to zero within the tolerance\n",
        "  def is_close_to_zero(value):\n",
        "      return abs(value) < tolerance\n",
        "\n",
        "  validated_matrices = []\n",
        "\n",
        "  for matrix in matrices:\n",
        "    for i in range(matrix.shape[0]):\n",
        "      for j in range(matrix.shape[1]):\n",
        "        if is_close_to_zero(matrix[i][j]):\n",
        "          matrix[i][j] = 0\n",
        "    validated_matrices.append(matrix)\n",
        "\n",
        "  return validated_matrices\n",
        "\n"
      ]
    },
    {
      "cell_type": "markdown",
      "source": [
        "### Symbolic transformation matrices"
      ],
      "metadata": {
        "id": "bt-jv30Wbc8t"
      }
    },
    {
      "cell_type": "code",
      "source": [
        "import sympy as sp\n",
        "\n",
        "# Define symbolic rotation and translation functions\n",
        "def rotate_z_sym(theta):\n",
        "    return sp.Matrix([\n",
        "        [sp.cos(theta), -sp.sin(theta), 0, 0],\n",
        "        [sp.sin(theta), sp.cos(theta), 0, 0],\n",
        "        [0, 0, 1, 0],\n",
        "        [0, 0, 0, 1]\n",
        "    ])\n",
        "\n",
        "def rotate_x_sym(theta):\n",
        "    return sp.Matrix([\n",
        "        [1, 0, 0, 0],\n",
        "        [0, sp.cos(theta), -sp.sin(theta), 0],\n",
        "        [0, sp.sin(theta), sp.cos(theta), 0],\n",
        "        [0, 0, 0, 1]\n",
        "    ])\n",
        "\n",
        "def rotate_y_sym(theta):\n",
        "    return sp.Matrix([\n",
        "        [sp.cos(theta), 0, sp.sin(theta), 0],\n",
        "        [0, 1, 0, 0],\n",
        "        [-sp.sin(theta), 0, sp.cos(theta), 0],\n",
        "        [0, 0, 0, 1]\n",
        "    ])\n",
        "\n",
        "def translate_x_sym(d):\n",
        "    return sp.Matrix([\n",
        "        [1, 0, 0, d],\n",
        "        [0, 1, 0, 0],\n",
        "        [0, 0, 1, 0],\n",
        "        [0, 0, 0, 1]\n",
        "    ])\n",
        "\n",
        "def translate_y_sym(d):\n",
        "    return sp.Matrix([\n",
        "        [1, 0, 0, 0],\n",
        "        [0, 1, 0, d],\n",
        "        [0, 0, 1, 0],\n",
        "        [0, 0, 0, 1]\n",
        "    ])\n",
        "\n",
        "def translate_z_sym(d):\n",
        "    return sp.Matrix([\n",
        "        [1, 0, 0, 0],\n",
        "        [0, 1, 0, 0],\n",
        "        [0, 0, 1, d],\n",
        "        [0, 0, 0, 1]\n",
        "    ])\n",
        "\n",
        "def validate_matrix_sym(matrix):\n",
        "    tolerance = 1e-12\n",
        "    # Define a function to check if a value is close to zero within the tolerance\n",
        "    def is_close_to_zero(value):\n",
        "        return abs(value) < tolerance\n",
        "\n",
        "    # Iterate through each element in the matrix\n",
        "    for i in range(matrix.rows):\n",
        "        for j in range(matrix.cols):\n",
        "            # If the element is close to zero, set it to zero\n",
        "            if is_close_to_zero(matrix[i, j]):\n",
        "                matrix[i, j] = 0\n"
      ],
      "metadata": {
        "id": "JS-jEkOqbR_h"
      },
      "execution_count": 2,
      "outputs": []
    },
    {
      "cell_type": "markdown",
      "source": [
        "# Solving dynamics\n",
        "### Define the Manipulator class"
      ],
      "metadata": {
        "id": "ZTBC9lEsbkv6"
      }
    },
    {
      "cell_type": "code",
      "source": [
        "import numpy as np\n",
        "\n",
        "class Manipulator:\n",
        "    def __init__(self, l, m=[1 for _ in range(6)], r=[0.05 for _ in range(6)]):\n",
        "        self.l = l  # length of the links\n",
        "        self.m = m  # mass of the links\n",
        "        self.q = q  # configuration parameters (angles)\n",
        "        self.r = r  # radii of cylindrical links\n",
        "        self.h = l  # heights of cylindrical links\n",
        "        self.lc = [l_i / 2 for l_i in l]  # distances to the links' CoMs\n",
        "\n",
        "    def set_config(self, q):\n",
        "        self.q = q\n",
        "\n",
        "    def get_config(self):\n",
        "        return self.q\n",
        "\n",
        "    def get_config_in_pi(self):\n",
        "        return [str(q_ / np.pi) + \"pi\" for q_ in self.q]\n",
        "\n",
        "\n",
        "l = [1 for _ in range(6)]\n",
        "m = [1 for _ in range(6)]\n",
        "q = [np.pi/2, np.pi/3, np.pi/4, 0, np.pi/12, 0]\n",
        "\n",
        "manipulator = Manipulator(l, m)\n",
        "manipulator.set_config(q)\n",
        "\n",
        "# Get the configuration parameters in terms of pi\n",
        "config_in_pi = manipulator.get_config_in_pi()\n",
        "print(config_in_pi)\n"
      ],
      "metadata": {
        "colab": {
          "base_uri": "https://localhost:8080/"
        },
        "id": "O5tMzGl4e6nJ",
        "outputId": "03aaef6e-a4a4-454b-ffbc-bec69e27a074"
      },
      "execution_count": 3,
      "outputs": [
        {
          "output_type": "stream",
          "name": "stdout",
          "text": [
            "['0.5pi', '0.3333333333333333pi', '0.25pi', '0.0pi', '0.08333333333333333pi', '0.0pi']\n"
          ]
        }
      ]
    },
    {
      "cell_type": "markdown",
      "source": [
        "### Find center of mass"
      ],
      "metadata": {
        "id": "hgEdkfW2v4LU"
      }
    },
    {
      "cell_type": "code",
      "source": [
        "def calculate_com(Manipiulator: manipulator):\n",
        "    theta1, theta2, theta3, theta4, theta5, theta6 = manipulator.get_config()\n",
        "    lc = manipulator.lc\n",
        "\n",
        "    T_01 = rotate_z(theta1) @ rotate_z(np.pi/2) @ rotate_x(np.pi/2)\n",
        "    com1 = T_01 @ translate_z(lc[0])\n",
        "\n",
        "    T_02 = T_01 @ translate_z(l[0]) @ rotate_z(theta2)\n",
        "    com2 = T_02 @ translate_x(lc[1])\n",
        "\n",
        "    T_03 = T_02 @ translate_x(l[1]) @ rotate_z(theta3) @ rotate_y(np.pi/2) @ rotate_z(np.pi/2)\n",
        "    com3 = T_03 @ translate_x(lc[2])\n",
        "\n",
        "    T_04 = T_03 @ translate_x(l[2]) @ rotate_z(theta4) @ rotate_x(-np.pi/2) @ rotate_z(-np.pi)\n",
        "    com4 = T_04 @ translate_z(lc[3])\n",
        "\n",
        "    T_05 = T_04 @ translate_z(l[3]) @ rotate_z(theta5) @ rotate_x(-np.pi/2)\n",
        "    com5 = T_05 @ translate_y(lc[4])\n",
        "\n",
        "    T_06 = T_05 @ translate_y(l[4]) @ rotate_z(theta6)\n",
        "    com6 = T_06 @ translate_z(lc[5])\n",
        "    coms = [com1, com2, com3, com4, com5, com6]\n",
        "    coms = validate_matrices(coms)\n",
        "    return coms\n",
        "\n",
        "\n",
        "coms_matrices = calculate_com(manipulator)\n",
        "coms_matrices"
      ],
      "metadata": {
        "colab": {
          "base_uri": "https://localhost:8080/"
        },
        "id": "Kzh0zlsgcBig",
        "outputId": "1d157d92-9818-441f-a4fa-b0692824920e"
      },
      "execution_count": 4,
      "outputs": [
        {
          "output_type": "execute_result",
          "data": {
            "text/plain": [
              "[array([[-1. ,  0. ,  0. ,  0. ],\n",
              "        [ 0. ,  0. ,  1. ,  0.5],\n",
              "        [ 0. ,  1. ,  0. ,  0. ],\n",
              "        [ 0. ,  0. ,  0. ,  1. ]]),\n",
              " array([[-0.5      ,  0.8660254,  0.       , -0.25     ],\n",
              "        [ 0.       ,  0.       ,  1.       ,  1.       ],\n",
              "        [ 0.8660254,  0.5      ,  0.       ,  0.4330127],\n",
              "        [ 0.       ,  0.       ,  0.       ,  1.       ]]),\n",
              " array([[ 0.96592583,  0.        ,  0.25881905, -0.01703709],\n",
              "        [ 0.        ,  1.        ,  0.        ,  1.        ],\n",
              "        [-0.25881905,  0.        ,  0.96592583,  0.73661588],\n",
              "        [ 0.        ,  0.        ,  0.        ,  1.        ]]),\n",
              " array([[-0.96592583,  0.25881905,  0.        ,  0.46592583],\n",
              "        [ 0.        ,  0.        ,  1.        ,  1.5       ],\n",
              "        [ 0.25881905,  0.96592583,  0.        ,  0.60720636],\n",
              "        [ 0.        ,  0.        ,  0.        ,  1.        ]]),\n",
              " array([[-0.8660254 ,  0.        ,  0.5       ,  0.46592583],\n",
              "        [ 0.        , -1.        ,  0.        ,  1.5       ],\n",
              "        [ 0.5       ,  0.        ,  0.8660254 ,  0.60720636],\n",
              "        [ 0.        ,  0.        ,  0.        ,  1.        ]]),\n",
              " array([[-0.8660254 ,  0.        ,  0.5       ,  0.71592583],\n",
              "        [ 0.        , -1.        ,  0.        ,  1.        ],\n",
              "        [ 0.5       ,  0.        ,  0.8660254 ,  1.04021906],\n",
              "        [ 0.        ,  0.        ,  0.        ,  1.        ]])]"
            ]
          },
          "metadata": {},
          "execution_count": 4
        }
      ]
    },
    {
      "cell_type": "code",
      "source": [
        "from sympy import symbols\n",
        "\n",
        "def calculate_com_symb(manipulator: Manipulator):\n",
        "    theta1, theta2, theta3, theta4, theta5, theta6 = symbols('theta1 theta2 theta3 theta4 theta5 theta6')\n",
        "    l = manipulator.l\n",
        "    lc = manipulator.lc\n",
        "\n",
        "    T_01 = rotate_z_sym(theta1) @ rotate_z(np.pi/2) @ rotate_x(np.pi/2)\n",
        "    com1 = T_01 @ translate_z(lc[0])\n",
        "\n",
        "    T_02 = T_01 @ translate_z(l[0]) @ rotate_z_sym(theta2)\n",
        "    com2 = T_02 @ translate_x(lc[1])\n",
        "\n",
        "    T_03 = T_02 @ translate_x(l[1]) @ rotate_z_sym(theta3) @ rotate_y(np.pi/2) @ rotate_z(np.pi/2)\n",
        "    com3 = T_03 @ translate_x(lc[2])\n",
        "\n",
        "    T_04 = T_03 @ translate_x(l[2]) @ rotate_z_sym(theta4) @ rotate_x(-np.pi/2) @ rotate_z(-np.pi)\n",
        "    com4 = T_04 @ translate_z(lc[3])\n",
        "\n",
        "    T_05 = T_04 @ translate_z(l[3]) @ rotate_z_sym(theta5) @ rotate_x(-np.pi/2)\n",
        "    com5 = T_05 @ translate_y(lc[4])\n",
        "\n",
        "    T_06 = T_05 @ translate_y(l[4]) @ rotate_z_sym(theta6)\n",
        "    com6 = T_06 @ translate_z(lc[5])\n",
        "    coms = [com1, com2, com3, com4, com5, com6]\n",
        "\n",
        "    return coms\n",
        "\n",
        "coms_matrices_symb = calculate_com_symb(manipulator)\n",
        "coms_matrices_symb"
      ],
      "metadata": {
        "id": "8sZlXv78favu"
      },
      "execution_count": null,
      "outputs": []
    },
    {
      "cell_type": "code",
      "source": [
        "# Let's assume that the manipulator's links are cylindrical\n",
        "\n",
        "class InertiaMatrixForCylinder:\n",
        "    def __init__(self, m, r, h):\n",
        "        self.m = m\n",
        "        self.r = r\n",
        "        self.h = h\n",
        "\n",
        "    def get_inertia_matrix(self):\n",
        "        I = np.array([[self.m*self.h**2/2 + self.m*self.r**2/4, 0, 0],\n",
        "                      [0, self.m*self.h**2/12 + self.m*self.r**2/4, 0],\n",
        "                      [0, 0, self.m*self.r**2/2]])\n",
        "        return I"
      ],
      "metadata": {
        "id": "qY79sURVvf72"
      },
      "execution_count": 6,
      "outputs": []
    },
    {
      "cell_type": "code",
      "source": [
        "# Example of usage\n",
        "\n",
        "l = [1 for _ in range(6)]\n",
        "m = [1 for _ in range(6)]\n",
        "# q = [np.pi/2, np.pi/3, np.pi/4, 0, np.pi/12, 0]\n",
        "\n",
        "manipulator = Manipulator(l, m)\n",
        "# manipulator.set_config(q)\n",
        "\n",
        "inertia_matrices = []\n",
        "\n",
        "\n",
        "for i in range(6):\n",
        "  inertia_matrix = InertiaMatrixForCylinder(manipulator.m[i], manipulator.r[i], manipulator.h[i])\n",
        "  inertia_matrices.append(inertia_matrix.get_inertia_matrix())\n",
        "\n",
        "inertia_matrices"
      ],
      "metadata": {
        "colab": {
          "base_uri": "https://localhost:8080/"
        },
        "id": "50eyazICwvTb",
        "outputId": "1d12297f-c573-4cf6-d560-9d4b91447168"
      },
      "execution_count": 10,
      "outputs": [
        {
          "output_type": "execute_result",
          "data": {
            "text/plain": [
              "[array([[0.500625  , 0.        , 0.        ],\n",
              "        [0.        , 0.08395833, 0.        ],\n",
              "        [0.        , 0.        , 0.00125   ]]),\n",
              " array([[0.500625  , 0.        , 0.        ],\n",
              "        [0.        , 0.08395833, 0.        ],\n",
              "        [0.        , 0.        , 0.00125   ]]),\n",
              " array([[0.500625  , 0.        , 0.        ],\n",
              "        [0.        , 0.08395833, 0.        ],\n",
              "        [0.        , 0.        , 0.00125   ]]),\n",
              " array([[0.500625  , 0.        , 0.        ],\n",
              "        [0.        , 0.08395833, 0.        ],\n",
              "        [0.        , 0.        , 0.00125   ]]),\n",
              " array([[0.500625  , 0.        , 0.        ],\n",
              "        [0.        , 0.08395833, 0.        ],\n",
              "        [0.        , 0.        , 0.00125   ]]),\n",
              " array([[0.500625  , 0.        , 0.        ],\n",
              "        [0.        , 0.08395833, 0.        ],\n",
              "        [0.        , 0.        , 0.00125   ]])]"
            ]
          },
          "metadata": {},
          "execution_count": 10
        }
      ]
    },
    {
      "cell_type": "code",
      "source": [
        "# CHECK\n",
        "\n",
        "# q1_symb, q2_symb, q3_symb, q4_symb, q5_symb, q6_symb = sp.symbols('theta1 theta2 theta3 theta4 theta5 theta6')\n",
        "# q_symb = [q1_symb, q2_symb, q3_symb, q4_symb, q5_symb, q6_symb]\n",
        "\n",
        "# print(sp.diff(coms_matrices_symb[0][:3, 3], q_symb[0]))\n",
        "# coms_matrices_symb[0][:3, 3]"
      ],
      "metadata": {
        "colab": {
          "base_uri": "https://localhost:8080/",
          "height": 96
        },
        "id": "6rtxEHH05ps3",
        "outputId": "02cfe9c4-6004-4af0-c9bd-827bd971fade"
      },
      "execution_count": 17,
      "outputs": [
        {
          "output_type": "stream",
          "name": "stdout",
          "text": [
            "Matrix([[-0.5*sin(theta1) + 3.06161699786838e-17*cos(theta1)], [3.06161699786838e-17*sin(theta1) + 0.5*cos(theta1)], [0]])\n"
          ]
        },
        {
          "output_type": "execute_result",
          "data": {
            "text/plain": [
              "Matrix([\n",
              "[3.06161699786838e-17*sin(theta1) + 0.5*cos(theta1)],\n",
              "[0.5*sin(theta1) - 3.06161699786838e-17*cos(theta1)],\n",
              "[                              3.06161699786838e-17]])"
            ],
            "text/latex": "$\\displaystyle \\left[\\begin{matrix}3.06161699786838 \\cdot 10^{-17} \\sin{\\left(\\theta_{1} \\right)} + 0.5 \\cos{\\left(\\theta_{1} \\right)}\\\\0.5 \\sin{\\left(\\theta_{1} \\right)} - 3.06161699786838 \\cdot 10^{-17} \\cos{\\left(\\theta_{1} \\right)}\\\\3.06161699786838 \\cdot 10^{-17}\\end{matrix}\\right]$"
          },
          "metadata": {},
          "execution_count": 17
        }
      ]
    },
    {
      "cell_type": "code",
      "source": [
        "q1_symb, q2_symb, q3_symb, q4_symb, q5_symb, q6_symb = sp.symbols('theta1 theta2 theta3 theta4 theta5 theta6')\n",
        "q_symb = [q1_symb, q2_symb, q3_symb, q4_symb, q5_symb, q6_symb]\n",
        "\n",
        "# def calculate_jacobian_v(com_symb):\n",
        "#     jacobian_v = sp.zeros(6, 3, 6)\n",
        "\n",
        "#     for k in range(6):\n",
        "#         for i in range(3):\n",
        "#             for j in range(6):\n",
        "#                 jacobian_v[k, i, j] = sp.diff(com_symb[k][i, 3], q_symb[j])\n",
        "\n",
        "#     return jacobian_v\n",
        "\n",
        "def calculate_jacobian_v(com_symb):\n",
        "    jacobian_v = []\n",
        "\n",
        "    for k in range(6):\n",
        "        row = []\n",
        "        for i in range(3):\n",
        "            col = []\n",
        "            for j in range(6):\n",
        "                col.append(sp.diff(com_symb[k][i, 3], q_symb[j]))\n",
        "            row.append(col)\n",
        "        jacobian_v.append(row)\n",
        "\n",
        "    return sp.Array(jacobian_v)\n",
        "\n",
        "\n",
        "# def calculate_jacobian_v(com_symb):\n",
        "#     jacobian_v = sp.Matrix()\n",
        "\n",
        "#     for k in range(6):\n",
        "#         row = []\n",
        "#         for i in range(3):\n",
        "#             col = []\n",
        "#             for j in range(6):\n",
        "#                 col.append(sp.diff(com_symb[k][i, 3], q_symb[j]))\n",
        "#             row.append(col)\n",
        "#         jacobian_v.append(row)\n",
        "\n",
        "#     # Convert the list of lists into a SymPy matrix\n",
        "#     # jacobian_v = sp.Matrix(jacobian_v)\n",
        "#     return jacobian_v\n",
        "\n",
        "jac_v = calculate_jacobian_v(coms_matrices_symb)\n",
        "jac_v = jac_v.subs({q1_symb: np.pi/12, q2_symb: np.pi/12, q3_symb: np.pi/12, q1_symb: np.pi/12, q1_symb: np.pi/12})\n",
        "jac_v\n"
      ],
      "metadata": {
        "colab": {
          "base_uri": "https://localhost:8080/",
          "height": 99
        },
        "id": "PS0IPNBHwLeh",
        "outputId": "6af239b1-fe43-47bc-8b7e-1036a2ac1164"
      },
      "execution_count": 31,
      "outputs": [
        {
          "output_type": "execute_result",
          "data": {
            "text/plain": [
              "[[[-0.12940952255126, 0, 0, 0, 0, 0], [0.482962913144534, 0, 0, 0, 0, 0], [0, 0, 0, 0, 0, 0]], [[-0.72532539604863, 0.0334936490538903, 0, 0, 0, 0], [0.840925826289068, -0.125, 0, 0, 0, 0], [0, 0.482962913144534, 0, 0, 0, 0]], [[-0.950350290422473, 0.179059232128787, 0.112071934021007, 0, 0, 0], [0.780630587564699, -0.668258151868904, -0.418258151868904, 0, 0, 0], [0, 0.715925826289068, -0.25, 0, 0, 0]], [[-0.241481456572267*sin(theta4) - 0.12940952255126*cos(theta4) - 0.708868833850206, -0.112071934021007*sin(theta4) + 2.90040282436426e-18*cos(theta4) + 0.291131166149794, -0.112071934021007*sin(theta4) + 2.90040282436426e-18*cos(theta4) + 0.224143868042013, -0.482962913144534*sin(theta4) - 0.0647047612756301*cos(theta4), 0, 0], [-0.0647047612756301*sin(theta4) + 0.482962913144534*cos(theta4) + 0.845335348840328, 0.418258151868904*sin(theta4) - 1.08244507029437e-17*cos(theta4) - 1.08651630373781, 0.418258151868904*sin(theta4) - 1.08244507029437e-17*cos(theta4) - 0.836516303737808, -0.12940952255126*sin(theta4) + 0.241481456572267*cos(theta4), 0, 0], [0, 0.25*sin(theta4) - 4.18224659574646e-17*cos(theta4) + 0.465925826289068, 0.25*sin(theta4) - 4.18224659574646e-17*cos(theta4) - 0.5, -4.18224659574646e-17*sin(theta4) - 0.433012701892219*cos(theta4), 0, 0]], [[3.06161699786838e-17*(-2.12324222985088e-18*sin(theta4) + 7.49939943260923e-17*cos(theta4) - 0.836516303737808)*cos(theta5) - 3.06161699786838e-17*(0.258819045102521*sin(theta4) - 0.482962913144534*cos(theta4) - 1.02443701380708e-16)*sin(theta5) - 0.241481456572267*sin(theta4) - 0.12940952255126*cos(theta4) - 0.708868833850206, -3.06161699786838e-17*(-5.80080564872851e-18*sin(theta4) - 0.224143868042013*cos(theta4) + 1.58480957571588e-17)*sin(theta5) + 3.06161699786838e-17*(1.37248535273079e-17*sin(theta4) + 2.74497070546158e-17*cos(theta4) + 0.12940952255126)*cos(theta5) - 0.112071934021007*sin(theta4) + 2.90040282436426e-18*cos(theta4) + 0.291131166149794, -3.06161699786838e-17*(-5.80080564872851e-18*sin(theta4) - 0.224143868042013*cos(theta4) + 1.58480957571588e-17)*sin(theta5) + 3.06161699786838e-17*(1.37248535273079e-17*sin(theta4) + 2.74497070546158e-17*cos(theta4) + 0.12940952255126)*cos(theta5) - 0.112071934021007*sin(theta4) + 2.90040282436426e-18*cos(theta4) + 0.224143868042013, 3.06161699786838e-17*(4.32978028117747e-17*sin(theta4) + 1.26215845016446e-16*cos(theta4))*cos(theta5) - 3.06161699786838e-17*(0.12940952255126*sin(theta4) - 0.965925826289068*cos(theta4))*sin(theta5) - 0.482962913144534*sin(theta4) - 0.0647047612756301*cos(theta4), -3.06161699786838e-17*(-0.965925826289068*sin(theta4) - 0.12940952255126*cos(theta4) - 2.74497070546158e-17)*cos(theta5) - 3.06161699786838e-17*(1.26215845016446e-16*sin(theta4) - 4.32978028117747e-17*cos(theta4) - 0.224143868042013)*sin(theta5), 0], [-3.06161699786838e-17*(-0.965925826289068*sin(theta4) - 0.12940952255126*cos(theta4) - 2.74497070546158e-17)*sin(theta5) + 3.06161699786838e-17*(1.26215845016446e-16*sin(theta4) - 4.32978028117747e-17*cos(theta4) - 0.224143868042013)*cos(theta5) - 0.0647047612756301*sin(theta4) + 0.482962913144534*cos(theta4) + 0.845335348840328, 3.06161699786838e-17*(-5.12218506903541e-17*sin(theta4) - 1.02443701380708e-16*cos(theta4) - 0.482962913144534)*cos(theta5) - 3.06161699786838e-17*(2.16489014058873e-17*sin(theta4) + 0.836516303737808*cos(theta4) - 5.91458985689335e-17)*sin(theta5) + 0.418258151868904*sin(theta4) - 1.08244507029437e-17*cos(theta4) - 1.08651630373781, 3.06161699786838e-17*(-5.12218506903541e-17*sin(theta4) - 1.02443701380708e-16*cos(theta4) - 0.482962913144534)*cos(theta5) - 3.06161699786838e-17*(2.16489014058873e-17*sin(theta4) + 0.836516303737808*cos(theta4) - 5.91458985689335e-17)*sin(theta5) + 0.418258151868904*sin(theta4) - 1.08244507029437e-17*cos(theta4) - 0.836516303737808, -3.06161699786838e-17*(-0.482962913144534*sin(theta4) - 0.258819045102521*cos(theta4))*sin(theta5) + 3.06161699786838e-17*(7.49939943260923e-17*sin(theta4) + 2.12324222985088e-18*cos(theta4))*cos(theta5) - 0.12940952255126*sin(theta4) + 0.241481456572267*cos(theta4), -3.06161699786838e-17*(-0.258819045102521*sin(theta4) + 0.482962913144534*cos(theta4) + 1.02443701380708e-16)*cos(theta5) - 3.06161699786838e-17*(2.12324222985088e-18*sin(theta4) - 7.49939943260923e-17*cos(theta4) + 0.836516303737808)*sin(theta5), 0], [0, 3.06161699786838e-17*(-3.06161699786838e-17*sin(theta4) - 6.12323399573676e-17*cos(theta4) + 0.866025403784439)*cos(theta5) - 3.06161699786838e-17*(8.36449319149292e-17*sin(theta4) + 0.5*cos(theta4) + 1.06057523872491e-16)*sin(theta5) + 0.25*sin(theta4) - 4.18224659574646e-17*cos(theta4) + 0.465925826289068, 3.06161699786838e-17*(-3.06161699786838e-17*sin(theta4) - 6.12323399573676e-17*cos(theta4) + 0.866025403784439)*cos(theta5) - 3.06161699786838e-17*(8.36449319149292e-17*sin(theta4) + 0.5*cos(theta4) + 1.06057523872491e-16)*sin(theta5) + 0.25*sin(theta4) - 4.18224659574646e-17*cos(theta4) - 0.5, 3.06161699786838e-17*(-1.06057523872491e-16*sin(theta4) + 5.30287619362454e-17*cos(theta4))*cos(theta5) - 3.06161699786838e-17*(0.866025403784439*sin(theta4) - 8.36449319149292e-17*cos(theta4))*sin(theta5) - 4.18224659574646e-17*sin(theta4) - 0.433012701892219*cos(theta4), -3.06161699786838e-17*(-8.36449319149292e-17*sin(theta4) - 0.866025403784439*cos(theta4) + 6.12323399573677e-17)*cos(theta5) - 3.06161699786838e-17*(5.30287619362454e-17*sin(theta4) + 1.06057523872491e-16*cos(theta4) + 0.5)*sin(theta5), 0]], [[0.5*(-2.12324222985088e-18*sin(theta4) + 7.49939943260923e-17*cos(theta4) - 0.836516303737808)*cos(theta5) - 0.5*(0.258819045102521*sin(theta4) - 0.482962913144534*cos(theta4) - 1.02443701380708e-16)*sin(theta5) - 1.47864746422334e-17*sin(theta4) - 7.92404787857941e-18*cos(theta4) - 0.708868833850206, -0.5*(-5.80080564872851e-18*sin(theta4) - 0.224143868042013*cos(theta4) + 1.58480957571588e-17)*sin(theta5) + 0.5*(1.37248535273079e-17*sin(theta4) + 2.74497070546158e-17*cos(theta4) + 0.12940952255126)*cos(theta5) - 6.86242676365396e-18*sin(theta4) + 1.77598451754782e-34*cos(theta4) + 0.291131166149794, -0.5*(-5.80080564872851e-18*sin(theta4) - 0.224143868042013*cos(theta4) + 1.58480957571588e-17)*sin(theta5) + 0.5*(1.37248535273079e-17*sin(theta4) + 2.74497070546158e-17*cos(theta4) + 0.12940952255126)*cos(theta5) - 6.86242676365396e-18*sin(theta4) + 1.77598451754782e-34*cos(theta4) + 0.224143868042013, 0.5*(4.32978028117747e-17*sin(theta4) + 1.26215845016446e-16*cos(theta4))*cos(theta5) - 0.5*(0.12940952255126*sin(theta4) - 0.965925826289068*cos(theta4))*sin(theta5) - 2.95729492844667e-17*sin(theta4) - 3.9620239392897e-18*cos(theta4), -0.5*(-0.965925826289068*sin(theta4) - 0.12940952255126*cos(theta4) - 2.74497070546158e-17)*cos(theta5) - 0.5*(1.26215845016446e-16*sin(theta4) - 4.32978028117747e-17*cos(theta4) - 0.224143868042013)*sin(theta5), 0], [-0.5*(-0.965925826289068*sin(theta4) - 0.12940952255126*cos(theta4) - 2.74497070546158e-17)*sin(theta5) + 0.5*(1.26215845016446e-16*sin(theta4) - 4.32978028117747e-17*cos(theta4) - 0.224143868042013)*cos(theta5) - 3.9620239392897e-18*sin(theta4) + 2.95729492844667e-17*cos(theta4) + 0.845335348840328, 0.5*(-5.12218506903541e-17*sin(theta4) - 1.02443701380708e-16*cos(theta4) - 0.482962913144534)*cos(theta5) - 0.5*(2.16489014058873e-17*sin(theta4) + 0.836516303737808*cos(theta4) - 5.91458985689335e-17)*sin(theta5) + 2.5610925345177e-17*sin(theta4) - 6.62806445294414e-34*cos(theta4) - 1.08651630373781, 0.5*(-5.12218506903541e-17*sin(theta4) - 1.02443701380708e-16*cos(theta4) - 0.482962913144534)*cos(theta5) - 0.5*(2.16489014058873e-17*sin(theta4) + 0.836516303737808*cos(theta4) - 5.91458985689335e-17)*sin(theta5) + 2.5610925345177e-17*sin(theta4) - 6.62806445294414e-34*cos(theta4) - 0.836516303737808, -0.5*(-0.482962913144534*sin(theta4) - 0.258819045102521*cos(theta4))*sin(theta5) + 0.5*(7.49939943260923e-17*sin(theta4) + 2.12324222985088e-18*cos(theta4))*cos(theta5) - 7.92404787857941e-18*sin(theta4) + 1.47864746422334e-17*cos(theta4), -0.5*(-0.258819045102521*sin(theta4) + 0.482962913144534*cos(theta4) + 1.02443701380708e-16)*cos(theta5) - 0.5*(2.12324222985088e-18*sin(theta4) - 7.49939943260923e-17*cos(theta4) + 0.836516303737808)*sin(theta5), 0], [0, 0.5*(-3.06161699786838e-17*sin(theta4) - 6.12323399573676e-17*cos(theta4) + 0.866025403784439)*cos(theta5) - 0.5*(8.36449319149292e-17*sin(theta4) + 0.5*cos(theta4) + 1.06057523872491e-16)*sin(theta5) + 1.53080849893419e-17*sin(theta4) - 2.56088745336291e-33*cos(theta4) + 0.465925826289068, 0.5*(-3.06161699786838e-17*sin(theta4) - 6.12323399573676e-17*cos(theta4) + 0.866025403784439)*cos(theta5) - 0.5*(8.36449319149292e-17*sin(theta4) + 0.5*cos(theta4) + 1.06057523872491e-16)*sin(theta5) + 1.53080849893419e-17*sin(theta4) - 2.56088745336291e-33*cos(theta4) - 0.5, 0.5*(-1.06057523872491e-16*sin(theta4) + 5.30287619362454e-17*cos(theta4))*cos(theta5) - 0.5*(0.866025403784439*sin(theta4) - 8.36449319149292e-17*cos(theta4))*sin(theta5) - 2.56088745336291e-33*sin(theta4) - 2.65143809681227e-17*cos(theta4), -0.5*(-8.36449319149292e-17*sin(theta4) - 0.866025403784439*cos(theta4) + 6.12323399573677e-17)*cos(theta5) - 0.5*(5.30287619362454e-17*sin(theta4) + 1.06057523872491e-16*cos(theta4) + 0.5)*sin(theta5), 0]]]"
            ],
            "text/latex": "$\\displaystyle \\left[\\begin{matrix}\\left[\\begin{matrix}-0.12940952255126 & 0 & 0 & 0 & 0 & 0\\\\0.482962913144534 & 0 & 0 & 0 & 0 & 0\\\\0 & 0 & 0 & 0 & 0 & 0\\end{matrix}\\right] & \\left[\\begin{matrix}-0.72532539604863 & 0.0334936490538903 & 0 & 0 & 0 & 0\\\\0.840925826289068 & -0.125 & 0 & 0 & 0 & 0\\\\0 & 0.482962913144534 & 0 & 0 & 0 & 0\\end{matrix}\\right] & \\left[\\begin{matrix}-0.950350290422473 & 0.179059232128787 & 0.112071934021007 & 0 & 0 & 0\\\\0.780630587564699 & -0.668258151868904 & -0.418258151868904 & 0 & 0 & 0\\\\0 & 0.715925826289068 & -0.25 & 0 & 0 & 0\\end{matrix}\\right] & \\left[\\begin{matrix}- 0.241481456572267 \\sin{\\left(\\theta_{4} \\right)} - 0.12940952255126 \\cos{\\left(\\theta_{4} \\right)} - 0.708868833850206 & - 0.112071934021007 \\sin{\\left(\\theta_{4} \\right)} + 2.90040282436426 \\cdot 10^{-18} \\cos{\\left(\\theta_{4} \\right)} + 0.291131166149794 & - 0.112071934021007 \\sin{\\left(\\theta_{4} \\right)} + 2.90040282436426 \\cdot 10^{-18} \\cos{\\left(\\theta_{4} \\right)} + 0.224143868042013 & - 0.482962913144534 \\sin{\\left(\\theta_{4} \\right)} - 0.0647047612756301 \\cos{\\left(\\theta_{4} \\right)} & 0 & 0\\\\- 0.0647047612756301 \\sin{\\left(\\theta_{4} \\right)} + 0.482962913144534 \\cos{\\left(\\theta_{4} \\right)} + 0.845335348840328 & 0.418258151868904 \\sin{\\left(\\theta_{4} \\right)} - 1.08244507029437 \\cdot 10^{-17} \\cos{\\left(\\theta_{4} \\right)} - 1.08651630373781 & 0.418258151868904 \\sin{\\left(\\theta_{4} \\right)} - 1.08244507029437 \\cdot 10^{-17} \\cos{\\left(\\theta_{4} \\right)} - 0.836516303737808 & - 0.12940952255126 \\sin{\\left(\\theta_{4} \\right)} + 0.241481456572267 \\cos{\\left(\\theta_{4} \\right)} & 0 & 0\\\\0 & 0.25 \\sin{\\left(\\theta_{4} \\right)} - 4.18224659574646 \\cdot 10^{-17} \\cos{\\left(\\theta_{4} \\right)} + 0.465925826289068 & 0.25 \\sin{\\left(\\theta_{4} \\right)} - 4.18224659574646 \\cdot 10^{-17} \\cos{\\left(\\theta_{4} \\right)} - 0.5 & - 4.18224659574646 \\cdot 10^{-17} \\sin{\\left(\\theta_{4} \\right)} - 0.433012701892219 \\cos{\\left(\\theta_{4} \\right)} & 0 & 0\\end{matrix}\\right] & \\left[\\begin{matrix}3.06161699786838 \\cdot 10^{-17} \\left(- 2.12324222985088 \\cdot 10^{-18} \\sin{\\left(\\theta_{4} \\right)} + 7.49939943260923 \\cdot 10^{-17} \\cos{\\left(\\theta_{4} \\right)} - 0.836516303737808\\right) \\cos{\\left(\\theta_{5} \\right)} - 3.06161699786838 \\cdot 10^{-17} \\cdot \\left(0.258819045102521 \\sin{\\left(\\theta_{4} \\right)} - 0.482962913144534 \\cos{\\left(\\theta_{4} \\right)} - 1.02443701380708 \\cdot 10^{-16}\\right) \\sin{\\left(\\theta_{5} \\right)} - 0.241481456572267 \\sin{\\left(\\theta_{4} \\right)} - 0.12940952255126 \\cos{\\left(\\theta_{4} \\right)} - 0.708868833850206 & - 3.06161699786838 \\cdot 10^{-17} \\left(- 5.80080564872851 \\cdot 10^{-18} \\sin{\\left(\\theta_{4} \\right)} - 0.224143868042013 \\cos{\\left(\\theta_{4} \\right)} + 1.58480957571588 \\cdot 10^{-17}\\right) \\sin{\\left(\\theta_{5} \\right)} + 3.06161699786838 \\cdot 10^{-17} \\cdot \\left(1.37248535273079 \\cdot 10^{-17} \\sin{\\left(\\theta_{4} \\right)} + 2.74497070546158 \\cdot 10^{-17} \\cos{\\left(\\theta_{4} \\right)} + 0.12940952255126\\right) \\cos{\\left(\\theta_{5} \\right)} - 0.112071934021007 \\sin{\\left(\\theta_{4} \\right)} + 2.90040282436426 \\cdot 10^{-18} \\cos{\\left(\\theta_{4} \\right)} + 0.291131166149794 & - 3.06161699786838 \\cdot 10^{-17} \\left(- 5.80080564872851 \\cdot 10^{-18} \\sin{\\left(\\theta_{4} \\right)} - 0.224143868042013 \\cos{\\left(\\theta_{4} \\right)} + 1.58480957571588 \\cdot 10^{-17}\\right) \\sin{\\left(\\theta_{5} \\right)} + 3.06161699786838 \\cdot 10^{-17} \\cdot \\left(1.37248535273079 \\cdot 10^{-17} \\sin{\\left(\\theta_{4} \\right)} + 2.74497070546158 \\cdot 10^{-17} \\cos{\\left(\\theta_{4} \\right)} + 0.12940952255126\\right) \\cos{\\left(\\theta_{5} \\right)} - 0.112071934021007 \\sin{\\left(\\theta_{4} \\right)} + 2.90040282436426 \\cdot 10^{-18} \\cos{\\left(\\theta_{4} \\right)} + 0.224143868042013 & 3.06161699786838 \\cdot 10^{-17} \\cdot \\left(4.32978028117747 \\cdot 10^{-17} \\sin{\\left(\\theta_{4} \\right)} + 1.26215845016446 \\cdot 10^{-16} \\cos{\\left(\\theta_{4} \\right)}\\right) \\cos{\\left(\\theta_{5} \\right)} - 3.06161699786838 \\cdot 10^{-17} \\cdot \\left(0.12940952255126 \\sin{\\left(\\theta_{4} \\right)} - 0.965925826289068 \\cos{\\left(\\theta_{4} \\right)}\\right) \\sin{\\left(\\theta_{5} \\right)} - 0.482962913144534 \\sin{\\left(\\theta_{4} \\right)} - 0.0647047612756301 \\cos{\\left(\\theta_{4} \\right)} & - 3.06161699786838 \\cdot 10^{-17} \\left(- 0.965925826289068 \\sin{\\left(\\theta_{4} \\right)} - 0.12940952255126 \\cos{\\left(\\theta_{4} \\right)} - 2.74497070546158 \\cdot 10^{-17}\\right) \\cos{\\left(\\theta_{5} \\right)} - 3.06161699786838 \\cdot 10^{-17} \\cdot \\left(1.26215845016446 \\cdot 10^{-16} \\sin{\\left(\\theta_{4} \\right)} - 4.32978028117747 \\cdot 10^{-17} \\cos{\\left(\\theta_{4} \\right)} - 0.224143868042013\\right) \\sin{\\left(\\theta_{5} \\right)} & 0\\\\- 3.06161699786838 \\cdot 10^{-17} \\left(- 0.965925826289068 \\sin{\\left(\\theta_{4} \\right)} - 0.12940952255126 \\cos{\\left(\\theta_{4} \\right)} - 2.74497070546158 \\cdot 10^{-17}\\right) \\sin{\\left(\\theta_{5} \\right)} + 3.06161699786838 \\cdot 10^{-17} \\cdot \\left(1.26215845016446 \\cdot 10^{-16} \\sin{\\left(\\theta_{4} \\right)} - 4.32978028117747 \\cdot 10^{-17} \\cos{\\left(\\theta_{4} \\right)} - 0.224143868042013\\right) \\cos{\\left(\\theta_{5} \\right)} - 0.0647047612756301 \\sin{\\left(\\theta_{4} \\right)} + 0.482962913144534 \\cos{\\left(\\theta_{4} \\right)} + 0.845335348840328 & 3.06161699786838 \\cdot 10^{-17} \\left(- 5.12218506903541 \\cdot 10^{-17} \\sin{\\left(\\theta_{4} \\right)} - 1.02443701380708 \\cdot 10^{-16} \\cos{\\left(\\theta_{4} \\right)} - 0.482962913144534\\right) \\cos{\\left(\\theta_{5} \\right)} - 3.06161699786838 \\cdot 10^{-17} \\cdot \\left(2.16489014058873 \\cdot 10^{-17} \\sin{\\left(\\theta_{4} \\right)} + 0.836516303737808 \\cos{\\left(\\theta_{4} \\right)} - 5.91458985689335 \\cdot 10^{-17}\\right) \\sin{\\left(\\theta_{5} \\right)} + 0.418258151868904 \\sin{\\left(\\theta_{4} \\right)} - 1.08244507029437 \\cdot 10^{-17} \\cos{\\left(\\theta_{4} \\right)} - 1.08651630373781 & 3.06161699786838 \\cdot 10^{-17} \\left(- 5.12218506903541 \\cdot 10^{-17} \\sin{\\left(\\theta_{4} \\right)} - 1.02443701380708 \\cdot 10^{-16} \\cos{\\left(\\theta_{4} \\right)} - 0.482962913144534\\right) \\cos{\\left(\\theta_{5} \\right)} - 3.06161699786838 \\cdot 10^{-17} \\cdot \\left(2.16489014058873 \\cdot 10^{-17} \\sin{\\left(\\theta_{4} \\right)} + 0.836516303737808 \\cos{\\left(\\theta_{4} \\right)} - 5.91458985689335 \\cdot 10^{-17}\\right) \\sin{\\left(\\theta_{5} \\right)} + 0.418258151868904 \\sin{\\left(\\theta_{4} \\right)} - 1.08244507029437 \\cdot 10^{-17} \\cos{\\left(\\theta_{4} \\right)} - 0.836516303737808 & - 3.06161699786838 \\cdot 10^{-17} \\left(- 0.482962913144534 \\sin{\\left(\\theta_{4} \\right)} - 0.258819045102521 \\cos{\\left(\\theta_{4} \\right)}\\right) \\sin{\\left(\\theta_{5} \\right)} + 3.06161699786838 \\cdot 10^{-17} \\cdot \\left(7.49939943260923 \\cdot 10^{-17} \\sin{\\left(\\theta_{4} \\right)} + 2.12324222985088 \\cdot 10^{-18} \\cos{\\left(\\theta_{4} \\right)}\\right) \\cos{\\left(\\theta_{5} \\right)} - 0.12940952255126 \\sin{\\left(\\theta_{4} \\right)} + 0.241481456572267 \\cos{\\left(\\theta_{4} \\right)} & - 3.06161699786838 \\cdot 10^{-17} \\left(- 0.258819045102521 \\sin{\\left(\\theta_{4} \\right)} + 0.482962913144534 \\cos{\\left(\\theta_{4} \\right)} + 1.02443701380708 \\cdot 10^{-16}\\right) \\cos{\\left(\\theta_{5} \\right)} - 3.06161699786838 \\cdot 10^{-17} \\cdot \\left(2.12324222985088 \\cdot 10^{-18} \\sin{\\left(\\theta_{4} \\right)} - 7.49939943260923 \\cdot 10^{-17} \\cos{\\left(\\theta_{4} \\right)} + 0.836516303737808\\right) \\sin{\\left(\\theta_{5} \\right)} & 0\\\\0 & 3.06161699786838 \\cdot 10^{-17} \\left(- 3.06161699786838 \\cdot 10^{-17} \\sin{\\left(\\theta_{4} \\right)} - 6.12323399573676 \\cdot 10^{-17} \\cos{\\left(\\theta_{4} \\right)} + 0.866025403784439\\right) \\cos{\\left(\\theta_{5} \\right)} - 3.06161699786838 \\cdot 10^{-17} \\cdot \\left(8.36449319149292 \\cdot 10^{-17} \\sin{\\left(\\theta_{4} \\right)} + 0.5 \\cos{\\left(\\theta_{4} \\right)} + 1.06057523872491 \\cdot 10^{-16}\\right) \\sin{\\left(\\theta_{5} \\right)} + 0.25 \\sin{\\left(\\theta_{4} \\right)} - 4.18224659574646 \\cdot 10^{-17} \\cos{\\left(\\theta_{4} \\right)} + 0.465925826289068 & 3.06161699786838 \\cdot 10^{-17} \\left(- 3.06161699786838 \\cdot 10^{-17} \\sin{\\left(\\theta_{4} \\right)} - 6.12323399573676 \\cdot 10^{-17} \\cos{\\left(\\theta_{4} \\right)} + 0.866025403784439\\right) \\cos{\\left(\\theta_{5} \\right)} - 3.06161699786838 \\cdot 10^{-17} \\cdot \\left(8.36449319149292 \\cdot 10^{-17} \\sin{\\left(\\theta_{4} \\right)} + 0.5 \\cos{\\left(\\theta_{4} \\right)} + 1.06057523872491 \\cdot 10^{-16}\\right) \\sin{\\left(\\theta_{5} \\right)} + 0.25 \\sin{\\left(\\theta_{4} \\right)} - 4.18224659574646 \\cdot 10^{-17} \\cos{\\left(\\theta_{4} \\right)} - 0.5 & 3.06161699786838 \\cdot 10^{-17} \\left(- 1.06057523872491 \\cdot 10^{-16} \\sin{\\left(\\theta_{4} \\right)} + 5.30287619362454 \\cdot 10^{-17} \\cos{\\left(\\theta_{4} \\right)}\\right) \\cos{\\left(\\theta_{5} \\right)} - 3.06161699786838 \\cdot 10^{-17} \\cdot \\left(0.866025403784439 \\sin{\\left(\\theta_{4} \\right)} - 8.36449319149292 \\cdot 10^{-17} \\cos{\\left(\\theta_{4} \\right)}\\right) \\sin{\\left(\\theta_{5} \\right)} - 4.18224659574646 \\cdot 10^{-17} \\sin{\\left(\\theta_{4} \\right)} - 0.433012701892219 \\cos{\\left(\\theta_{4} \\right)} & - 3.06161699786838 \\cdot 10^{-17} \\left(- 8.36449319149292 \\cdot 10^{-17} \\sin{\\left(\\theta_{4} \\right)} - 0.866025403784439 \\cos{\\left(\\theta_{4} \\right)} + 6.12323399573677 \\cdot 10^{-17}\\right) \\cos{\\left(\\theta_{5} \\right)} - 3.06161699786838 \\cdot 10^{-17} \\cdot \\left(5.30287619362454 \\cdot 10^{-17} \\sin{\\left(\\theta_{4} \\right)} + 1.06057523872491 \\cdot 10^{-16} \\cos{\\left(\\theta_{4} \\right)} + 0.5\\right) \\sin{\\left(\\theta_{5} \\right)} & 0\\end{matrix}\\right] & \\left[\\begin{matrix}0.5 \\left(- 2.12324222985088 \\cdot 10^{-18} \\sin{\\left(\\theta_{4} \\right)} + 7.49939943260923 \\cdot 10^{-17} \\cos{\\left(\\theta_{4} \\right)} - 0.836516303737808\\right) \\cos{\\left(\\theta_{5} \\right)} - 0.5 \\cdot \\left(0.258819045102521 \\sin{\\left(\\theta_{4} \\right)} - 0.482962913144534 \\cos{\\left(\\theta_{4} \\right)} - 1.02443701380708 \\cdot 10^{-16}\\right) \\sin{\\left(\\theta_{5} \\right)} - 1.47864746422334 \\cdot 10^{-17} \\sin{\\left(\\theta_{4} \\right)} - 7.92404787857941 \\cdot 10^{-18} \\cos{\\left(\\theta_{4} \\right)} - 0.708868833850206 & - 0.5 \\left(- 5.80080564872851 \\cdot 10^{-18} \\sin{\\left(\\theta_{4} \\right)} - 0.224143868042013 \\cos{\\left(\\theta_{4} \\right)} + 1.58480957571588 \\cdot 10^{-17}\\right) \\sin{\\left(\\theta_{5} \\right)} + 0.5 \\cdot \\left(1.37248535273079 \\cdot 10^{-17} \\sin{\\left(\\theta_{4} \\right)} + 2.74497070546158 \\cdot 10^{-17} \\cos{\\left(\\theta_{4} \\right)} + 0.12940952255126\\right) \\cos{\\left(\\theta_{5} \\right)} - 6.86242676365396 \\cdot 10^{-18} \\sin{\\left(\\theta_{4} \\right)} + 1.77598451754782 \\cdot 10^{-34} \\cos{\\left(\\theta_{4} \\right)} + 0.291131166149794 & - 0.5 \\left(- 5.80080564872851 \\cdot 10^{-18} \\sin{\\left(\\theta_{4} \\right)} - 0.224143868042013 \\cos{\\left(\\theta_{4} \\right)} + 1.58480957571588 \\cdot 10^{-17}\\right) \\sin{\\left(\\theta_{5} \\right)} + 0.5 \\cdot \\left(1.37248535273079 \\cdot 10^{-17} \\sin{\\left(\\theta_{4} \\right)} + 2.74497070546158 \\cdot 10^{-17} \\cos{\\left(\\theta_{4} \\right)} + 0.12940952255126\\right) \\cos{\\left(\\theta_{5} \\right)} - 6.86242676365396 \\cdot 10^{-18} \\sin{\\left(\\theta_{4} \\right)} + 1.77598451754782 \\cdot 10^{-34} \\cos{\\left(\\theta_{4} \\right)} + 0.224143868042013 & 0.5 \\cdot \\left(4.32978028117747 \\cdot 10^{-17} \\sin{\\left(\\theta_{4} \\right)} + 1.26215845016446 \\cdot 10^{-16} \\cos{\\left(\\theta_{4} \\right)}\\right) \\cos{\\left(\\theta_{5} \\right)} - 0.5 \\cdot \\left(0.12940952255126 \\sin{\\left(\\theta_{4} \\right)} - 0.965925826289068 \\cos{\\left(\\theta_{4} \\right)}\\right) \\sin{\\left(\\theta_{5} \\right)} - 2.95729492844667 \\cdot 10^{-17} \\sin{\\left(\\theta_{4} \\right)} - 3.9620239392897 \\cdot 10^{-18} \\cos{\\left(\\theta_{4} \\right)} & - 0.5 \\left(- 0.965925826289068 \\sin{\\left(\\theta_{4} \\right)} - 0.12940952255126 \\cos{\\left(\\theta_{4} \\right)} - 2.74497070546158 \\cdot 10^{-17}\\right) \\cos{\\left(\\theta_{5} \\right)} - 0.5 \\cdot \\left(1.26215845016446 \\cdot 10^{-16} \\sin{\\left(\\theta_{4} \\right)} - 4.32978028117747 \\cdot 10^{-17} \\cos{\\left(\\theta_{4} \\right)} - 0.224143868042013\\right) \\sin{\\left(\\theta_{5} \\right)} & 0\\\\- 0.5 \\left(- 0.965925826289068 \\sin{\\left(\\theta_{4} \\right)} - 0.12940952255126 \\cos{\\left(\\theta_{4} \\right)} - 2.74497070546158 \\cdot 10^{-17}\\right) \\sin{\\left(\\theta_{5} \\right)} + 0.5 \\cdot \\left(1.26215845016446 \\cdot 10^{-16} \\sin{\\left(\\theta_{4} \\right)} - 4.32978028117747 \\cdot 10^{-17} \\cos{\\left(\\theta_{4} \\right)} - 0.224143868042013\\right) \\cos{\\left(\\theta_{5} \\right)} - 3.9620239392897 \\cdot 10^{-18} \\sin{\\left(\\theta_{4} \\right)} + 2.95729492844667 \\cdot 10^{-17} \\cos{\\left(\\theta_{4} \\right)} + 0.845335348840328 & 0.5 \\left(- 5.12218506903541 \\cdot 10^{-17} \\sin{\\left(\\theta_{4} \\right)} - 1.02443701380708 \\cdot 10^{-16} \\cos{\\left(\\theta_{4} \\right)} - 0.482962913144534\\right) \\cos{\\left(\\theta_{5} \\right)} - 0.5 \\cdot \\left(2.16489014058873 \\cdot 10^{-17} \\sin{\\left(\\theta_{4} \\right)} + 0.836516303737808 \\cos{\\left(\\theta_{4} \\right)} - 5.91458985689335 \\cdot 10^{-17}\\right) \\sin{\\left(\\theta_{5} \\right)} + 2.5610925345177 \\cdot 10^{-17} \\sin{\\left(\\theta_{4} \\right)} - 6.62806445294414 \\cdot 10^{-34} \\cos{\\left(\\theta_{4} \\right)} - 1.08651630373781 & 0.5 \\left(- 5.12218506903541 \\cdot 10^{-17} \\sin{\\left(\\theta_{4} \\right)} - 1.02443701380708 \\cdot 10^{-16} \\cos{\\left(\\theta_{4} \\right)} - 0.482962913144534\\right) \\cos{\\left(\\theta_{5} \\right)} - 0.5 \\cdot \\left(2.16489014058873 \\cdot 10^{-17} \\sin{\\left(\\theta_{4} \\right)} + 0.836516303737808 \\cos{\\left(\\theta_{4} \\right)} - 5.91458985689335 \\cdot 10^{-17}\\right) \\sin{\\left(\\theta_{5} \\right)} + 2.5610925345177 \\cdot 10^{-17} \\sin{\\left(\\theta_{4} \\right)} - 6.62806445294414 \\cdot 10^{-34} \\cos{\\left(\\theta_{4} \\right)} - 0.836516303737808 & - 0.5 \\left(- 0.482962913144534 \\sin{\\left(\\theta_{4} \\right)} - 0.258819045102521 \\cos{\\left(\\theta_{4} \\right)}\\right) \\sin{\\left(\\theta_{5} \\right)} + 0.5 \\cdot \\left(7.49939943260923 \\cdot 10^{-17} \\sin{\\left(\\theta_{4} \\right)} + 2.12324222985088 \\cdot 10^{-18} \\cos{\\left(\\theta_{4} \\right)}\\right) \\cos{\\left(\\theta_{5} \\right)} - 7.92404787857941 \\cdot 10^{-18} \\sin{\\left(\\theta_{4} \\right)} + 1.47864746422334 \\cdot 10^{-17} \\cos{\\left(\\theta_{4} \\right)} & - 0.5 \\left(- 0.258819045102521 \\sin{\\left(\\theta_{4} \\right)} + 0.482962913144534 \\cos{\\left(\\theta_{4} \\right)} + 1.02443701380708 \\cdot 10^{-16}\\right) \\cos{\\left(\\theta_{5} \\right)} - 0.5 \\cdot \\left(2.12324222985088 \\cdot 10^{-18} \\sin{\\left(\\theta_{4} \\right)} - 7.49939943260923 \\cdot 10^{-17} \\cos{\\left(\\theta_{4} \\right)} + 0.836516303737808\\right) \\sin{\\left(\\theta_{5} \\right)} & 0\\\\0 & 0.5 \\left(- 3.06161699786838 \\cdot 10^{-17} \\sin{\\left(\\theta_{4} \\right)} - 6.12323399573676 \\cdot 10^{-17} \\cos{\\left(\\theta_{4} \\right)} + 0.866025403784439\\right) \\cos{\\left(\\theta_{5} \\right)} - 0.5 \\cdot \\left(8.36449319149292 \\cdot 10^{-17} \\sin{\\left(\\theta_{4} \\right)} + 0.5 \\cos{\\left(\\theta_{4} \\right)} + 1.06057523872491 \\cdot 10^{-16}\\right) \\sin{\\left(\\theta_{5} \\right)} + 1.53080849893419 \\cdot 10^{-17} \\sin{\\left(\\theta_{4} \\right)} - 2.56088745336291 \\cdot 10^{-33} \\cos{\\left(\\theta_{4} \\right)} + 0.465925826289068 & 0.5 \\left(- 3.06161699786838 \\cdot 10^{-17} \\sin{\\left(\\theta_{4} \\right)} - 6.12323399573676 \\cdot 10^{-17} \\cos{\\left(\\theta_{4} \\right)} + 0.866025403784439\\right) \\cos{\\left(\\theta_{5} \\right)} - 0.5 \\cdot \\left(8.36449319149292 \\cdot 10^{-17} \\sin{\\left(\\theta_{4} \\right)} + 0.5 \\cos{\\left(\\theta_{4} \\right)} + 1.06057523872491 \\cdot 10^{-16}\\right) \\sin{\\left(\\theta_{5} \\right)} + 1.53080849893419 \\cdot 10^{-17} \\sin{\\left(\\theta_{4} \\right)} - 2.56088745336291 \\cdot 10^{-33} \\cos{\\left(\\theta_{4} \\right)} - 0.5 & 0.5 \\left(- 1.06057523872491 \\cdot 10^{-16} \\sin{\\left(\\theta_{4} \\right)} + 5.30287619362454 \\cdot 10^{-17} \\cos{\\left(\\theta_{4} \\right)}\\right) \\cos{\\left(\\theta_{5} \\right)} - 0.5 \\cdot \\left(0.866025403784439 \\sin{\\left(\\theta_{4} \\right)} - 8.36449319149292 \\cdot 10^{-17} \\cos{\\left(\\theta_{4} \\right)}\\right) \\sin{\\left(\\theta_{5} \\right)} - 2.56088745336291 \\cdot 10^{-33} \\sin{\\left(\\theta_{4} \\right)} - 2.65143809681227 \\cdot 10^{-17} \\cos{\\left(\\theta_{4} \\right)} & - 0.5 \\left(- 8.36449319149292 \\cdot 10^{-17} \\sin{\\left(\\theta_{4} \\right)} - 0.866025403784439 \\cos{\\left(\\theta_{4} \\right)} + 6.12323399573677 \\cdot 10^{-17}\\right) \\cos{\\left(\\theta_{5} \\right)} - 0.5 \\cdot \\left(5.30287619362454 \\cdot 10^{-17} \\sin{\\left(\\theta_{4} \\right)} + 1.06057523872491 \\cdot 10^{-16} \\cos{\\left(\\theta_{4} \\right)} + 0.5\\right) \\sin{\\left(\\theta_{5} \\right)} & 0\\end{matrix}\\right]\\end{matrix}\\right]$"
          },
          "metadata": {},
          "execution_count": 31
        }
      ]
    },
    {
      "cell_type": "code",
      "source": [
        "def calculate_jacobian_w(coms):\n",
        "    jacobian_w = np.zeros((6, 3, 6))\n",
        "    u = [np.array([0, 0, 1]),  coms[0][:3, 2],  coms[1][:3, 2], coms[2][:3, 2],  coms[3][:3, 2],  coms[4][:3, 2]]\n",
        "    # print(\"u\", u)\n",
        "    # u = np.array([[0, 0, 1], coms[0, :3, 2], coms[1, :3, 2], coms[2, :3, 2], coms[3, :3, 2], coms[4, :3, 2]])  # Enclosed the array elements in double square brackets\n",
        "    for i in range(6):\n",
        "      for j in range(i+1):\n",
        "        # print(\"u[j]\", u[j])\n",
        "        jacobian_w[i][:, j] = u[j]  # Corrected the assignment\n",
        "    return jacobian_w\n",
        "\n",
        "coms_matrices = calculate_com(manipulator)\n",
        "jac_w = calculate_jacobian_w(coms_matrices)\n",
        "print(\"jac\", jac_w)"
      ],
      "metadata": {
        "id": "GkJYWxmYwjmW"
      },
      "execution_count": null,
      "outputs": []
    },
    {
      "cell_type": "code",
      "source": [],
      "metadata": {
        "id": "fAiV6HnM_NiF"
      },
      "execution_count": null,
      "outputs": []
    }
  ]
}